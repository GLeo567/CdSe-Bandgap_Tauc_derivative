{
 "cells": [
  {
   "cell_type": "markdown",
   "metadata": {},
   "source": [
    "# Band Gaps of CdSe Thin Films"
   ]
  },
  {
   "cell_type": "markdown",
   "metadata": {},
   "source": [
    "## Importing libraries"
   ]
  },
  {
   "cell_type": "code",
   "execution_count": 73,
   "metadata": {},
   "outputs": [],
   "source": [
    "import pandas as pd\n",
    "import numpy as np\n",
    "import matplotlib.pyplot as plt\n",
    "import seaborn as sns\n",
    "import plotly.express as px\n",
    "from scipy.stats import linregress"
   ]
  },
  {
   "cell_type": "markdown",
   "metadata": {},
   "source": [
    "## Creating dataframes"
   ]
  },
  {
   "cell_type": "code",
   "execution_count": 74,
   "metadata": {},
   "outputs": [
    {
     "data": {
      "text/plain": [
       "{'Hoja1':      No.  Wavelength   Trans1   Trans2  Trans3  Trans4  Trans5  Trans6  \\\n",
       " 0      1         950  66.9336  72.6834 -0.7428     NaN     NaN     NaN   \n",
       " 1      2         947  66.8647  72.4585     NaN     NaN     NaN     NaN   \n",
       " 2      3         944  66.9890  72.4940     NaN     NaN     NaN     NaN   \n",
       " 3      4         941  67.0649  72.5565     NaN     NaN     NaN     NaN   \n",
       " 4      5         938  66.8673  72.1641     NaN     NaN     NaN     NaN   \n",
       " ..   ...         ...      ...      ...     ...     ...     ...     ...   \n",
       " 179  180         413   0.8324   1.4039     NaN     NaN     NaN     NaN   \n",
       " 180  181         410   0.7739   1.3175     NaN     NaN     NaN     NaN   \n",
       " 181  182         407   0.7091   1.2327     NaN     NaN     NaN     NaN   \n",
       " 182  183         404   0.6560   1.1463     NaN     NaN     NaN     NaN   \n",
       " 183  184         401   0.6089   1.0655     NaN     NaN     NaN     NaN   \n",
       " \n",
       "      Visible  Remark  \n",
       " 0          0     NaN  \n",
       " 1          1     NaN  \n",
       " 2          0     NaN  \n",
       " 3          0     NaN  \n",
       " 4          0     NaN  \n",
       " ..       ...     ...  \n",
       " 179        0     NaN  \n",
       " 180        0     NaN  \n",
       " 181        0     NaN  \n",
       " 182        0     NaN  \n",
       " 183       -1     NaN  \n",
       " \n",
       " [184 rows x 10 columns],\n",
       " 'Hoja2':      No.  Wavelength   Trans3   Trans4   Trans5   Trans6  Visible\n",
       " 0      1         900  66.0127  49.8294  41.9016  66.1744        0\n",
       " 1      2         897  65.9223  49.6293  41.8335  66.0067        0\n",
       " 2      3         894  66.3274  49.5752  41.8938  65.9867        0\n",
       " 3      4         891  66.3664  49.4612  41.9758  65.9247        0\n",
       " 4      5         888  66.3369  49.1999  41.8843  65.8270        0\n",
       " ..   ...         ...      ...      ...      ...      ...      ...\n",
       " 162  163         414   0.4742   0.1786   1.4596   0.3757        0\n",
       " 163  164         411   0.4425   0.1707   1.3845   0.3477        0\n",
       " 164  165         408   0.4111   0.1632   1.3118   0.3263        0\n",
       " 165  166         405   0.3742   0.1565   1.2383   0.2994        0\n",
       " 166  167         402   0.3492   0.1425   1.1545   0.2779       -1\n",
       " \n",
       " [167 rows x 7 columns]}"
      ]
     },
     "execution_count": 74,
     "metadata": {},
     "output_type": "execute_result"
    }
   ],
   "source": [
    "df = pd.read_excel(\"CdSe_1.xlsx\", sheet_name=None, engine=\"openpyxl\", skiprows=12)\n",
    "df"
   ]
  },
  {
   "cell_type": "markdown",
   "metadata": {},
   "source": [
    "### Creating dataframes for each sheet and dropping columns that we are not interested in"
   ]
  },
  {
   "cell_type": "markdown",
   "metadata": {},
   "source": [
    "As we see, each sheet has a different number of rows because of the measures taken, so we will create different dataframes for each one."
   ]
  },
  {
   "cell_type": "code",
   "execution_count": 75,
   "metadata": {},
   "outputs": [],
   "source": [
    "m_1 = df[\"Hoja1\"]\n",
    "m_2 = df[\"Hoja2\"]"
   ]
  },
  {
   "cell_type": "code",
   "execution_count": 76,
   "metadata": {},
   "outputs": [
    {
     "data": {
      "text/html": [
       "<div>\n",
       "<style scoped>\n",
       "    .dataframe tbody tr th:only-of-type {\n",
       "        vertical-align: middle;\n",
       "    }\n",
       "\n",
       "    .dataframe tbody tr th {\n",
       "        vertical-align: top;\n",
       "    }\n",
       "\n",
       "    .dataframe thead th {\n",
       "        text-align: right;\n",
       "    }\n",
       "</style>\n",
       "<table border=\"1\" class=\"dataframe\">\n",
       "  <thead>\n",
       "    <tr style=\"text-align: right;\">\n",
       "      <th></th>\n",
       "      <th>No.</th>\n",
       "      <th>Wavelength</th>\n",
       "      <th>Trans1</th>\n",
       "      <th>Trans2</th>\n",
       "      <th>Trans3</th>\n",
       "      <th>Trans4</th>\n",
       "      <th>Trans5</th>\n",
       "      <th>Trans6</th>\n",
       "      <th>Visible</th>\n",
       "      <th>Remark</th>\n",
       "    </tr>\n",
       "  </thead>\n",
       "  <tbody>\n",
       "    <tr>\n",
       "      <th>0</th>\n",
       "      <td>1</td>\n",
       "      <td>950</td>\n",
       "      <td>66.9336</td>\n",
       "      <td>72.6834</td>\n",
       "      <td>-0.7428</td>\n",
       "      <td>NaN</td>\n",
       "      <td>NaN</td>\n",
       "      <td>NaN</td>\n",
       "      <td>0</td>\n",
       "      <td>NaN</td>\n",
       "    </tr>\n",
       "    <tr>\n",
       "      <th>1</th>\n",
       "      <td>2</td>\n",
       "      <td>947</td>\n",
       "      <td>66.8647</td>\n",
       "      <td>72.4585</td>\n",
       "      <td>NaN</td>\n",
       "      <td>NaN</td>\n",
       "      <td>NaN</td>\n",
       "      <td>NaN</td>\n",
       "      <td>1</td>\n",
       "      <td>NaN</td>\n",
       "    </tr>\n",
       "    <tr>\n",
       "      <th>2</th>\n",
       "      <td>3</td>\n",
       "      <td>944</td>\n",
       "      <td>66.9890</td>\n",
       "      <td>72.4940</td>\n",
       "      <td>NaN</td>\n",
       "      <td>NaN</td>\n",
       "      <td>NaN</td>\n",
       "      <td>NaN</td>\n",
       "      <td>0</td>\n",
       "      <td>NaN</td>\n",
       "    </tr>\n",
       "    <tr>\n",
       "      <th>3</th>\n",
       "      <td>4</td>\n",
       "      <td>941</td>\n",
       "      <td>67.0649</td>\n",
       "      <td>72.5565</td>\n",
       "      <td>NaN</td>\n",
       "      <td>NaN</td>\n",
       "      <td>NaN</td>\n",
       "      <td>NaN</td>\n",
       "      <td>0</td>\n",
       "      <td>NaN</td>\n",
       "    </tr>\n",
       "    <tr>\n",
       "      <th>4</th>\n",
       "      <td>5</td>\n",
       "      <td>938</td>\n",
       "      <td>66.8673</td>\n",
       "      <td>72.1641</td>\n",
       "      <td>NaN</td>\n",
       "      <td>NaN</td>\n",
       "      <td>NaN</td>\n",
       "      <td>NaN</td>\n",
       "      <td>0</td>\n",
       "      <td>NaN</td>\n",
       "    </tr>\n",
       "  </tbody>\n",
       "</table>\n",
       "</div>"
      ],
      "text/plain": [
       "   No.  Wavelength   Trans1   Trans2  Trans3  Trans4  Trans5  Trans6  Visible  \\\n",
       "0    1         950  66.9336  72.6834 -0.7428     NaN     NaN     NaN        0   \n",
       "1    2         947  66.8647  72.4585     NaN     NaN     NaN     NaN        1   \n",
       "2    3         944  66.9890  72.4940     NaN     NaN     NaN     NaN        0   \n",
       "3    4         941  67.0649  72.5565     NaN     NaN     NaN     NaN        0   \n",
       "4    5         938  66.8673  72.1641     NaN     NaN     NaN     NaN        0   \n",
       "\n",
       "   Remark  \n",
       "0     NaN  \n",
       "1     NaN  \n",
       "2     NaN  \n",
       "3     NaN  \n",
       "4     NaN  "
      ]
     },
     "execution_count": 76,
     "metadata": {},
     "output_type": "execute_result"
    }
   ],
   "source": [
    "m_1.head()"
   ]
  },
  {
   "cell_type": "code",
   "execution_count": 77,
   "metadata": {},
   "outputs": [
    {
     "data": {
      "text/html": [
       "<div>\n",
       "<style scoped>\n",
       "    .dataframe tbody tr th:only-of-type {\n",
       "        vertical-align: middle;\n",
       "    }\n",
       "\n",
       "    .dataframe tbody tr th {\n",
       "        vertical-align: top;\n",
       "    }\n",
       "\n",
       "    .dataframe thead th {\n",
       "        text-align: right;\n",
       "    }\n",
       "</style>\n",
       "<table border=\"1\" class=\"dataframe\">\n",
       "  <thead>\n",
       "    <tr style=\"text-align: right;\">\n",
       "      <th></th>\n",
       "      <th>No.</th>\n",
       "      <th>Wavelength</th>\n",
       "      <th>Trans3</th>\n",
       "      <th>Trans4</th>\n",
       "      <th>Trans5</th>\n",
       "      <th>Trans6</th>\n",
       "      <th>Visible</th>\n",
       "    </tr>\n",
       "  </thead>\n",
       "  <tbody>\n",
       "    <tr>\n",
       "      <th>0</th>\n",
       "      <td>1</td>\n",
       "      <td>900</td>\n",
       "      <td>66.0127</td>\n",
       "      <td>49.8294</td>\n",
       "      <td>41.9016</td>\n",
       "      <td>66.1744</td>\n",
       "      <td>0</td>\n",
       "    </tr>\n",
       "    <tr>\n",
       "      <th>1</th>\n",
       "      <td>2</td>\n",
       "      <td>897</td>\n",
       "      <td>65.9223</td>\n",
       "      <td>49.6293</td>\n",
       "      <td>41.8335</td>\n",
       "      <td>66.0067</td>\n",
       "      <td>0</td>\n",
       "    </tr>\n",
       "    <tr>\n",
       "      <th>2</th>\n",
       "      <td>3</td>\n",
       "      <td>894</td>\n",
       "      <td>66.3274</td>\n",
       "      <td>49.5752</td>\n",
       "      <td>41.8938</td>\n",
       "      <td>65.9867</td>\n",
       "      <td>0</td>\n",
       "    </tr>\n",
       "    <tr>\n",
       "      <th>3</th>\n",
       "      <td>4</td>\n",
       "      <td>891</td>\n",
       "      <td>66.3664</td>\n",
       "      <td>49.4612</td>\n",
       "      <td>41.9758</td>\n",
       "      <td>65.9247</td>\n",
       "      <td>0</td>\n",
       "    </tr>\n",
       "    <tr>\n",
       "      <th>4</th>\n",
       "      <td>5</td>\n",
       "      <td>888</td>\n",
       "      <td>66.3369</td>\n",
       "      <td>49.1999</td>\n",
       "      <td>41.8843</td>\n",
       "      <td>65.8270</td>\n",
       "      <td>0</td>\n",
       "    </tr>\n",
       "  </tbody>\n",
       "</table>\n",
       "</div>"
      ],
      "text/plain": [
       "   No.  Wavelength   Trans3   Trans4   Trans5   Trans6  Visible\n",
       "0    1         900  66.0127  49.8294  41.9016  66.1744        0\n",
       "1    2         897  65.9223  49.6293  41.8335  66.0067        0\n",
       "2    3         894  66.3274  49.5752  41.8938  65.9867        0\n",
       "3    4         891  66.3664  49.4612  41.9758  65.9247        0\n",
       "4    5         888  66.3369  49.1999  41.8843  65.8270        0"
      ]
     },
     "execution_count": 77,
     "metadata": {},
     "output_type": "execute_result"
    }
   ],
   "source": [
    "m_2.head()"
   ]
  },
  {
   "cell_type": "markdown",
   "metadata": {},
   "source": [
    "We will only need the columns where the measures of transmittances are located, so we will drop any other column in the dataframes."
   ]
  },
  {
   "cell_type": "code",
   "execution_count": 78,
   "metadata": {},
   "outputs": [
    {
     "data": {
      "text/html": [
       "<div>\n",
       "<style scoped>\n",
       "    .dataframe tbody tr th:only-of-type {\n",
       "        vertical-align: middle;\n",
       "    }\n",
       "\n",
       "    .dataframe tbody tr th {\n",
       "        vertical-align: top;\n",
       "    }\n",
       "\n",
       "    .dataframe thead th {\n",
       "        text-align: right;\n",
       "    }\n",
       "</style>\n",
       "<table border=\"1\" class=\"dataframe\">\n",
       "  <thead>\n",
       "    <tr style=\"text-align: right;\">\n",
       "      <th></th>\n",
       "      <th>Wavelength</th>\n",
       "      <th>Trans1</th>\n",
       "      <th>Trans2</th>\n",
       "      <th>Trans3</th>\n",
       "      <th>Trans4</th>\n",
       "      <th>Trans5</th>\n",
       "      <th>Trans6</th>\n",
       "    </tr>\n",
       "  </thead>\n",
       "  <tbody>\n",
       "    <tr>\n",
       "      <th>0</th>\n",
       "      <td>950</td>\n",
       "      <td>66.9336</td>\n",
       "      <td>72.6834</td>\n",
       "      <td>-0.7428</td>\n",
       "      <td>NaN</td>\n",
       "      <td>NaN</td>\n",
       "      <td>NaN</td>\n",
       "    </tr>\n",
       "    <tr>\n",
       "      <th>1</th>\n",
       "      <td>947</td>\n",
       "      <td>66.8647</td>\n",
       "      <td>72.4585</td>\n",
       "      <td>NaN</td>\n",
       "      <td>NaN</td>\n",
       "      <td>NaN</td>\n",
       "      <td>NaN</td>\n",
       "    </tr>\n",
       "    <tr>\n",
       "      <th>2</th>\n",
       "      <td>944</td>\n",
       "      <td>66.9890</td>\n",
       "      <td>72.4940</td>\n",
       "      <td>NaN</td>\n",
       "      <td>NaN</td>\n",
       "      <td>NaN</td>\n",
       "      <td>NaN</td>\n",
       "    </tr>\n",
       "    <tr>\n",
       "      <th>3</th>\n",
       "      <td>941</td>\n",
       "      <td>67.0649</td>\n",
       "      <td>72.5565</td>\n",
       "      <td>NaN</td>\n",
       "      <td>NaN</td>\n",
       "      <td>NaN</td>\n",
       "      <td>NaN</td>\n",
       "    </tr>\n",
       "    <tr>\n",
       "      <th>4</th>\n",
       "      <td>938</td>\n",
       "      <td>66.8673</td>\n",
       "      <td>72.1641</td>\n",
       "      <td>NaN</td>\n",
       "      <td>NaN</td>\n",
       "      <td>NaN</td>\n",
       "      <td>NaN</td>\n",
       "    </tr>\n",
       "    <tr>\n",
       "      <th>...</th>\n",
       "      <td>...</td>\n",
       "      <td>...</td>\n",
       "      <td>...</td>\n",
       "      <td>...</td>\n",
       "      <td>...</td>\n",
       "      <td>...</td>\n",
       "      <td>...</td>\n",
       "    </tr>\n",
       "    <tr>\n",
       "      <th>179</th>\n",
       "      <td>413</td>\n",
       "      <td>0.8324</td>\n",
       "      <td>1.4039</td>\n",
       "      <td>NaN</td>\n",
       "      <td>NaN</td>\n",
       "      <td>NaN</td>\n",
       "      <td>NaN</td>\n",
       "    </tr>\n",
       "    <tr>\n",
       "      <th>180</th>\n",
       "      <td>410</td>\n",
       "      <td>0.7739</td>\n",
       "      <td>1.3175</td>\n",
       "      <td>NaN</td>\n",
       "      <td>NaN</td>\n",
       "      <td>NaN</td>\n",
       "      <td>NaN</td>\n",
       "    </tr>\n",
       "    <tr>\n",
       "      <th>181</th>\n",
       "      <td>407</td>\n",
       "      <td>0.7091</td>\n",
       "      <td>1.2327</td>\n",
       "      <td>NaN</td>\n",
       "      <td>NaN</td>\n",
       "      <td>NaN</td>\n",
       "      <td>NaN</td>\n",
       "    </tr>\n",
       "    <tr>\n",
       "      <th>182</th>\n",
       "      <td>404</td>\n",
       "      <td>0.6560</td>\n",
       "      <td>1.1463</td>\n",
       "      <td>NaN</td>\n",
       "      <td>NaN</td>\n",
       "      <td>NaN</td>\n",
       "      <td>NaN</td>\n",
       "    </tr>\n",
       "    <tr>\n",
       "      <th>183</th>\n",
       "      <td>401</td>\n",
       "      <td>0.6089</td>\n",
       "      <td>1.0655</td>\n",
       "      <td>NaN</td>\n",
       "      <td>NaN</td>\n",
       "      <td>NaN</td>\n",
       "      <td>NaN</td>\n",
       "    </tr>\n",
       "  </tbody>\n",
       "</table>\n",
       "<p>184 rows × 7 columns</p>\n",
       "</div>"
      ],
      "text/plain": [
       "     Wavelength   Trans1   Trans2  Trans3  Trans4  Trans5  Trans6\n",
       "0           950  66.9336  72.6834 -0.7428     NaN     NaN     NaN\n",
       "1           947  66.8647  72.4585     NaN     NaN     NaN     NaN\n",
       "2           944  66.9890  72.4940     NaN     NaN     NaN     NaN\n",
       "3           941  67.0649  72.5565     NaN     NaN     NaN     NaN\n",
       "4           938  66.8673  72.1641     NaN     NaN     NaN     NaN\n",
       "..          ...      ...      ...     ...     ...     ...     ...\n",
       "179         413   0.8324   1.4039     NaN     NaN     NaN     NaN\n",
       "180         410   0.7739   1.3175     NaN     NaN     NaN     NaN\n",
       "181         407   0.7091   1.2327     NaN     NaN     NaN     NaN\n",
       "182         404   0.6560   1.1463     NaN     NaN     NaN     NaN\n",
       "183         401   0.6089   1.0655     NaN     NaN     NaN     NaN\n",
       "\n",
       "[184 rows x 7 columns]"
      ]
     },
     "execution_count": 78,
     "metadata": {},
     "output_type": "execute_result"
    }
   ],
   "source": [
    "m_1.drop([\"No.\", \"Visible\", \"Remark\"], axis=1, inplace=True)\n",
    "m_1"
   ]
  },
  {
   "cell_type": "code",
   "execution_count": 79,
   "metadata": {},
   "outputs": [
    {
     "data": {
      "text/html": [
       "<div>\n",
       "<style scoped>\n",
       "    .dataframe tbody tr th:only-of-type {\n",
       "        vertical-align: middle;\n",
       "    }\n",
       "\n",
       "    .dataframe tbody tr th {\n",
       "        vertical-align: top;\n",
       "    }\n",
       "\n",
       "    .dataframe thead th {\n",
       "        text-align: right;\n",
       "    }\n",
       "</style>\n",
       "<table border=\"1\" class=\"dataframe\">\n",
       "  <thead>\n",
       "    <tr style=\"text-align: right;\">\n",
       "      <th></th>\n",
       "      <th>Wavelength</th>\n",
       "      <th>Trans3</th>\n",
       "      <th>Trans4</th>\n",
       "      <th>Trans5</th>\n",
       "      <th>Trans6</th>\n",
       "    </tr>\n",
       "  </thead>\n",
       "  <tbody>\n",
       "    <tr>\n",
       "      <th>0</th>\n",
       "      <td>900</td>\n",
       "      <td>66.0127</td>\n",
       "      <td>49.8294</td>\n",
       "      <td>41.9016</td>\n",
       "      <td>66.1744</td>\n",
       "    </tr>\n",
       "    <tr>\n",
       "      <th>1</th>\n",
       "      <td>897</td>\n",
       "      <td>65.9223</td>\n",
       "      <td>49.6293</td>\n",
       "      <td>41.8335</td>\n",
       "      <td>66.0067</td>\n",
       "    </tr>\n",
       "    <tr>\n",
       "      <th>2</th>\n",
       "      <td>894</td>\n",
       "      <td>66.3274</td>\n",
       "      <td>49.5752</td>\n",
       "      <td>41.8938</td>\n",
       "      <td>65.9867</td>\n",
       "    </tr>\n",
       "    <tr>\n",
       "      <th>3</th>\n",
       "      <td>891</td>\n",
       "      <td>66.3664</td>\n",
       "      <td>49.4612</td>\n",
       "      <td>41.9758</td>\n",
       "      <td>65.9247</td>\n",
       "    </tr>\n",
       "    <tr>\n",
       "      <th>4</th>\n",
       "      <td>888</td>\n",
       "      <td>66.3369</td>\n",
       "      <td>49.1999</td>\n",
       "      <td>41.8843</td>\n",
       "      <td>65.8270</td>\n",
       "    </tr>\n",
       "    <tr>\n",
       "      <th>...</th>\n",
       "      <td>...</td>\n",
       "      <td>...</td>\n",
       "      <td>...</td>\n",
       "      <td>...</td>\n",
       "      <td>...</td>\n",
       "    </tr>\n",
       "    <tr>\n",
       "      <th>162</th>\n",
       "      <td>414</td>\n",
       "      <td>0.4742</td>\n",
       "      <td>0.1786</td>\n",
       "      <td>1.4596</td>\n",
       "      <td>0.3757</td>\n",
       "    </tr>\n",
       "    <tr>\n",
       "      <th>163</th>\n",
       "      <td>411</td>\n",
       "      <td>0.4425</td>\n",
       "      <td>0.1707</td>\n",
       "      <td>1.3845</td>\n",
       "      <td>0.3477</td>\n",
       "    </tr>\n",
       "    <tr>\n",
       "      <th>164</th>\n",
       "      <td>408</td>\n",
       "      <td>0.4111</td>\n",
       "      <td>0.1632</td>\n",
       "      <td>1.3118</td>\n",
       "      <td>0.3263</td>\n",
       "    </tr>\n",
       "    <tr>\n",
       "      <th>165</th>\n",
       "      <td>405</td>\n",
       "      <td>0.3742</td>\n",
       "      <td>0.1565</td>\n",
       "      <td>1.2383</td>\n",
       "      <td>0.2994</td>\n",
       "    </tr>\n",
       "    <tr>\n",
       "      <th>166</th>\n",
       "      <td>402</td>\n",
       "      <td>0.3492</td>\n",
       "      <td>0.1425</td>\n",
       "      <td>1.1545</td>\n",
       "      <td>0.2779</td>\n",
       "    </tr>\n",
       "  </tbody>\n",
       "</table>\n",
       "<p>167 rows × 5 columns</p>\n",
       "</div>"
      ],
      "text/plain": [
       "     Wavelength   Trans3   Trans4   Trans5   Trans6\n",
       "0           900  66.0127  49.8294  41.9016  66.1744\n",
       "1           897  65.9223  49.6293  41.8335  66.0067\n",
       "2           894  66.3274  49.5752  41.8938  65.9867\n",
       "3           891  66.3664  49.4612  41.9758  65.9247\n",
       "4           888  66.3369  49.1999  41.8843  65.8270\n",
       "..          ...      ...      ...      ...      ...\n",
       "162         414   0.4742   0.1786   1.4596   0.3757\n",
       "163         411   0.4425   0.1707   1.3845   0.3477\n",
       "164         408   0.4111   0.1632   1.3118   0.3263\n",
       "165         405   0.3742   0.1565   1.2383   0.2994\n",
       "166         402   0.3492   0.1425   1.1545   0.2779\n",
       "\n",
       "[167 rows x 5 columns]"
      ]
     },
     "execution_count": 79,
     "metadata": {},
     "output_type": "execute_result"
    }
   ],
   "source": [
    "m_2.drop([\"No.\", \"Visible\"], axis=1, inplace=True)\n",
    "m_2"
   ]
  },
  {
   "cell_type": "markdown",
   "metadata": {},
   "source": [
    "### Changing column names"
   ]
  },
  {
   "cell_type": "markdown",
   "metadata": {},
   "source": [
    "Trans1 column corresponds to m8_CdSe.  \n",
    "Trans2 column corresponds to m9_CdSe.  \n",
    "Trans3 column corresponds to m3_CdSe_CdCl2_muffle.  \n",
    "Trans4 column corresponds to m4_CdSe_CdCl2.  \n",
    "Trans5 column corresponds to m6_CdSe_MgCl2.  \n",
    "Trans6 column corresponds to m5_CdSe_MgCl2_muffle.  "
   ]
  },
  {
   "cell_type": "code",
   "execution_count": 80,
   "metadata": {},
   "outputs": [
    {
     "data": {
      "text/html": [
       "<div>\n",
       "<style scoped>\n",
       "    .dataframe tbody tr th:only-of-type {\n",
       "        vertical-align: middle;\n",
       "    }\n",
       "\n",
       "    .dataframe tbody tr th {\n",
       "        vertical-align: top;\n",
       "    }\n",
       "\n",
       "    .dataframe thead th {\n",
       "        text-align: right;\n",
       "    }\n",
       "</style>\n",
       "<table border=\"1\" class=\"dataframe\">\n",
       "  <thead>\n",
       "    <tr style=\"text-align: right;\">\n",
       "      <th></th>\n",
       "      <th>Wavelength</th>\n",
       "      <th>m8_CdSe</th>\n",
       "      <th>m9_CdSe</th>\n",
       "      <th>Trans3</th>\n",
       "      <th>Trans4</th>\n",
       "      <th>Trans5</th>\n",
       "      <th>Trans6</th>\n",
       "    </tr>\n",
       "  </thead>\n",
       "  <tbody>\n",
       "    <tr>\n",
       "      <th>0</th>\n",
       "      <td>950</td>\n",
       "      <td>66.9336</td>\n",
       "      <td>72.6834</td>\n",
       "      <td>-0.7428</td>\n",
       "      <td>NaN</td>\n",
       "      <td>NaN</td>\n",
       "      <td>NaN</td>\n",
       "    </tr>\n",
       "    <tr>\n",
       "      <th>1</th>\n",
       "      <td>947</td>\n",
       "      <td>66.8647</td>\n",
       "      <td>72.4585</td>\n",
       "      <td>NaN</td>\n",
       "      <td>NaN</td>\n",
       "      <td>NaN</td>\n",
       "      <td>NaN</td>\n",
       "    </tr>\n",
       "    <tr>\n",
       "      <th>2</th>\n",
       "      <td>944</td>\n",
       "      <td>66.9890</td>\n",
       "      <td>72.4940</td>\n",
       "      <td>NaN</td>\n",
       "      <td>NaN</td>\n",
       "      <td>NaN</td>\n",
       "      <td>NaN</td>\n",
       "    </tr>\n",
       "    <tr>\n",
       "      <th>3</th>\n",
       "      <td>941</td>\n",
       "      <td>67.0649</td>\n",
       "      <td>72.5565</td>\n",
       "      <td>NaN</td>\n",
       "      <td>NaN</td>\n",
       "      <td>NaN</td>\n",
       "      <td>NaN</td>\n",
       "    </tr>\n",
       "    <tr>\n",
       "      <th>4</th>\n",
       "      <td>938</td>\n",
       "      <td>66.8673</td>\n",
       "      <td>72.1641</td>\n",
       "      <td>NaN</td>\n",
       "      <td>NaN</td>\n",
       "      <td>NaN</td>\n",
       "      <td>NaN</td>\n",
       "    </tr>\n",
       "  </tbody>\n",
       "</table>\n",
       "</div>"
      ],
      "text/plain": [
       "   Wavelength  m8_CdSe  m9_CdSe  Trans3  Trans4  Trans5  Trans6\n",
       "0         950  66.9336  72.6834 -0.7428     NaN     NaN     NaN\n",
       "1         947  66.8647  72.4585     NaN     NaN     NaN     NaN\n",
       "2         944  66.9890  72.4940     NaN     NaN     NaN     NaN\n",
       "3         941  67.0649  72.5565     NaN     NaN     NaN     NaN\n",
       "4         938  66.8673  72.1641     NaN     NaN     NaN     NaN"
      ]
     },
     "execution_count": 80,
     "metadata": {},
     "output_type": "execute_result"
    }
   ],
   "source": [
    "m_1.rename(columns={\n",
    "    \"Trans1\": \"m8_CdSe\",\n",
    "    \"Trans2\": \"m9_CdSe\",\n",
    "    }, \n",
    "    inplace=True)\n",
    "\n",
    "m_1.head()"
   ]
  },
  {
   "cell_type": "code",
   "execution_count": 81,
   "metadata": {},
   "outputs": [
    {
     "data": {
      "text/html": [
       "<div>\n",
       "<style scoped>\n",
       "    .dataframe tbody tr th:only-of-type {\n",
       "        vertical-align: middle;\n",
       "    }\n",
       "\n",
       "    .dataframe tbody tr th {\n",
       "        vertical-align: top;\n",
       "    }\n",
       "\n",
       "    .dataframe thead th {\n",
       "        text-align: right;\n",
       "    }\n",
       "</style>\n",
       "<table border=\"1\" class=\"dataframe\">\n",
       "  <thead>\n",
       "    <tr style=\"text-align: right;\">\n",
       "      <th></th>\n",
       "      <th>Wavelength</th>\n",
       "      <th>m3_CdSe_CdCl2_muffle</th>\n",
       "      <th>m4_CdSe_CdCl2</th>\n",
       "      <th>m6_CdSe_MgCl2</th>\n",
       "      <th>m5_CdSe_MgCl2_muffle</th>\n",
       "    </tr>\n",
       "  </thead>\n",
       "  <tbody>\n",
       "    <tr>\n",
       "      <th>0</th>\n",
       "      <td>900</td>\n",
       "      <td>66.0127</td>\n",
       "      <td>49.8294</td>\n",
       "      <td>41.9016</td>\n",
       "      <td>66.1744</td>\n",
       "    </tr>\n",
       "    <tr>\n",
       "      <th>1</th>\n",
       "      <td>897</td>\n",
       "      <td>65.9223</td>\n",
       "      <td>49.6293</td>\n",
       "      <td>41.8335</td>\n",
       "      <td>66.0067</td>\n",
       "    </tr>\n",
       "    <tr>\n",
       "      <th>2</th>\n",
       "      <td>894</td>\n",
       "      <td>66.3274</td>\n",
       "      <td>49.5752</td>\n",
       "      <td>41.8938</td>\n",
       "      <td>65.9867</td>\n",
       "    </tr>\n",
       "    <tr>\n",
       "      <th>3</th>\n",
       "      <td>891</td>\n",
       "      <td>66.3664</td>\n",
       "      <td>49.4612</td>\n",
       "      <td>41.9758</td>\n",
       "      <td>65.9247</td>\n",
       "    </tr>\n",
       "    <tr>\n",
       "      <th>4</th>\n",
       "      <td>888</td>\n",
       "      <td>66.3369</td>\n",
       "      <td>49.1999</td>\n",
       "      <td>41.8843</td>\n",
       "      <td>65.8270</td>\n",
       "    </tr>\n",
       "  </tbody>\n",
       "</table>\n",
       "</div>"
      ],
      "text/plain": [
       "   Wavelength  m3_CdSe_CdCl2_muffle  m4_CdSe_CdCl2  m6_CdSe_MgCl2  \\\n",
       "0         900               66.0127        49.8294        41.9016   \n",
       "1         897               65.9223        49.6293        41.8335   \n",
       "2         894               66.3274        49.5752        41.8938   \n",
       "3         891               66.3664        49.4612        41.9758   \n",
       "4         888               66.3369        49.1999        41.8843   \n",
       "\n",
       "   m5_CdSe_MgCl2_muffle  \n",
       "0               66.1744  \n",
       "1               66.0067  \n",
       "2               65.9867  \n",
       "3               65.9247  \n",
       "4               65.8270  "
      ]
     },
     "execution_count": 81,
     "metadata": {},
     "output_type": "execute_result"
    }
   ],
   "source": [
    "m_2.rename(columns={\n",
    "    \"Trans3\": \"m3_CdSe_CdCl2_muffle\",\n",
    "    \"Trans4\": \"m4_CdSe_CdCl2\",\n",
    "    \"Trans5\": \"m6_CdSe_MgCl2\",\n",
    "    \"Trans6\": \"m5_CdSe_MgCl2_muffle\"\n",
    "    },\n",
    "    inplace=True)\n",
    "\n",
    "m_2.head()"
   ]
  },
  {
   "cell_type": "markdown",
   "metadata": {},
   "source": [
    "### Checking if there are null values in each dataframe."
   ]
  },
  {
   "cell_type": "markdown",
   "metadata": {},
   "source": [
    "#### For m_1"
   ]
  },
  {
   "cell_type": "code",
   "execution_count": 82,
   "metadata": {},
   "outputs": [
    {
     "data": {
      "text/html": [
       "<div>\n",
       "<style scoped>\n",
       "    .dataframe tbody tr th:only-of-type {\n",
       "        vertical-align: middle;\n",
       "    }\n",
       "\n",
       "    .dataframe tbody tr th {\n",
       "        vertical-align: top;\n",
       "    }\n",
       "\n",
       "    .dataframe thead th {\n",
       "        text-align: right;\n",
       "    }\n",
       "</style>\n",
       "<table border=\"1\" class=\"dataframe\">\n",
       "  <thead>\n",
       "    <tr style=\"text-align: right;\">\n",
       "      <th></th>\n",
       "      <th>Wavelength</th>\n",
       "      <th>m8_CdSe</th>\n",
       "      <th>m9_CdSe</th>\n",
       "      <th>Trans3</th>\n",
       "      <th>Trans4</th>\n",
       "      <th>Trans5</th>\n",
       "      <th>Trans6</th>\n",
       "    </tr>\n",
       "  </thead>\n",
       "  <tbody>\n",
       "    <tr>\n",
       "      <th>0</th>\n",
       "      <td>950</td>\n",
       "      <td>66.9336</td>\n",
       "      <td>72.6834</td>\n",
       "      <td>-0.7428</td>\n",
       "      <td>NaN</td>\n",
       "      <td>NaN</td>\n",
       "      <td>NaN</td>\n",
       "    </tr>\n",
       "    <tr>\n",
       "      <th>1</th>\n",
       "      <td>947</td>\n",
       "      <td>66.8647</td>\n",
       "      <td>72.4585</td>\n",
       "      <td>NaN</td>\n",
       "      <td>NaN</td>\n",
       "      <td>NaN</td>\n",
       "      <td>NaN</td>\n",
       "    </tr>\n",
       "    <tr>\n",
       "      <th>2</th>\n",
       "      <td>944</td>\n",
       "      <td>66.9890</td>\n",
       "      <td>72.4940</td>\n",
       "      <td>NaN</td>\n",
       "      <td>NaN</td>\n",
       "      <td>NaN</td>\n",
       "      <td>NaN</td>\n",
       "    </tr>\n",
       "    <tr>\n",
       "      <th>3</th>\n",
       "      <td>941</td>\n",
       "      <td>67.0649</td>\n",
       "      <td>72.5565</td>\n",
       "      <td>NaN</td>\n",
       "      <td>NaN</td>\n",
       "      <td>NaN</td>\n",
       "      <td>NaN</td>\n",
       "    </tr>\n",
       "    <tr>\n",
       "      <th>4</th>\n",
       "      <td>938</td>\n",
       "      <td>66.8673</td>\n",
       "      <td>72.1641</td>\n",
       "      <td>NaN</td>\n",
       "      <td>NaN</td>\n",
       "      <td>NaN</td>\n",
       "      <td>NaN</td>\n",
       "    </tr>\n",
       "    <tr>\n",
       "      <th>...</th>\n",
       "      <td>...</td>\n",
       "      <td>...</td>\n",
       "      <td>...</td>\n",
       "      <td>...</td>\n",
       "      <td>...</td>\n",
       "      <td>...</td>\n",
       "      <td>...</td>\n",
       "    </tr>\n",
       "    <tr>\n",
       "      <th>179</th>\n",
       "      <td>413</td>\n",
       "      <td>0.8324</td>\n",
       "      <td>1.4039</td>\n",
       "      <td>NaN</td>\n",
       "      <td>NaN</td>\n",
       "      <td>NaN</td>\n",
       "      <td>NaN</td>\n",
       "    </tr>\n",
       "    <tr>\n",
       "      <th>180</th>\n",
       "      <td>410</td>\n",
       "      <td>0.7739</td>\n",
       "      <td>1.3175</td>\n",
       "      <td>NaN</td>\n",
       "      <td>NaN</td>\n",
       "      <td>NaN</td>\n",
       "      <td>NaN</td>\n",
       "    </tr>\n",
       "    <tr>\n",
       "      <th>181</th>\n",
       "      <td>407</td>\n",
       "      <td>0.7091</td>\n",
       "      <td>1.2327</td>\n",
       "      <td>NaN</td>\n",
       "      <td>NaN</td>\n",
       "      <td>NaN</td>\n",
       "      <td>NaN</td>\n",
       "    </tr>\n",
       "    <tr>\n",
       "      <th>182</th>\n",
       "      <td>404</td>\n",
       "      <td>0.6560</td>\n",
       "      <td>1.1463</td>\n",
       "      <td>NaN</td>\n",
       "      <td>NaN</td>\n",
       "      <td>NaN</td>\n",
       "      <td>NaN</td>\n",
       "    </tr>\n",
       "    <tr>\n",
       "      <th>183</th>\n",
       "      <td>401</td>\n",
       "      <td>0.6089</td>\n",
       "      <td>1.0655</td>\n",
       "      <td>NaN</td>\n",
       "      <td>NaN</td>\n",
       "      <td>NaN</td>\n",
       "      <td>NaN</td>\n",
       "    </tr>\n",
       "  </tbody>\n",
       "</table>\n",
       "<p>184 rows × 7 columns</p>\n",
       "</div>"
      ],
      "text/plain": [
       "     Wavelength  m8_CdSe  m9_CdSe  Trans3  Trans4  Trans5  Trans6\n",
       "0           950  66.9336  72.6834 -0.7428     NaN     NaN     NaN\n",
       "1           947  66.8647  72.4585     NaN     NaN     NaN     NaN\n",
       "2           944  66.9890  72.4940     NaN     NaN     NaN     NaN\n",
       "3           941  67.0649  72.5565     NaN     NaN     NaN     NaN\n",
       "4           938  66.8673  72.1641     NaN     NaN     NaN     NaN\n",
       "..          ...      ...      ...     ...     ...     ...     ...\n",
       "179         413   0.8324   1.4039     NaN     NaN     NaN     NaN\n",
       "180         410   0.7739   1.3175     NaN     NaN     NaN     NaN\n",
       "181         407   0.7091   1.2327     NaN     NaN     NaN     NaN\n",
       "182         404   0.6560   1.1463     NaN     NaN     NaN     NaN\n",
       "183         401   0.6089   1.0655     NaN     NaN     NaN     NaN\n",
       "\n",
       "[184 rows x 7 columns]"
      ]
     },
     "execution_count": 82,
     "metadata": {},
     "output_type": "execute_result"
    }
   ],
   "source": [
    "m_1[pd.isnull(m_1).any(axis=1)]"
   ]
  },
  {
   "cell_type": "markdown",
   "metadata": {},
   "source": [
    "Dropping the columns with null values:"
   ]
  },
  {
   "cell_type": "code",
   "execution_count": 83,
   "metadata": {},
   "outputs": [
    {
     "data": {
      "text/html": [
       "<div>\n",
       "<style scoped>\n",
       "    .dataframe tbody tr th:only-of-type {\n",
       "        vertical-align: middle;\n",
       "    }\n",
       "\n",
       "    .dataframe tbody tr th {\n",
       "        vertical-align: top;\n",
       "    }\n",
       "\n",
       "    .dataframe thead th {\n",
       "        text-align: right;\n",
       "    }\n",
       "</style>\n",
       "<table border=\"1\" class=\"dataframe\">\n",
       "  <thead>\n",
       "    <tr style=\"text-align: right;\">\n",
       "      <th></th>\n",
       "      <th>Wavelength</th>\n",
       "      <th>m8_CdSe</th>\n",
       "      <th>m9_CdSe</th>\n",
       "    </tr>\n",
       "  </thead>\n",
       "  <tbody>\n",
       "    <tr>\n",
       "      <th>0</th>\n",
       "      <td>950</td>\n",
       "      <td>66.9336</td>\n",
       "      <td>72.6834</td>\n",
       "    </tr>\n",
       "    <tr>\n",
       "      <th>1</th>\n",
       "      <td>947</td>\n",
       "      <td>66.8647</td>\n",
       "      <td>72.4585</td>\n",
       "    </tr>\n",
       "    <tr>\n",
       "      <th>2</th>\n",
       "      <td>944</td>\n",
       "      <td>66.9890</td>\n",
       "      <td>72.4940</td>\n",
       "    </tr>\n",
       "    <tr>\n",
       "      <th>3</th>\n",
       "      <td>941</td>\n",
       "      <td>67.0649</td>\n",
       "      <td>72.5565</td>\n",
       "    </tr>\n",
       "    <tr>\n",
       "      <th>4</th>\n",
       "      <td>938</td>\n",
       "      <td>66.8673</td>\n",
       "      <td>72.1641</td>\n",
       "    </tr>\n",
       "    <tr>\n",
       "      <th>...</th>\n",
       "      <td>...</td>\n",
       "      <td>...</td>\n",
       "      <td>...</td>\n",
       "    </tr>\n",
       "    <tr>\n",
       "      <th>179</th>\n",
       "      <td>413</td>\n",
       "      <td>0.8324</td>\n",
       "      <td>1.4039</td>\n",
       "    </tr>\n",
       "    <tr>\n",
       "      <th>180</th>\n",
       "      <td>410</td>\n",
       "      <td>0.7739</td>\n",
       "      <td>1.3175</td>\n",
       "    </tr>\n",
       "    <tr>\n",
       "      <th>181</th>\n",
       "      <td>407</td>\n",
       "      <td>0.7091</td>\n",
       "      <td>1.2327</td>\n",
       "    </tr>\n",
       "    <tr>\n",
       "      <th>182</th>\n",
       "      <td>404</td>\n",
       "      <td>0.6560</td>\n",
       "      <td>1.1463</td>\n",
       "    </tr>\n",
       "    <tr>\n",
       "      <th>183</th>\n",
       "      <td>401</td>\n",
       "      <td>0.6089</td>\n",
       "      <td>1.0655</td>\n",
       "    </tr>\n",
       "  </tbody>\n",
       "</table>\n",
       "<p>184 rows × 3 columns</p>\n",
       "</div>"
      ],
      "text/plain": [
       "     Wavelength  m8_CdSe  m9_CdSe\n",
       "0           950  66.9336  72.6834\n",
       "1           947  66.8647  72.4585\n",
       "2           944  66.9890  72.4940\n",
       "3           941  67.0649  72.5565\n",
       "4           938  66.8673  72.1641\n",
       "..          ...      ...      ...\n",
       "179         413   0.8324   1.4039\n",
       "180         410   0.7739   1.3175\n",
       "181         407   0.7091   1.2327\n",
       "182         404   0.6560   1.1463\n",
       "183         401   0.6089   1.0655\n",
       "\n",
       "[184 rows x 3 columns]"
      ]
     },
     "execution_count": 83,
     "metadata": {},
     "output_type": "execute_result"
    }
   ],
   "source": [
    "m_1.dropna(axis=1, inplace=True)\n",
    "m_1"
   ]
  },
  {
   "cell_type": "markdown",
   "metadata": {},
   "source": [
    "#### For m_2"
   ]
  },
  {
   "cell_type": "code",
   "execution_count": 84,
   "metadata": {},
   "outputs": [
    {
     "data": {
      "text/html": [
       "<div>\n",
       "<style scoped>\n",
       "    .dataframe tbody tr th:only-of-type {\n",
       "        vertical-align: middle;\n",
       "    }\n",
       "\n",
       "    .dataframe tbody tr th {\n",
       "        vertical-align: top;\n",
       "    }\n",
       "\n",
       "    .dataframe thead th {\n",
       "        text-align: right;\n",
       "    }\n",
       "</style>\n",
       "<table border=\"1\" class=\"dataframe\">\n",
       "  <thead>\n",
       "    <tr style=\"text-align: right;\">\n",
       "      <th></th>\n",
       "      <th>Wavelength</th>\n",
       "      <th>m3_CdSe_CdCl2_muffle</th>\n",
       "      <th>m4_CdSe_CdCl2</th>\n",
       "      <th>m6_CdSe_MgCl2</th>\n",
       "      <th>m5_CdSe_MgCl2_muffle</th>\n",
       "    </tr>\n",
       "  </thead>\n",
       "  <tbody>\n",
       "  </tbody>\n",
       "</table>\n",
       "</div>"
      ],
      "text/plain": [
       "Empty DataFrame\n",
       "Columns: [Wavelength, m3_CdSe_CdCl2_muffle, m4_CdSe_CdCl2, m6_CdSe_MgCl2, m5_CdSe_MgCl2_muffle]\n",
       "Index: []"
      ]
     },
     "execution_count": 84,
     "metadata": {},
     "output_type": "execute_result"
    }
   ],
   "source": [
    "m_2[pd.isnull(m_2).any(axis=1)]"
   ]
  },
  {
   "cell_type": "markdown",
   "metadata": {},
   "source": [
    "There are no null values in m_2."
   ]
  },
  {
   "cell_type": "markdown",
   "metadata": {},
   "source": [
    "## Transmittance Analysis"
   ]
  },
  {
   "cell_type": "markdown",
   "metadata": {},
   "source": [
    "### Using Plotly to locate maximum transmittances in a graph"
   ]
  },
  {
   "cell_type": "markdown",
   "metadata": {},
   "source": [
    "#### Part 1 using Plotly"
   ]
  },
  {
   "cell_type": "code",
   "execution_count": 85,
   "metadata": {},
   "outputs": [
    {
     "data": {
      "application/vnd.plotly.v1+json": {
       "config": {
        "plotlyServerURL": "https://plot.ly"
       },
       "data": [
        {
         "hovertemplate": "variable=m8_CdSe<br>Wavelength=%{x}<br>value=%{y}<extra></extra>",
         "legendgroup": "m8_CdSe",
         "line": {
          "color": "#636efa",
          "dash": "solid"
         },
         "marker": {
          "symbol": "circle"
         },
         "mode": "lines+markers",
         "name": "m8_CdSe",
         "orientation": "v",
         "showlegend": true,
         "type": "scatter",
         "x": [
          950,
          947,
          944,
          941,
          938,
          935,
          932,
          929,
          926,
          923,
          920,
          917,
          914,
          911,
          908,
          905,
          902,
          899,
          896,
          893,
          890,
          887,
          884,
          881,
          878,
          875,
          872,
          869,
          866,
          863,
          860,
          857,
          854,
          851,
          848,
          845,
          842,
          839,
          836,
          833,
          830,
          827,
          824,
          821,
          818,
          815,
          812,
          809,
          806,
          803,
          800,
          797,
          794,
          791,
          788,
          785,
          782,
          779,
          776,
          773,
          770,
          767,
          764,
          761,
          758,
          755,
          752,
          749,
          746,
          743,
          740,
          737,
          734,
          731,
          728,
          725,
          722,
          719,
          716,
          713,
          710,
          707,
          704,
          701,
          698,
          695,
          692,
          689,
          686,
          683,
          680,
          677,
          674,
          671,
          668,
          665,
          662,
          659,
          656,
          653,
          650,
          647,
          644,
          641,
          638,
          635,
          632,
          629,
          626,
          623,
          620,
          617,
          614,
          611,
          608,
          605,
          602,
          599,
          596,
          593,
          590,
          587,
          584,
          581,
          578,
          575,
          572,
          569,
          566,
          563,
          560,
          557,
          554,
          551,
          548,
          545,
          542,
          539,
          536,
          533,
          530,
          527,
          524,
          521,
          518,
          515,
          512,
          509,
          506,
          503,
          500,
          497,
          494,
          491,
          488,
          485,
          482,
          479,
          476,
          473,
          470,
          467,
          464,
          461,
          458,
          455,
          452,
          449,
          446,
          443,
          440,
          437,
          434,
          431,
          428,
          425,
          422,
          419,
          416,
          413,
          410,
          407,
          404,
          401
         ],
         "xaxis": "x",
         "y": [
          66.9336,
          66.8647,
          66.989,
          67.0649,
          66.8673,
          67.12,
          67.2317,
          67.1371,
          67.3892,
          67.4493,
          67.5356,
          67.6078,
          67.8207,
          67.8814,
          68.0898,
          68.1898,
          68.3179,
          68.4493,
          68.6332,
          68.845,
          68.9408,
          69.0483,
          69.2511,
          69.2985,
          69.5631,
          69.5522,
          69.7027,
          69.8657,
          69.9996,
          69.9888,
          70.0921,
          70.2405,
          70.2345,
          70.2131,
          70.1094,
          70.3447,
          70.3194,
          70.1477,
          70.1628,
          70.0136,
          69.8684,
          69.6811,
          69.5702,
          69.5195,
          69.3269,
          69.0971,
          69.0386,
          68.8526,
          68.4555,
          68.3717,
          68.0547,
          67.914,
          67.6609,
          67.3294,
          67.0169,
          66.733,
          66.5221,
          66.0015,
          65.7577,
          65.4761,
          65.0948,
          64.6588,
          64.162,
          63.6634,
          63.0116,
          62.3347,
          61.7173,
          61.0834,
          60.2239,
          59.2073,
          58.3333,
          57.1009,
          55.8289,
          54.2085,
          52.2527,
          50.0656,
          47.1445,
          44.0793,
          40.1454,
          36.2691,
          33.0764,
          30.1212,
          27.8021,
          26.1369,
          24.7662,
          23.8293,
          23.0859,
          22.6322,
          22.3302,
          22.0397,
          21.8221,
          21.627,
          21.4367,
          21.174,
          20.9362,
          20.7065,
          20.4532,
          20.143,
          19.8675,
          19.5978,
          19.328,
          19.0421,
          18.7364,
          18.4168,
          18.0703,
          17.7596,
          17.4339,
          17.1232,
          16.7942,
          16.4571,
          16.0931,
          15.7422,
          15.3556,
          15.0077,
          14.6484,
          14.2781,
          13.9129,
          13.5107,
          13.1205,
          12.7053,
          12.2421,
          11.7225,
          10.9269,
          10.3748,
          9.7809,
          9.1764,
          8.6163,
          8.144,
          7.7232,
          7.3872,
          7.1016,
          6.9138,
          6.7358,
          6.5462,
          6.3616,
          6.1956,
          6.0256,
          5.8571,
          5.6908,
          5.5358,
          5.3836,
          5.2296,
          5.0592,
          4.902,
          4.7434,
          4.571,
          4.411,
          4.2529,
          4.0992,
          3.9485,
          3.7969,
          3.6627,
          3.5068,
          3.3674,
          3.2289,
          3.0809,
          2.9533,
          2.8181,
          2.7034,
          2.588,
          2.4647,
          2.3551,
          2.2475,
          2.1442,
          2.0568,
          1.9537,
          1.8735,
          1.7473,
          1.6617,
          1.574,
          1.4866,
          1.402,
          1.3303,
          1.2449,
          1.173,
          1.1048,
          1.0314,
          0.9596,
          0.8972,
          0.8324,
          0.7739,
          0.7091,
          0.656,
          0.6089
         ],
         "yaxis": "y"
        },
        {
         "hovertemplate": "variable=m9_CdSe<br>Wavelength=%{x}<br>value=%{y}<extra></extra>",
         "legendgroup": "m9_CdSe",
         "line": {
          "color": "#EF553B",
          "dash": "solid"
         },
         "marker": {
          "symbol": "circle"
         },
         "mode": "lines+markers",
         "name": "m9_CdSe",
         "orientation": "v",
         "showlegend": true,
         "type": "scatter",
         "x": [
          950,
          947,
          944,
          941,
          938,
          935,
          932,
          929,
          926,
          923,
          920,
          917,
          914,
          911,
          908,
          905,
          902,
          899,
          896,
          893,
          890,
          887,
          884,
          881,
          878,
          875,
          872,
          869,
          866,
          863,
          860,
          857,
          854,
          851,
          848,
          845,
          842,
          839,
          836,
          833,
          830,
          827,
          824,
          821,
          818,
          815,
          812,
          809,
          806,
          803,
          800,
          797,
          794,
          791,
          788,
          785,
          782,
          779,
          776,
          773,
          770,
          767,
          764,
          761,
          758,
          755,
          752,
          749,
          746,
          743,
          740,
          737,
          734,
          731,
          728,
          725,
          722,
          719,
          716,
          713,
          710,
          707,
          704,
          701,
          698,
          695,
          692,
          689,
          686,
          683,
          680,
          677,
          674,
          671,
          668,
          665,
          662,
          659,
          656,
          653,
          650,
          647,
          644,
          641,
          638,
          635,
          632,
          629,
          626,
          623,
          620,
          617,
          614,
          611,
          608,
          605,
          602,
          599,
          596,
          593,
          590,
          587,
          584,
          581,
          578,
          575,
          572,
          569,
          566,
          563,
          560,
          557,
          554,
          551,
          548,
          545,
          542,
          539,
          536,
          533,
          530,
          527,
          524,
          521,
          518,
          515,
          512,
          509,
          506,
          503,
          500,
          497,
          494,
          491,
          488,
          485,
          482,
          479,
          476,
          473,
          470,
          467,
          464,
          461,
          458,
          455,
          452,
          449,
          446,
          443,
          440,
          437,
          434,
          431,
          428,
          425,
          422,
          419,
          416,
          413,
          410,
          407,
          404,
          401
         ],
         "xaxis": "x",
         "y": [
          72.6834,
          72.4585,
          72.494,
          72.5565,
          72.1641,
          72.2432,
          72.2121,
          72.0584,
          72.1093,
          71.9489,
          71.7571,
          71.8631,
          71.9016,
          71.8466,
          71.705,
          71.7688,
          71.6867,
          71.4254,
          71.4579,
          71.4546,
          71.271,
          71.3989,
          71.3072,
          71.1158,
          71.166,
          71.0839,
          71.0138,
          70.9968,
          70.9305,
          70.8645,
          70.7732,
          70.652,
          70.5384,
          70.3626,
          70.0801,
          70.2235,
          70.0756,
          69.9804,
          69.8315,
          69.5867,
          69.5138,
          69.3053,
          69.3183,
          69.0841,
          69.0348,
          68.7882,
          68.7205,
          68.555,
          68.3561,
          68.2676,
          68.1372,
          68.1307,
          67.8605,
          67.6799,
          67.5817,
          67.4463,
          67.3282,
          67.0462,
          66.9997,
          66.9048,
          66.6114,
          66.4389,
          66.2339,
          66.0179,
          65.6198,
          65.228,
          64.888,
          64.5441,
          63.9228,
          63.3177,
          62.5987,
          61.6766,
          60.5363,
          59.1243,
          57.3963,
          55.3318,
          52.4134,
          49.272,
          45.3144,
          41.3138,
          37.9823,
          34.9275,
          32.4325,
          30.7041,
          29.2355,
          28.2118,
          27.4009,
          26.9306,
          26.6011,
          26.2732,
          26.0749,
          25.867,
          25.627,
          25.3462,
          25.0923,
          24.8334,
          24.5734,
          24.2573,
          23.9708,
          23.695,
          23.4065,
          23.0739,
          22.7364,
          22.4399,
          22.0644,
          21.7333,
          21.3694,
          21.0429,
          20.7214,
          20.3421,
          19.9784,
          19.6235,
          19.2082,
          18.8122,
          18.4421,
          18.0105,
          17.6265,
          17.1794,
          16.7598,
          16.2655,
          15.7622,
          15.1751,
          14.2945,
          13.6356,
          12.9419,
          12.216,
          11.5483,
          10.9672,
          10.4314,
          10.0417,
          9.6791,
          9.4383,
          9.2127,
          8.9762,
          8.7458,
          8.5454,
          8.3228,
          8.1164,
          7.8928,
          7.7016,
          7.5111,
          7.3118,
          7.1073,
          6.9118,
          6.7267,
          6.5132,
          6.3148,
          6.1152,
          5.9289,
          5.7352,
          5.5409,
          5.3695,
          5.1852,
          5.0176,
          4.8192,
          4.6411,
          4.4802,
          4.2942,
          4.1315,
          3.9815,
          3.8101,
          3.6547,
          3.5058,
          3.359,
          3.2213,
          3.0702,
          2.95,
          2.7639,
          2.6352,
          2.5007,
          2.372,
          2.2556,
          2.1443,
          2.0133,
          1.9098,
          1.8041,
          1.6974,
          1.5914,
          1.4974,
          1.4039,
          1.3175,
          1.2327,
          1.1463,
          1.0655
         ],
         "yaxis": "y"
        }
       ],
       "layout": {
        "legend": {
         "title": {
          "text": "variable"
         },
         "tracegroupgap": 0
        },
        "template": {
         "data": {
          "bar": [
           {
            "error_x": {
             "color": "#2a3f5f"
            },
            "error_y": {
             "color": "#2a3f5f"
            },
            "marker": {
             "line": {
              "color": "#E5ECF6",
              "width": 0.5
             },
             "pattern": {
              "fillmode": "overlay",
              "size": 10,
              "solidity": 0.2
             }
            },
            "type": "bar"
           }
          ],
          "barpolar": [
           {
            "marker": {
             "line": {
              "color": "#E5ECF6",
              "width": 0.5
             },
             "pattern": {
              "fillmode": "overlay",
              "size": 10,
              "solidity": 0.2
             }
            },
            "type": "barpolar"
           }
          ],
          "carpet": [
           {
            "aaxis": {
             "endlinecolor": "#2a3f5f",
             "gridcolor": "white",
             "linecolor": "white",
             "minorgridcolor": "white",
             "startlinecolor": "#2a3f5f"
            },
            "baxis": {
             "endlinecolor": "#2a3f5f",
             "gridcolor": "white",
             "linecolor": "white",
             "minorgridcolor": "white",
             "startlinecolor": "#2a3f5f"
            },
            "type": "carpet"
           }
          ],
          "choropleth": [
           {
            "colorbar": {
             "outlinewidth": 0,
             "ticks": ""
            },
            "type": "choropleth"
           }
          ],
          "contour": [
           {
            "colorbar": {
             "outlinewidth": 0,
             "ticks": ""
            },
            "colorscale": [
             [
              0,
              "#0d0887"
             ],
             [
              0.1111111111111111,
              "#46039f"
             ],
             [
              0.2222222222222222,
              "#7201a8"
             ],
             [
              0.3333333333333333,
              "#9c179e"
             ],
             [
              0.4444444444444444,
              "#bd3786"
             ],
             [
              0.5555555555555556,
              "#d8576b"
             ],
             [
              0.6666666666666666,
              "#ed7953"
             ],
             [
              0.7777777777777778,
              "#fb9f3a"
             ],
             [
              0.8888888888888888,
              "#fdca26"
             ],
             [
              1,
              "#f0f921"
             ]
            ],
            "type": "contour"
           }
          ],
          "contourcarpet": [
           {
            "colorbar": {
             "outlinewidth": 0,
             "ticks": ""
            },
            "type": "contourcarpet"
           }
          ],
          "heatmap": [
           {
            "colorbar": {
             "outlinewidth": 0,
             "ticks": ""
            },
            "colorscale": [
             [
              0,
              "#0d0887"
             ],
             [
              0.1111111111111111,
              "#46039f"
             ],
             [
              0.2222222222222222,
              "#7201a8"
             ],
             [
              0.3333333333333333,
              "#9c179e"
             ],
             [
              0.4444444444444444,
              "#bd3786"
             ],
             [
              0.5555555555555556,
              "#d8576b"
             ],
             [
              0.6666666666666666,
              "#ed7953"
             ],
             [
              0.7777777777777778,
              "#fb9f3a"
             ],
             [
              0.8888888888888888,
              "#fdca26"
             ],
             [
              1,
              "#f0f921"
             ]
            ],
            "type": "heatmap"
           }
          ],
          "heatmapgl": [
           {
            "colorbar": {
             "outlinewidth": 0,
             "ticks": ""
            },
            "colorscale": [
             [
              0,
              "#0d0887"
             ],
             [
              0.1111111111111111,
              "#46039f"
             ],
             [
              0.2222222222222222,
              "#7201a8"
             ],
             [
              0.3333333333333333,
              "#9c179e"
             ],
             [
              0.4444444444444444,
              "#bd3786"
             ],
             [
              0.5555555555555556,
              "#d8576b"
             ],
             [
              0.6666666666666666,
              "#ed7953"
             ],
             [
              0.7777777777777778,
              "#fb9f3a"
             ],
             [
              0.8888888888888888,
              "#fdca26"
             ],
             [
              1,
              "#f0f921"
             ]
            ],
            "type": "heatmapgl"
           }
          ],
          "histogram": [
           {
            "marker": {
             "pattern": {
              "fillmode": "overlay",
              "size": 10,
              "solidity": 0.2
             }
            },
            "type": "histogram"
           }
          ],
          "histogram2d": [
           {
            "colorbar": {
             "outlinewidth": 0,
             "ticks": ""
            },
            "colorscale": [
             [
              0,
              "#0d0887"
             ],
             [
              0.1111111111111111,
              "#46039f"
             ],
             [
              0.2222222222222222,
              "#7201a8"
             ],
             [
              0.3333333333333333,
              "#9c179e"
             ],
             [
              0.4444444444444444,
              "#bd3786"
             ],
             [
              0.5555555555555556,
              "#d8576b"
             ],
             [
              0.6666666666666666,
              "#ed7953"
             ],
             [
              0.7777777777777778,
              "#fb9f3a"
             ],
             [
              0.8888888888888888,
              "#fdca26"
             ],
             [
              1,
              "#f0f921"
             ]
            ],
            "type": "histogram2d"
           }
          ],
          "histogram2dcontour": [
           {
            "colorbar": {
             "outlinewidth": 0,
             "ticks": ""
            },
            "colorscale": [
             [
              0,
              "#0d0887"
             ],
             [
              0.1111111111111111,
              "#46039f"
             ],
             [
              0.2222222222222222,
              "#7201a8"
             ],
             [
              0.3333333333333333,
              "#9c179e"
             ],
             [
              0.4444444444444444,
              "#bd3786"
             ],
             [
              0.5555555555555556,
              "#d8576b"
             ],
             [
              0.6666666666666666,
              "#ed7953"
             ],
             [
              0.7777777777777778,
              "#fb9f3a"
             ],
             [
              0.8888888888888888,
              "#fdca26"
             ],
             [
              1,
              "#f0f921"
             ]
            ],
            "type": "histogram2dcontour"
           }
          ],
          "mesh3d": [
           {
            "colorbar": {
             "outlinewidth": 0,
             "ticks": ""
            },
            "type": "mesh3d"
           }
          ],
          "parcoords": [
           {
            "line": {
             "colorbar": {
              "outlinewidth": 0,
              "ticks": ""
             }
            },
            "type": "parcoords"
           }
          ],
          "pie": [
           {
            "automargin": true,
            "type": "pie"
           }
          ],
          "scatter": [
           {
            "fillpattern": {
             "fillmode": "overlay",
             "size": 10,
             "solidity": 0.2
            },
            "type": "scatter"
           }
          ],
          "scatter3d": [
           {
            "line": {
             "colorbar": {
              "outlinewidth": 0,
              "ticks": ""
             }
            },
            "marker": {
             "colorbar": {
              "outlinewidth": 0,
              "ticks": ""
             }
            },
            "type": "scatter3d"
           }
          ],
          "scattercarpet": [
           {
            "marker": {
             "colorbar": {
              "outlinewidth": 0,
              "ticks": ""
             }
            },
            "type": "scattercarpet"
           }
          ],
          "scattergeo": [
           {
            "marker": {
             "colorbar": {
              "outlinewidth": 0,
              "ticks": ""
             }
            },
            "type": "scattergeo"
           }
          ],
          "scattergl": [
           {
            "marker": {
             "colorbar": {
              "outlinewidth": 0,
              "ticks": ""
             }
            },
            "type": "scattergl"
           }
          ],
          "scattermapbox": [
           {
            "marker": {
             "colorbar": {
              "outlinewidth": 0,
              "ticks": ""
             }
            },
            "type": "scattermapbox"
           }
          ],
          "scatterpolar": [
           {
            "marker": {
             "colorbar": {
              "outlinewidth": 0,
              "ticks": ""
             }
            },
            "type": "scatterpolar"
           }
          ],
          "scatterpolargl": [
           {
            "marker": {
             "colorbar": {
              "outlinewidth": 0,
              "ticks": ""
             }
            },
            "type": "scatterpolargl"
           }
          ],
          "scatterternary": [
           {
            "marker": {
             "colorbar": {
              "outlinewidth": 0,
              "ticks": ""
             }
            },
            "type": "scatterternary"
           }
          ],
          "surface": [
           {
            "colorbar": {
             "outlinewidth": 0,
             "ticks": ""
            },
            "colorscale": [
             [
              0,
              "#0d0887"
             ],
             [
              0.1111111111111111,
              "#46039f"
             ],
             [
              0.2222222222222222,
              "#7201a8"
             ],
             [
              0.3333333333333333,
              "#9c179e"
             ],
             [
              0.4444444444444444,
              "#bd3786"
             ],
             [
              0.5555555555555556,
              "#d8576b"
             ],
             [
              0.6666666666666666,
              "#ed7953"
             ],
             [
              0.7777777777777778,
              "#fb9f3a"
             ],
             [
              0.8888888888888888,
              "#fdca26"
             ],
             [
              1,
              "#f0f921"
             ]
            ],
            "type": "surface"
           }
          ],
          "table": [
           {
            "cells": {
             "fill": {
              "color": "#EBF0F8"
             },
             "line": {
              "color": "white"
             }
            },
            "header": {
             "fill": {
              "color": "#C8D4E3"
             },
             "line": {
              "color": "white"
             }
            },
            "type": "table"
           }
          ]
         },
         "layout": {
          "annotationdefaults": {
           "arrowcolor": "#2a3f5f",
           "arrowhead": 0,
           "arrowwidth": 1
          },
          "autotypenumbers": "strict",
          "coloraxis": {
           "colorbar": {
            "outlinewidth": 0,
            "ticks": ""
           }
          },
          "colorscale": {
           "diverging": [
            [
             0,
             "#8e0152"
            ],
            [
             0.1,
             "#c51b7d"
            ],
            [
             0.2,
             "#de77ae"
            ],
            [
             0.3,
             "#f1b6da"
            ],
            [
             0.4,
             "#fde0ef"
            ],
            [
             0.5,
             "#f7f7f7"
            ],
            [
             0.6,
             "#e6f5d0"
            ],
            [
             0.7,
             "#b8e186"
            ],
            [
             0.8,
             "#7fbc41"
            ],
            [
             0.9,
             "#4d9221"
            ],
            [
             1,
             "#276419"
            ]
           ],
           "sequential": [
            [
             0,
             "#0d0887"
            ],
            [
             0.1111111111111111,
             "#46039f"
            ],
            [
             0.2222222222222222,
             "#7201a8"
            ],
            [
             0.3333333333333333,
             "#9c179e"
            ],
            [
             0.4444444444444444,
             "#bd3786"
            ],
            [
             0.5555555555555556,
             "#d8576b"
            ],
            [
             0.6666666666666666,
             "#ed7953"
            ],
            [
             0.7777777777777778,
             "#fb9f3a"
            ],
            [
             0.8888888888888888,
             "#fdca26"
            ],
            [
             1,
             "#f0f921"
            ]
           ],
           "sequentialminus": [
            [
             0,
             "#0d0887"
            ],
            [
             0.1111111111111111,
             "#46039f"
            ],
            [
             0.2222222222222222,
             "#7201a8"
            ],
            [
             0.3333333333333333,
             "#9c179e"
            ],
            [
             0.4444444444444444,
             "#bd3786"
            ],
            [
             0.5555555555555556,
             "#d8576b"
            ],
            [
             0.6666666666666666,
             "#ed7953"
            ],
            [
             0.7777777777777778,
             "#fb9f3a"
            ],
            [
             0.8888888888888888,
             "#fdca26"
            ],
            [
             1,
             "#f0f921"
            ]
           ]
          },
          "colorway": [
           "#636efa",
           "#EF553B",
           "#00cc96",
           "#ab63fa",
           "#FFA15A",
           "#19d3f3",
           "#FF6692",
           "#B6E880",
           "#FF97FF",
           "#FECB52"
          ],
          "font": {
           "color": "#2a3f5f"
          },
          "geo": {
           "bgcolor": "white",
           "lakecolor": "white",
           "landcolor": "#E5ECF6",
           "showlakes": true,
           "showland": true,
           "subunitcolor": "white"
          },
          "hoverlabel": {
           "align": "left"
          },
          "hovermode": "closest",
          "mapbox": {
           "style": "light"
          },
          "paper_bgcolor": "white",
          "plot_bgcolor": "#E5ECF6",
          "polar": {
           "angularaxis": {
            "gridcolor": "white",
            "linecolor": "white",
            "ticks": ""
           },
           "bgcolor": "#E5ECF6",
           "radialaxis": {
            "gridcolor": "white",
            "linecolor": "white",
            "ticks": ""
           }
          },
          "scene": {
           "xaxis": {
            "backgroundcolor": "#E5ECF6",
            "gridcolor": "white",
            "gridwidth": 2,
            "linecolor": "white",
            "showbackground": true,
            "ticks": "",
            "zerolinecolor": "white"
           },
           "yaxis": {
            "backgroundcolor": "#E5ECF6",
            "gridcolor": "white",
            "gridwidth": 2,
            "linecolor": "white",
            "showbackground": true,
            "ticks": "",
            "zerolinecolor": "white"
           },
           "zaxis": {
            "backgroundcolor": "#E5ECF6",
            "gridcolor": "white",
            "gridwidth": 2,
            "linecolor": "white",
            "showbackground": true,
            "ticks": "",
            "zerolinecolor": "white"
           }
          },
          "shapedefaults": {
           "line": {
            "color": "#2a3f5f"
           }
          },
          "ternary": {
           "aaxis": {
            "gridcolor": "white",
            "linecolor": "white",
            "ticks": ""
           },
           "baxis": {
            "gridcolor": "white",
            "linecolor": "white",
            "ticks": ""
           },
           "bgcolor": "#E5ECF6",
           "caxis": {
            "gridcolor": "white",
            "linecolor": "white",
            "ticks": ""
           }
          },
          "title": {
           "x": 0.05
          },
          "xaxis": {
           "automargin": true,
           "gridcolor": "white",
           "linecolor": "white",
           "ticks": "",
           "title": {
            "standoff": 15
           },
           "zerolinecolor": "white",
           "zerolinewidth": 2
          },
          "yaxis": {
           "automargin": true,
           "gridcolor": "white",
           "linecolor": "white",
           "ticks": "",
           "title": {
            "standoff": 15
           },
           "zerolinecolor": "white",
           "zerolinewidth": 2
          }
         }
        },
        "title": {
         "text": "Transmittance of CdSe thin films-Part 1 (Plotly)",
         "x": 0.5
        },
        "xaxis": {
         "anchor": "y",
         "domain": [
          0,
          1
         ],
         "linecolor": "black",
         "mirror": true,
         "title": {
          "text": "Wavelength"
         }
        },
        "yaxis": {
         "anchor": "x",
         "domain": [
          0,
          1
         ],
         "linecolor": "black",
         "mirror": true,
         "title": {
          "text": "Transmittance (%)"
         }
        }
       }
      }
     },
     "metadata": {},
     "output_type": "display_data"
    }
   ],
   "source": [
    "fig_1 = px.line(\n",
    "    m_1,\n",
    "    x=\"Wavelength\",\n",
    "    y=[\"m8_CdSe\", \"m9_CdSe\"],\n",
    "    markers=True,\n",
    "    title=\"Transmittance of CdSe thin films-Part 1 (Plotly)\"\n",
    ")\n",
    "\n",
    "fig_1.update_layout(title_x=0.5, yaxis_title=\"Transmittance (%)\")\n",
    "fig_1.update_xaxes(linecolor=\"black\", mirror=True)\n",
    "fig_1.update_yaxes(linecolor=\"black\", mirror=True)\n",
    "\n",
    "fig_1.show()"
   ]
  },
  {
   "cell_type": "markdown",
   "metadata": {},
   "source": [
    "#### Part 2 using Plotly"
   ]
  },
  {
   "cell_type": "code",
   "execution_count": 86,
   "metadata": {},
   "outputs": [
    {
     "data": {
      "application/vnd.plotly.v1+json": {
       "config": {
        "plotlyServerURL": "https://plot.ly"
       },
       "data": [
        {
         "hovertemplate": "variable=m3_CdSe_CdCl2_muffle<br>Wavelength=%{x}<br>value=%{y}<extra></extra>",
         "legendgroup": "m3_CdSe_CdCl2_muffle",
         "line": {
          "color": "#636efa",
          "dash": "solid"
         },
         "marker": {
          "symbol": "circle"
         },
         "mode": "lines+markers",
         "name": "m3_CdSe_CdCl2_muffle",
         "orientation": "v",
         "showlegend": true,
         "type": "scatter",
         "x": [
          900,
          897,
          894,
          891,
          888,
          885,
          882,
          879,
          876,
          873,
          870,
          867,
          864,
          861,
          858,
          855,
          852,
          849,
          846,
          843,
          840,
          837,
          834,
          831,
          828,
          825,
          822,
          819,
          816,
          813,
          810,
          807,
          804,
          801,
          798,
          795,
          792,
          789,
          786,
          783,
          780,
          777,
          774,
          771,
          768,
          765,
          762,
          759,
          756,
          753,
          750,
          747,
          744,
          741,
          738,
          735,
          732,
          729,
          726,
          723,
          720,
          717,
          714,
          711,
          708,
          705,
          702,
          699,
          696,
          693,
          690,
          687,
          684,
          681,
          678,
          675,
          672,
          669,
          666,
          663,
          660,
          657,
          654,
          651,
          648,
          645,
          642,
          639,
          636,
          633,
          630,
          627,
          624,
          621,
          618,
          615,
          612,
          609,
          606,
          603,
          600,
          597,
          594,
          591,
          588,
          585,
          582,
          579,
          576,
          573,
          570,
          567,
          564,
          561,
          558,
          555,
          552,
          549,
          546,
          543,
          540,
          537,
          534,
          531,
          528,
          525,
          522,
          519,
          516,
          513,
          510,
          507,
          504,
          501,
          498,
          495,
          492,
          489,
          486,
          483,
          480,
          477,
          474,
          471,
          468,
          465,
          462,
          459,
          456,
          453,
          450,
          447,
          444,
          441,
          438,
          435,
          432,
          429,
          426,
          423,
          420,
          417,
          414,
          411,
          408,
          405,
          402
         ],
         "xaxis": "x",
         "y": [
          66.0127,
          65.9223,
          66.3274,
          66.3664,
          66.3369,
          66.5338,
          66.5446,
          66.5843,
          66.5718,
          66.5634,
          66.6151,
          66.4257,
          66.5599,
          66.5262,
          66.5376,
          66.3903,
          66.3157,
          66.0351,
          66.1979,
          66.0856,
          65.8969,
          65.7075,
          65.7098,
          65.5109,
          65.3616,
          65.1819,
          65.0579,
          64.7409,
          64.6243,
          64.3942,
          64.1046,
          64.0488,
          63.7675,
          63.468,
          63.3112,
          63.0702,
          62.7033,
          62.5487,
          62.2927,
          62.0083,
          61.6216,
          61.297,
          60.894,
          60.6181,
          60.3087,
          59.781,
          59.4086,
          58.6374,
          58.1946,
          57.5866,
          56.9826,
          56.3726,
          55.5818,
          54.8165,
          53.8029,
          52.4328,
          50.6988,
          48.4926,
          45.6794,
          41.8019,
          37.6682,
          33.5061,
          29.755,
          26.8578,
          24.5967,
          22.6434,
          21.294,
          20.2883,
          19.6088,
          19.1076,
          18.7027,
          18.4004,
          18.1369,
          17.8852,
          17.6345,
          17.3749,
          17.1216,
          16.8797,
          16.5977,
          16.3579,
          16.0787,
          15.7701,
          15.5017,
          15.2549,
          15.0115,
          14.6876,
          14.3933,
          14.1247,
          13.8185,
          13.5311,
          13.2467,
          12.961,
          12.6555,
          12.3601,
          12.0704,
          11.7897,
          11.4764,
          11.2151,
          10.9179,
          10.6363,
          10.319,
          10.0266,
          9.7126,
          9.3708,
          8.9654,
          8.5554,
          7.8561,
          7.4068,
          6.863,
          6.3752,
          5.9318,
          5.523,
          5.2049,
          4.9661,
          4.7944,
          4.628,
          4.4785,
          4.3292,
          4.198,
          4.062,
          3.9212,
          3.7909,
          3.6669,
          3.5512,
          3.4325,
          3.3011,
          3.1738,
          3.0596,
          2.9458,
          2.8393,
          2.7076,
          2.6095,
          2.4942,
          2.3887,
          2.29,
          2.1875,
          2.0928,
          2.0002,
          1.901,
          1.8135,
          1.7151,
          1.6449,
          1.5717,
          1.4919,
          1.4208,
          1.3563,
          1.2827,
          1.2262,
          1.1658,
          1.1061,
          1.0617,
          0.9763,
          0.9155,
          0.8653,
          0.8189,
          0.7707,
          0.7241,
          0.6736,
          0.6344,
          0.5937,
          0.5508,
          0.5112,
          0.4742,
          0.4425,
          0.4111,
          0.3742,
          0.3492
         ],
         "yaxis": "y"
        },
        {
         "hovertemplate": "variable=m4_CdSe_CdCl2<br>Wavelength=%{x}<br>value=%{y}<extra></extra>",
         "legendgroup": "m4_CdSe_CdCl2",
         "line": {
          "color": "#EF553B",
          "dash": "solid"
         },
         "marker": {
          "symbol": "circle"
         },
         "mode": "lines+markers",
         "name": "m4_CdSe_CdCl2",
         "orientation": "v",
         "showlegend": true,
         "type": "scatter",
         "x": [
          900,
          897,
          894,
          891,
          888,
          885,
          882,
          879,
          876,
          873,
          870,
          867,
          864,
          861,
          858,
          855,
          852,
          849,
          846,
          843,
          840,
          837,
          834,
          831,
          828,
          825,
          822,
          819,
          816,
          813,
          810,
          807,
          804,
          801,
          798,
          795,
          792,
          789,
          786,
          783,
          780,
          777,
          774,
          771,
          768,
          765,
          762,
          759,
          756,
          753,
          750,
          747,
          744,
          741,
          738,
          735,
          732,
          729,
          726,
          723,
          720,
          717,
          714,
          711,
          708,
          705,
          702,
          699,
          696,
          693,
          690,
          687,
          684,
          681,
          678,
          675,
          672,
          669,
          666,
          663,
          660,
          657,
          654,
          651,
          648,
          645,
          642,
          639,
          636,
          633,
          630,
          627,
          624,
          621,
          618,
          615,
          612,
          609,
          606,
          603,
          600,
          597,
          594,
          591,
          588,
          585,
          582,
          579,
          576,
          573,
          570,
          567,
          564,
          561,
          558,
          555,
          552,
          549,
          546,
          543,
          540,
          537,
          534,
          531,
          528,
          525,
          522,
          519,
          516,
          513,
          510,
          507,
          504,
          501,
          498,
          495,
          492,
          489,
          486,
          483,
          480,
          477,
          474,
          471,
          468,
          465,
          462,
          459,
          456,
          453,
          450,
          447,
          444,
          441,
          438,
          435,
          432,
          429,
          426,
          423,
          420,
          417,
          414,
          411,
          408,
          405,
          402
         ],
         "xaxis": "x",
         "y": [
          49.8294,
          49.6293,
          49.5752,
          49.4612,
          49.1999,
          49.0558,
          48.8619,
          48.7189,
          48.4653,
          48.4058,
          48.3091,
          48.011,
          47.8515,
          47.6713,
          47.4922,
          47.2619,
          47.1852,
          46.9073,
          46.7779,
          46.6807,
          46.4728,
          46.3144,
          46.1388,
          45.8989,
          45.7163,
          45.5743,
          45.339,
          45.0815,
          44.919,
          44.6779,
          44.4534,
          44.2273,
          43.9416,
          43.6423,
          43.3436,
          43.0969,
          42.7325,
          42.4726,
          42.1379,
          41.7853,
          41.3473,
          41.0211,
          40.5896,
          40.2484,
          39.7727,
          39.3612,
          38.883,
          38.2813,
          37.8339,
          37.3212,
          36.8127,
          36.3145,
          35.771,
          35.1247,
          34.5418,
          33.7657,
          32.9066,
          31.8101,
          30.4433,
          28.4804,
          26.0697,
          23.2637,
          20.2826,
          17.7687,
          15.8195,
          14.1453,
          12.8968,
          11.8918,
          11.1601,
          10.6082,
          10.2037,
          9.9435,
          9.7353,
          9.5652,
          9.4013,
          9.2268,
          9.0602,
          8.9043,
          8.7173,
          8.545,
          8.3582,
          8.1625,
          7.9914,
          7.8224,
          7.6619,
          7.4571,
          7.2681,
          7.0872,
          6.8991,
          6.7094,
          6.5265,
          6.3576,
          6.1713,
          5.9916,
          5.8175,
          5.6514,
          5.4672,
          5.3168,
          5.1473,
          4.9868,
          4.8179,
          4.6657,
          4.489,
          4.3075,
          4.0918,
          3.8805,
          3.4659,
          3.2453,
          2.9664,
          2.7322,
          2.5153,
          2.2943,
          2.1265,
          2.0007,
          1.912,
          1.8332,
          1.7594,
          1.6824,
          1.624,
          1.5623,
          1.4966,
          1.4368,
          1.3777,
          1.3326,
          1.2812,
          1.2196,
          1.1719,
          1.1238,
          1.0735,
          1.0309,
          0.9799,
          0.9426,
          0.8965,
          0.8563,
          0.8152,
          0.7726,
          0.7386,
          0.7116,
          0.6663,
          0.6377,
          0.6041,
          0.5744,
          0.5487,
          0.5192,
          0.4998,
          0.4733,
          0.4496,
          0.4357,
          0.4103,
          0.3985,
          0.3828,
          0.3455,
          0.326,
          0.3081,
          0.2898,
          0.2753,
          0.2573,
          0.2482,
          0.2291,
          0.2175,
          0.2073,
          0.1925,
          0.1786,
          0.1707,
          0.1632,
          0.1565,
          0.1425
         ],
         "yaxis": "y"
        },
        {
         "hovertemplate": "variable=m6_CdSe_MgCl2<br>Wavelength=%{x}<br>value=%{y}<extra></extra>",
         "legendgroup": "m6_CdSe_MgCl2",
         "line": {
          "color": "#00cc96",
          "dash": "solid"
         },
         "marker": {
          "symbol": "circle"
         },
         "mode": "lines+markers",
         "name": "m6_CdSe_MgCl2",
         "orientation": "v",
         "showlegend": true,
         "type": "scatter",
         "x": [
          900,
          897,
          894,
          891,
          888,
          885,
          882,
          879,
          876,
          873,
          870,
          867,
          864,
          861,
          858,
          855,
          852,
          849,
          846,
          843,
          840,
          837,
          834,
          831,
          828,
          825,
          822,
          819,
          816,
          813,
          810,
          807,
          804,
          801,
          798,
          795,
          792,
          789,
          786,
          783,
          780,
          777,
          774,
          771,
          768,
          765,
          762,
          759,
          756,
          753,
          750,
          747,
          744,
          741,
          738,
          735,
          732,
          729,
          726,
          723,
          720,
          717,
          714,
          711,
          708,
          705,
          702,
          699,
          696,
          693,
          690,
          687,
          684,
          681,
          678,
          675,
          672,
          669,
          666,
          663,
          660,
          657,
          654,
          651,
          648,
          645,
          642,
          639,
          636,
          633,
          630,
          627,
          624,
          621,
          618,
          615,
          612,
          609,
          606,
          603,
          600,
          597,
          594,
          591,
          588,
          585,
          582,
          579,
          576,
          573,
          570,
          567,
          564,
          561,
          558,
          555,
          552,
          549,
          546,
          543,
          540,
          537,
          534,
          531,
          528,
          525,
          522,
          519,
          516,
          513,
          510,
          507,
          504,
          501,
          498,
          495,
          492,
          489,
          486,
          483,
          480,
          477,
          474,
          471,
          468,
          465,
          462,
          459,
          456,
          453,
          450,
          447,
          444,
          441,
          438,
          435,
          432,
          429,
          426,
          423,
          420,
          417,
          414,
          411,
          408,
          405,
          402
         ],
         "xaxis": "x",
         "y": [
          41.9016,
          41.8335,
          41.8938,
          41.9758,
          41.8843,
          41.9314,
          41.8542,
          41.8737,
          41.7917,
          41.7796,
          41.8633,
          41.7615,
          41.8332,
          41.7539,
          41.7578,
          41.6922,
          41.7296,
          41.5693,
          41.5984,
          41.6079,
          41.573,
          41.5347,
          41.5221,
          41.4791,
          41.3666,
          41.2955,
          41.3021,
          41.1584,
          41.1097,
          41.0226,
          40.8817,
          40.7624,
          40.6637,
          40.5031,
          40.3949,
          40.2608,
          40.0627,
          39.9665,
          39.8333,
          39.7222,
          39.522,
          39.4124,
          39.2098,
          39.1297,
          38.9958,
          38.8357,
          38.6909,
          38.3791,
          38.2225,
          38.1306,
          37.9484,
          37.8497,
          37.6405,
          37.4868,
          37.3064,
          36.9641,
          36.6254,
          36.0896,
          35.3443,
          34.0946,
          32.3531,
          30.0973,
          27.376,
          24.9714,
          23.0506,
          21.3772,
          20.1023,
          19.0284,
          18.2331,
          17.6362,
          17.2207,
          16.9711,
          16.8072,
          16.6779,
          16.5304,
          16.4046,
          16.2585,
          16.1233,
          15.9744,
          15.8355,
          15.6728,
          15.4949,
          15.3208,
          15.1717,
          15.0072,
          14.8159,
          14.6036,
          14.4231,
          14.2258,
          14.0361,
          13.8472,
          13.6518,
          13.4516,
          13.2331,
          13.0259,
          12.8335,
          12.6041,
          12.4031,
          12.1818,
          11.9525,
          11.7106,
          11.4714,
          11.1992,
          10.907,
          10.5605,
          10.1992,
          9.6551,
          9.2547,
          8.76,
          8.3088,
          7.8822,
          7.4757,
          7.1521,
          6.9132,
          6.7468,
          6.6018,
          6.4586,
          6.3295,
          6.2086,
          6.0845,
          5.9567,
          5.8499,
          5.7195,
          5.6135,
          5.4967,
          5.3582,
          5.2327,
          5.1103,
          4.9929,
          4.8673,
          4.7275,
          4.6081,
          4.4736,
          4.3447,
          4.2228,
          4.0957,
          3.9678,
          3.8465,
          3.7139,
          3.5971,
          3.4661,
          3.3629,
          3.2605,
          3.1477,
          3.0437,
          2.9436,
          2.8352,
          2.7512,
          2.6638,
          2.5763,
          2.4989,
          2.3733,
          2.2819,
          2.1961,
          2.123,
          2.0369,
          1.9508,
          1.8672,
          1.7916,
          1.7046,
          1.6287,
          1.5458,
          1.4596,
          1.3845,
          1.3118,
          1.2383,
          1.1545
         ],
         "yaxis": "y"
        },
        {
         "hovertemplate": "variable=m5_CdSe_MgCl2_muffle<br>Wavelength=%{x}<br>value=%{y}<extra></extra>",
         "legendgroup": "m5_CdSe_MgCl2_muffle",
         "line": {
          "color": "#ab63fa",
          "dash": "solid"
         },
         "marker": {
          "symbol": "circle"
         },
         "mode": "lines+markers",
         "name": "m5_CdSe_MgCl2_muffle",
         "orientation": "v",
         "showlegend": true,
         "type": "scatter",
         "x": [
          900,
          897,
          894,
          891,
          888,
          885,
          882,
          879,
          876,
          873,
          870,
          867,
          864,
          861,
          858,
          855,
          852,
          849,
          846,
          843,
          840,
          837,
          834,
          831,
          828,
          825,
          822,
          819,
          816,
          813,
          810,
          807,
          804,
          801,
          798,
          795,
          792,
          789,
          786,
          783,
          780,
          777,
          774,
          771,
          768,
          765,
          762,
          759,
          756,
          753,
          750,
          747,
          744,
          741,
          738,
          735,
          732,
          729,
          726,
          723,
          720,
          717,
          714,
          711,
          708,
          705,
          702,
          699,
          696,
          693,
          690,
          687,
          684,
          681,
          678,
          675,
          672,
          669,
          666,
          663,
          660,
          657,
          654,
          651,
          648,
          645,
          642,
          639,
          636,
          633,
          630,
          627,
          624,
          621,
          618,
          615,
          612,
          609,
          606,
          603,
          600,
          597,
          594,
          591,
          588,
          585,
          582,
          579,
          576,
          573,
          570,
          567,
          564,
          561,
          558,
          555,
          552,
          549,
          546,
          543,
          540,
          537,
          534,
          531,
          528,
          525,
          522,
          519,
          516,
          513,
          510,
          507,
          504,
          501,
          498,
          495,
          492,
          489,
          486,
          483,
          480,
          477,
          474,
          471,
          468,
          465,
          462,
          459,
          456,
          453,
          450,
          447,
          444,
          441,
          438,
          435,
          432,
          429,
          426,
          423,
          420,
          417,
          414,
          411,
          408,
          405,
          402
         ],
         "xaxis": "x",
         "y": [
          66.1744,
          66.0067,
          65.9867,
          65.9247,
          65.827,
          65.7538,
          65.5808,
          65.6132,
          65.6708,
          65.591,
          65.6869,
          65.5146,
          65.5903,
          65.7131,
          65.6315,
          65.6122,
          65.6789,
          65.5968,
          65.7611,
          65.9867,
          65.9539,
          65.9211,
          66.0128,
          65.9281,
          65.8971,
          65.8727,
          65.8698,
          65.7382,
          65.7413,
          65.7555,
          65.5473,
          65.4808,
          65.3308,
          65.1845,
          65.127,
          64.9642,
          64.5722,
          64.559,
          64.3502,
          64.3282,
          64.1741,
          64.1345,
          63.9051,
          63.95,
          63.8914,
          63.8176,
          63.7832,
          63.5674,
          63.6242,
          63.7989,
          63.8567,
          63.9444,
          63.9791,
          63.9884,
          63.9656,
          63.6356,
          62.9381,
          61.6629,
          59.5251,
          55.7318,
          50.6528,
          44.2309,
          37.5252,
          32.2294,
          28.3343,
          25.172,
          22.8279,
          20.8847,
          19.5213,
          18.5583,
          17.8848,
          17.4625,
          17.1729,
          16.9354,
          16.7187,
          16.4912,
          16.2673,
          16.0702,
          15.8185,
          15.5989,
          15.3651,
          15.0866,
          14.8486,
          14.6242,
          14.4041,
          14.1318,
          13.8633,
          13.6149,
          13.3542,
          13.0902,
          12.8477,
          12.5942,
          12.3078,
          12.0486,
          11.7815,
          11.517,
          11.2293,
          10.98,
          10.6956,
          10.4278,
          10.1281,
          9.8311,
          9.5144,
          9.1741,
          8.7573,
          8.3537,
          7.6168,
          7.1351,
          6.5553,
          6.039,
          5.5485,
          5.0847,
          4.7351,
          4.4837,
          4.3091,
          4.15,
          4.0042,
          3.8689,
          3.745,
          3.6189,
          3.4842,
          3.3675,
          3.2424,
          3.1418,
          3.0291,
          2.9108,
          2.8076,
          2.6905,
          2.5963,
          2.4928,
          2.381,
          2.2866,
          2.1836,
          2.0912,
          2.006,
          1.9175,
          1.8277,
          1.7406,
          1.6561,
          1.5843,
          1.495,
          1.4308,
          1.3586,
          1.2897,
          1.2299,
          1.1659,
          1.0969,
          1.0519,
          0.9965,
          0.9481,
          0.9028,
          0.8186,
          0.7629,
          0.7146,
          0.6804,
          0.6362,
          0.5924,
          0.5495,
          0.5169,
          0.4761,
          0.4442,
          0.409,
          0.3757,
          0.3477,
          0.3263,
          0.2994,
          0.2779
         ],
         "yaxis": "y"
        }
       ],
       "layout": {
        "legend": {
         "title": {
          "text": "variable"
         },
         "tracegroupgap": 0
        },
        "template": {
         "data": {
          "bar": [
           {
            "error_x": {
             "color": "#2a3f5f"
            },
            "error_y": {
             "color": "#2a3f5f"
            },
            "marker": {
             "line": {
              "color": "#E5ECF6",
              "width": 0.5
             },
             "pattern": {
              "fillmode": "overlay",
              "size": 10,
              "solidity": 0.2
             }
            },
            "type": "bar"
           }
          ],
          "barpolar": [
           {
            "marker": {
             "line": {
              "color": "#E5ECF6",
              "width": 0.5
             },
             "pattern": {
              "fillmode": "overlay",
              "size": 10,
              "solidity": 0.2
             }
            },
            "type": "barpolar"
           }
          ],
          "carpet": [
           {
            "aaxis": {
             "endlinecolor": "#2a3f5f",
             "gridcolor": "white",
             "linecolor": "white",
             "minorgridcolor": "white",
             "startlinecolor": "#2a3f5f"
            },
            "baxis": {
             "endlinecolor": "#2a3f5f",
             "gridcolor": "white",
             "linecolor": "white",
             "minorgridcolor": "white",
             "startlinecolor": "#2a3f5f"
            },
            "type": "carpet"
           }
          ],
          "choropleth": [
           {
            "colorbar": {
             "outlinewidth": 0,
             "ticks": ""
            },
            "type": "choropleth"
           }
          ],
          "contour": [
           {
            "colorbar": {
             "outlinewidth": 0,
             "ticks": ""
            },
            "colorscale": [
             [
              0,
              "#0d0887"
             ],
             [
              0.1111111111111111,
              "#46039f"
             ],
             [
              0.2222222222222222,
              "#7201a8"
             ],
             [
              0.3333333333333333,
              "#9c179e"
             ],
             [
              0.4444444444444444,
              "#bd3786"
             ],
             [
              0.5555555555555556,
              "#d8576b"
             ],
             [
              0.6666666666666666,
              "#ed7953"
             ],
             [
              0.7777777777777778,
              "#fb9f3a"
             ],
             [
              0.8888888888888888,
              "#fdca26"
             ],
             [
              1,
              "#f0f921"
             ]
            ],
            "type": "contour"
           }
          ],
          "contourcarpet": [
           {
            "colorbar": {
             "outlinewidth": 0,
             "ticks": ""
            },
            "type": "contourcarpet"
           }
          ],
          "heatmap": [
           {
            "colorbar": {
             "outlinewidth": 0,
             "ticks": ""
            },
            "colorscale": [
             [
              0,
              "#0d0887"
             ],
             [
              0.1111111111111111,
              "#46039f"
             ],
             [
              0.2222222222222222,
              "#7201a8"
             ],
             [
              0.3333333333333333,
              "#9c179e"
             ],
             [
              0.4444444444444444,
              "#bd3786"
             ],
             [
              0.5555555555555556,
              "#d8576b"
             ],
             [
              0.6666666666666666,
              "#ed7953"
             ],
             [
              0.7777777777777778,
              "#fb9f3a"
             ],
             [
              0.8888888888888888,
              "#fdca26"
             ],
             [
              1,
              "#f0f921"
             ]
            ],
            "type": "heatmap"
           }
          ],
          "heatmapgl": [
           {
            "colorbar": {
             "outlinewidth": 0,
             "ticks": ""
            },
            "colorscale": [
             [
              0,
              "#0d0887"
             ],
             [
              0.1111111111111111,
              "#46039f"
             ],
             [
              0.2222222222222222,
              "#7201a8"
             ],
             [
              0.3333333333333333,
              "#9c179e"
             ],
             [
              0.4444444444444444,
              "#bd3786"
             ],
             [
              0.5555555555555556,
              "#d8576b"
             ],
             [
              0.6666666666666666,
              "#ed7953"
             ],
             [
              0.7777777777777778,
              "#fb9f3a"
             ],
             [
              0.8888888888888888,
              "#fdca26"
             ],
             [
              1,
              "#f0f921"
             ]
            ],
            "type": "heatmapgl"
           }
          ],
          "histogram": [
           {
            "marker": {
             "pattern": {
              "fillmode": "overlay",
              "size": 10,
              "solidity": 0.2
             }
            },
            "type": "histogram"
           }
          ],
          "histogram2d": [
           {
            "colorbar": {
             "outlinewidth": 0,
             "ticks": ""
            },
            "colorscale": [
             [
              0,
              "#0d0887"
             ],
             [
              0.1111111111111111,
              "#46039f"
             ],
             [
              0.2222222222222222,
              "#7201a8"
             ],
             [
              0.3333333333333333,
              "#9c179e"
             ],
             [
              0.4444444444444444,
              "#bd3786"
             ],
             [
              0.5555555555555556,
              "#d8576b"
             ],
             [
              0.6666666666666666,
              "#ed7953"
             ],
             [
              0.7777777777777778,
              "#fb9f3a"
             ],
             [
              0.8888888888888888,
              "#fdca26"
             ],
             [
              1,
              "#f0f921"
             ]
            ],
            "type": "histogram2d"
           }
          ],
          "histogram2dcontour": [
           {
            "colorbar": {
             "outlinewidth": 0,
             "ticks": ""
            },
            "colorscale": [
             [
              0,
              "#0d0887"
             ],
             [
              0.1111111111111111,
              "#46039f"
             ],
             [
              0.2222222222222222,
              "#7201a8"
             ],
             [
              0.3333333333333333,
              "#9c179e"
             ],
             [
              0.4444444444444444,
              "#bd3786"
             ],
             [
              0.5555555555555556,
              "#d8576b"
             ],
             [
              0.6666666666666666,
              "#ed7953"
             ],
             [
              0.7777777777777778,
              "#fb9f3a"
             ],
             [
              0.8888888888888888,
              "#fdca26"
             ],
             [
              1,
              "#f0f921"
             ]
            ],
            "type": "histogram2dcontour"
           }
          ],
          "mesh3d": [
           {
            "colorbar": {
             "outlinewidth": 0,
             "ticks": ""
            },
            "type": "mesh3d"
           }
          ],
          "parcoords": [
           {
            "line": {
             "colorbar": {
              "outlinewidth": 0,
              "ticks": ""
             }
            },
            "type": "parcoords"
           }
          ],
          "pie": [
           {
            "automargin": true,
            "type": "pie"
           }
          ],
          "scatter": [
           {
            "fillpattern": {
             "fillmode": "overlay",
             "size": 10,
             "solidity": 0.2
            },
            "type": "scatter"
           }
          ],
          "scatter3d": [
           {
            "line": {
             "colorbar": {
              "outlinewidth": 0,
              "ticks": ""
             }
            },
            "marker": {
             "colorbar": {
              "outlinewidth": 0,
              "ticks": ""
             }
            },
            "type": "scatter3d"
           }
          ],
          "scattercarpet": [
           {
            "marker": {
             "colorbar": {
              "outlinewidth": 0,
              "ticks": ""
             }
            },
            "type": "scattercarpet"
           }
          ],
          "scattergeo": [
           {
            "marker": {
             "colorbar": {
              "outlinewidth": 0,
              "ticks": ""
             }
            },
            "type": "scattergeo"
           }
          ],
          "scattergl": [
           {
            "marker": {
             "colorbar": {
              "outlinewidth": 0,
              "ticks": ""
             }
            },
            "type": "scattergl"
           }
          ],
          "scattermapbox": [
           {
            "marker": {
             "colorbar": {
              "outlinewidth": 0,
              "ticks": ""
             }
            },
            "type": "scattermapbox"
           }
          ],
          "scatterpolar": [
           {
            "marker": {
             "colorbar": {
              "outlinewidth": 0,
              "ticks": ""
             }
            },
            "type": "scatterpolar"
           }
          ],
          "scatterpolargl": [
           {
            "marker": {
             "colorbar": {
              "outlinewidth": 0,
              "ticks": ""
             }
            },
            "type": "scatterpolargl"
           }
          ],
          "scatterternary": [
           {
            "marker": {
             "colorbar": {
              "outlinewidth": 0,
              "ticks": ""
             }
            },
            "type": "scatterternary"
           }
          ],
          "surface": [
           {
            "colorbar": {
             "outlinewidth": 0,
             "ticks": ""
            },
            "colorscale": [
             [
              0,
              "#0d0887"
             ],
             [
              0.1111111111111111,
              "#46039f"
             ],
             [
              0.2222222222222222,
              "#7201a8"
             ],
             [
              0.3333333333333333,
              "#9c179e"
             ],
             [
              0.4444444444444444,
              "#bd3786"
             ],
             [
              0.5555555555555556,
              "#d8576b"
             ],
             [
              0.6666666666666666,
              "#ed7953"
             ],
             [
              0.7777777777777778,
              "#fb9f3a"
             ],
             [
              0.8888888888888888,
              "#fdca26"
             ],
             [
              1,
              "#f0f921"
             ]
            ],
            "type": "surface"
           }
          ],
          "table": [
           {
            "cells": {
             "fill": {
              "color": "#EBF0F8"
             },
             "line": {
              "color": "white"
             }
            },
            "header": {
             "fill": {
              "color": "#C8D4E3"
             },
             "line": {
              "color": "white"
             }
            },
            "type": "table"
           }
          ]
         },
         "layout": {
          "annotationdefaults": {
           "arrowcolor": "#2a3f5f",
           "arrowhead": 0,
           "arrowwidth": 1
          },
          "autotypenumbers": "strict",
          "coloraxis": {
           "colorbar": {
            "outlinewidth": 0,
            "ticks": ""
           }
          },
          "colorscale": {
           "diverging": [
            [
             0,
             "#8e0152"
            ],
            [
             0.1,
             "#c51b7d"
            ],
            [
             0.2,
             "#de77ae"
            ],
            [
             0.3,
             "#f1b6da"
            ],
            [
             0.4,
             "#fde0ef"
            ],
            [
             0.5,
             "#f7f7f7"
            ],
            [
             0.6,
             "#e6f5d0"
            ],
            [
             0.7,
             "#b8e186"
            ],
            [
             0.8,
             "#7fbc41"
            ],
            [
             0.9,
             "#4d9221"
            ],
            [
             1,
             "#276419"
            ]
           ],
           "sequential": [
            [
             0,
             "#0d0887"
            ],
            [
             0.1111111111111111,
             "#46039f"
            ],
            [
             0.2222222222222222,
             "#7201a8"
            ],
            [
             0.3333333333333333,
             "#9c179e"
            ],
            [
             0.4444444444444444,
             "#bd3786"
            ],
            [
             0.5555555555555556,
             "#d8576b"
            ],
            [
             0.6666666666666666,
             "#ed7953"
            ],
            [
             0.7777777777777778,
             "#fb9f3a"
            ],
            [
             0.8888888888888888,
             "#fdca26"
            ],
            [
             1,
             "#f0f921"
            ]
           ],
           "sequentialminus": [
            [
             0,
             "#0d0887"
            ],
            [
             0.1111111111111111,
             "#46039f"
            ],
            [
             0.2222222222222222,
             "#7201a8"
            ],
            [
             0.3333333333333333,
             "#9c179e"
            ],
            [
             0.4444444444444444,
             "#bd3786"
            ],
            [
             0.5555555555555556,
             "#d8576b"
            ],
            [
             0.6666666666666666,
             "#ed7953"
            ],
            [
             0.7777777777777778,
             "#fb9f3a"
            ],
            [
             0.8888888888888888,
             "#fdca26"
            ],
            [
             1,
             "#f0f921"
            ]
           ]
          },
          "colorway": [
           "#636efa",
           "#EF553B",
           "#00cc96",
           "#ab63fa",
           "#FFA15A",
           "#19d3f3",
           "#FF6692",
           "#B6E880",
           "#FF97FF",
           "#FECB52"
          ],
          "font": {
           "color": "#2a3f5f"
          },
          "geo": {
           "bgcolor": "white",
           "lakecolor": "white",
           "landcolor": "#E5ECF6",
           "showlakes": true,
           "showland": true,
           "subunitcolor": "white"
          },
          "hoverlabel": {
           "align": "left"
          },
          "hovermode": "closest",
          "mapbox": {
           "style": "light"
          },
          "paper_bgcolor": "white",
          "plot_bgcolor": "#E5ECF6",
          "polar": {
           "angularaxis": {
            "gridcolor": "white",
            "linecolor": "white",
            "ticks": ""
           },
           "bgcolor": "#E5ECF6",
           "radialaxis": {
            "gridcolor": "white",
            "linecolor": "white",
            "ticks": ""
           }
          },
          "scene": {
           "xaxis": {
            "backgroundcolor": "#E5ECF6",
            "gridcolor": "white",
            "gridwidth": 2,
            "linecolor": "white",
            "showbackground": true,
            "ticks": "",
            "zerolinecolor": "white"
           },
           "yaxis": {
            "backgroundcolor": "#E5ECF6",
            "gridcolor": "white",
            "gridwidth": 2,
            "linecolor": "white",
            "showbackground": true,
            "ticks": "",
            "zerolinecolor": "white"
           },
           "zaxis": {
            "backgroundcolor": "#E5ECF6",
            "gridcolor": "white",
            "gridwidth": 2,
            "linecolor": "white",
            "showbackground": true,
            "ticks": "",
            "zerolinecolor": "white"
           }
          },
          "shapedefaults": {
           "line": {
            "color": "#2a3f5f"
           }
          },
          "ternary": {
           "aaxis": {
            "gridcolor": "white",
            "linecolor": "white",
            "ticks": ""
           },
           "baxis": {
            "gridcolor": "white",
            "linecolor": "white",
            "ticks": ""
           },
           "bgcolor": "#E5ECF6",
           "caxis": {
            "gridcolor": "white",
            "linecolor": "white",
            "ticks": ""
           }
          },
          "title": {
           "x": 0.05
          },
          "xaxis": {
           "automargin": true,
           "gridcolor": "white",
           "linecolor": "white",
           "ticks": "",
           "title": {
            "standoff": 15
           },
           "zerolinecolor": "white",
           "zerolinewidth": 2
          },
          "yaxis": {
           "automargin": true,
           "gridcolor": "white",
           "linecolor": "white",
           "ticks": "",
           "title": {
            "standoff": 15
           },
           "zerolinecolor": "white",
           "zerolinewidth": 2
          }
         }
        },
        "title": {
         "text": "Transmittance of four CdSe thin films-Part 2(Plotly)",
         "x": 0.5
        },
        "xaxis": {
         "anchor": "y",
         "domain": [
          0,
          1
         ],
         "linecolor": "black",
         "mirror": true,
         "title": {
          "text": "Wavelength"
         }
        },
        "yaxis": {
         "anchor": "x",
         "domain": [
          0,
          1
         ],
         "linecolor": "black",
         "mirror": true,
         "title": {
          "text": "Transmittance (%)"
         }
        }
       }
      }
     },
     "metadata": {},
     "output_type": "display_data"
    }
   ],
   "source": [
    "fig_2 = px.line(\n",
    "    m_2,\n",
    "    x=\"Wavelength\",\n",
    "    y=[\"m3_CdSe_CdCl2_muffle\", \"m4_CdSe_CdCl2\", \"m6_CdSe_MgCl2\", \"m5_CdSe_MgCl2_muffle\"],\n",
    "    markers=True,\n",
    "    title=\"Transmittance of four CdSe thin films-Part 2(Plotly)\"\n",
    ")\n",
    "\n",
    "fig_2.update_layout(title_x=0.5, yaxis_title=\"Transmittance (%)\")\n",
    "fig_2.update_xaxes(linecolor=\"black\", mirror=True)\n",
    "fig_2.update_yaxes(linecolor=\"black\", mirror=True)\n",
    "\n",
    "fig_2.show()"
   ]
  },
  {
   "cell_type": "markdown",
   "metadata": {},
   "source": [
    "### Using pandas to find maximum transmittances"
   ]
  },
  {
   "cell_type": "markdown",
   "metadata": {},
   "source": [
    "#### Part 1 using Pandas"
   ]
  },
  {
   "cell_type": "code",
   "execution_count": 87,
   "metadata": {},
   "outputs": [
    {
     "data": {
      "image/png": "[encoded data removed]",
      "text/plain": [
       "<Figure size 1000x1000 with 1 Axes>"
      ]
     },
     "metadata": {},
     "output_type": "display_data"
    }
   ],
   "source": [
    "# Melting m_1 to create a plot with sns\n",
    "m_1m = m_1.melt(\"Wavelength\", var_name=\"Sample\", value_name=\"Transmittance (%)\")\n",
    "\n",
    "fig_3, ax1 = plt.subplots(figsize=(10, 10))\n",
    "trans_part1 = sns.lineplot(\n",
    "    data=m_1m,\n",
    "    x=m_1m[\"Wavelength\"],\n",
    "    y=m_1m[\"Transmittance (%)\"],\n",
    "    hue=\"Sample\"\n",
    ")\n",
    "\n",
    "ax1.set_title(\"Transmittances of CdSe Thin Films-Part 1 (Seaborn)\")\n",
    "ax1.set_xlabel(\"Wavelength (nm)\")\n",
    "\n",
    "plt.show()"
   ]
  },
  {
   "cell_type": "markdown",
   "metadata": {},
   "source": [
    "##### Searching for mamixmum transmittances in m8_CdSe and m9_CdSe "
   ]
  },
  {
   "cell_type": "code",
   "execution_count": 88,
   "metadata": {},
   "outputs": [],
   "source": [
    "# Creating a dataframe for sample 1 and 2\n",
    "df_m8 = m_1m.loc[m_1m[\"Sample\"] == \"m8_CdSe\"]\n",
    "df_m9 = m_1m.loc[m_1m[\"Sample\"] == \"m9_CdSe\"]"
   ]
  },
  {
   "cell_type": "markdown",
   "metadata": {},
   "source": [
    "For m8_CdSe"
   ]
  },
  {
   "cell_type": "code",
   "execution_count": 89,
   "metadata": {},
   "outputs": [
    {
     "data": {
      "text/html": [
       "<div>\n",
       "<style scoped>\n",
       "    .dataframe tbody tr th:only-of-type {\n",
       "        vertical-align: middle;\n",
       "    }\n",
       "\n",
       "    .dataframe tbody tr th {\n",
       "        vertical-align: top;\n",
       "    }\n",
       "\n",
       "    .dataframe thead th {\n",
       "        text-align: right;\n",
       "    }\n",
       "</style>\n",
       "<table border=\"1\" class=\"dataframe\">\n",
       "  <thead>\n",
       "    <tr style=\"text-align: right;\">\n",
       "      <th></th>\n",
       "      <th>Wavelength</th>\n",
       "      <th>Sample</th>\n",
       "      <th>Transmittance (%)</th>\n",
       "    </tr>\n",
       "  </thead>\n",
       "  <tbody>\n",
       "    <tr>\n",
       "      <th>35</th>\n",
       "      <td>845</td>\n",
       "      <td>m8_CdSe</td>\n",
       "      <td>70.3447</td>\n",
       "    </tr>\n",
       "  </tbody>\n",
       "</table>\n",
       "</div>"
      ],
      "text/plain": [
       "    Wavelength   Sample  Transmittance (%)\n",
       "35         845  m8_CdSe            70.3447"
      ]
     },
     "execution_count": 89,
     "metadata": {},
     "output_type": "execute_result"
    }
   ],
   "source": [
    "max_tm8 = df_m8.loc[df_m8[\"Transmittance (%)\"] == df_m8[\"Transmittance (%)\"].max()]\n",
    "max_tm8"
   ]
  },
  {
   "cell_type": "markdown",
   "metadata": {},
   "source": [
    "The maximum transmittance for m8_CdSe is of $70.3447$% at a wavelength of $845$ $nm$."
   ]
  },
  {
   "cell_type": "markdown",
   "metadata": {},
   "source": [
    "For m9_CdSe"
   ]
  },
  {
   "cell_type": "code",
   "execution_count": 90,
   "metadata": {},
   "outputs": [
    {
     "data": {
      "text/html": [
       "<div>\n",
       "<style scoped>\n",
       "    .dataframe tbody tr th:only-of-type {\n",
       "        vertical-align: middle;\n",
       "    }\n",
       "\n",
       "    .dataframe tbody tr th {\n",
       "        vertical-align: top;\n",
       "    }\n",
       "\n",
       "    .dataframe thead th {\n",
       "        text-align: right;\n",
       "    }\n",
       "</style>\n",
       "<table border=\"1\" class=\"dataframe\">\n",
       "  <thead>\n",
       "    <tr style=\"text-align: right;\">\n",
       "      <th></th>\n",
       "      <th>Wavelength</th>\n",
       "      <th>Sample</th>\n",
       "      <th>Transmittance (%)</th>\n",
       "    </tr>\n",
       "  </thead>\n",
       "  <tbody>\n",
       "    <tr>\n",
       "      <th>184</th>\n",
       "      <td>950</td>\n",
       "      <td>m9_CdSe</td>\n",
       "      <td>72.6834</td>\n",
       "    </tr>\n",
       "  </tbody>\n",
       "</table>\n",
       "</div>"
      ],
      "text/plain": [
       "     Wavelength   Sample  Transmittance (%)\n",
       "184         950  m9_CdSe            72.6834"
      ]
     },
     "execution_count": 90,
     "metadata": {},
     "output_type": "execute_result"
    }
   ],
   "source": [
    "max_tm9 = df_m9.loc[df_m9[\"Transmittance (%)\"] == df_m9[\"Transmittance (%)\"].max()]\n",
    "max_tm9"
   ]
  },
  {
   "cell_type": "markdown",
   "metadata": {},
   "source": [
    "The maximum transmittance for m8_CdSe is of $72.6834$% at a wavelength of $950$ $nm$."
   ]
  },
  {
   "cell_type": "markdown",
   "metadata": {},
   "source": [
    "#### Part 2 using Pandas"
   ]
  },
  {
   "cell_type": "code",
   "execution_count": 91,
   "metadata": {},
   "outputs": [
    {
     "data": {
      "image/png": "[encoded data removed]",
      "text/plain": [
       "<Figure size 1000x1000 with 1 Axes>"
      ]
     },
     "metadata": {},
     "output_type": "display_data"
    }
   ],
   "source": [
    "# Melting m_2 to create a plot with sns\n",
    "m_2m = m_2.melt(\"Wavelength\", var_name=\"Sample\", value_name=\"Transmittance (%)\")\n",
    "\n",
    "fig_4, ax2 = plt.subplots(figsize=(10, 10))\n",
    "trans_part1 = sns.lineplot(\n",
    "    data=m_2m,\n",
    "    x=m_2m[\"Wavelength\"],\n",
    "    y=m_2m[\"Transmittance (%)\"],\n",
    "    hue=\"Sample\"\n",
    ")\n",
    "\n",
    "ax2.set_title(\"Transmittances for CdSe Thin Films-Part 2 (Seaborn)\")\n",
    "ax2.set_xlabel(\"Wavelength (nm)\")\n",
    "\n",
    "plt.show()"
   ]
  },
  {
   "cell_type": "markdown",
   "metadata": {},
   "source": [
    "##### Searching for maximum transmittances in m3_CdSe_CdCl2_muffle, m4_CdSe_CdCl2, m6_CdSe_MgCl2 and m5_CdSe_MgCl2_muffle"
   ]
  },
  {
   "cell_type": "code",
   "execution_count": 92,
   "metadata": {},
   "outputs": [],
   "source": [
    "# Creating a dataframe for samples 3, 4, 5 and 6 to search maximum transmittances\n",
    "df_m3 = m_2m.loc[m_2m[\"Sample\"] == \"m3_CdSe_CdCl2_muffle\"]\n",
    "df_m4 = m_2m.loc[m_2m[\"Sample\"] == \"m4_CdSe_CdCl2\"]\n",
    "df_m6 = m_2m.loc[m_2m[\"Sample\"] == \"m6_CdSe_MgCl2\"]\n",
    "df_m5 = m_2m.loc[m_2m[\"Sample\"] == \"m5_CdSe_MgCl2_muffle\"]"
   ]
  },
  {
   "cell_type": "markdown",
   "metadata": {},
   "source": [
    "For m3_CdSe_CdCl2_muffle"
   ]
  },
  {
   "cell_type": "code",
   "execution_count": 93,
   "metadata": {},
   "outputs": [
    {
     "data": {
      "text/html": [
       "<div>\n",
       "<style scoped>\n",
       "    .dataframe tbody tr th:only-of-type {\n",
       "        vertical-align: middle;\n",
       "    }\n",
       "\n",
       "    .dataframe tbody tr th {\n",
       "        vertical-align: top;\n",
       "    }\n",
       "\n",
       "    .dataframe thead th {\n",
       "        text-align: right;\n",
       "    }\n",
       "</style>\n",
       "<table border=\"1\" class=\"dataframe\">\n",
       "  <thead>\n",
       "    <tr style=\"text-align: right;\">\n",
       "      <th></th>\n",
       "      <th>Wavelength</th>\n",
       "      <th>Sample</th>\n",
       "      <th>Transmittance (%)</th>\n",
       "    </tr>\n",
       "  </thead>\n",
       "  <tbody>\n",
       "    <tr>\n",
       "      <th>10</th>\n",
       "      <td>870</td>\n",
       "      <td>m3_CdSe_CdCl2_muffle</td>\n",
       "      <td>66.6151</td>\n",
       "    </tr>\n",
       "  </tbody>\n",
       "</table>\n",
       "</div>"
      ],
      "text/plain": [
       "    Wavelength                Sample  Transmittance (%)\n",
       "10         870  m3_CdSe_CdCl2_muffle            66.6151"
      ]
     },
     "execution_count": 93,
     "metadata": {},
     "output_type": "execute_result"
    }
   ],
   "source": [
    "# Searching for maxmimum value\n",
    "max_tm3 = df_m3.loc[df_m3[\"Transmittance (%)\"] == df_m3[\"Transmittance (%)\"].max()]\n",
    "max_tm3"
   ]
  },
  {
   "cell_type": "markdown",
   "metadata": {},
   "source": [
    "The maximum transmittance for m3_CdSe_CdCl2_muffle is of $66.6151$% at a wavelength of $870$ $nm$."
   ]
  },
  {
   "cell_type": "markdown",
   "metadata": {},
   "source": [
    "For m4_CdSe_CdCl2"
   ]
  },
  {
   "cell_type": "code",
   "execution_count": 94,
   "metadata": {},
   "outputs": [
    {
     "data": {
      "text/html": [
       "<div>\n",
       "<style scoped>\n",
       "    .dataframe tbody tr th:only-of-type {\n",
       "        vertical-align: middle;\n",
       "    }\n",
       "\n",
       "    .dataframe tbody tr th {\n",
       "        vertical-align: top;\n",
       "    }\n",
       "\n",
       "    .dataframe thead th {\n",
       "        text-align: right;\n",
       "    }\n",
       "</style>\n",
       "<table border=\"1\" class=\"dataframe\">\n",
       "  <thead>\n",
       "    <tr style=\"text-align: right;\">\n",
       "      <th></th>\n",
       "      <th>Wavelength</th>\n",
       "      <th>Sample</th>\n",
       "      <th>Transmittance (%)</th>\n",
       "    </tr>\n",
       "  </thead>\n",
       "  <tbody>\n",
       "    <tr>\n",
       "      <th>167</th>\n",
       "      <td>900</td>\n",
       "      <td>m4_CdSe_CdCl2</td>\n",
       "      <td>49.8294</td>\n",
       "    </tr>\n",
       "  </tbody>\n",
       "</table>\n",
       "</div>"
      ],
      "text/plain": [
       "     Wavelength         Sample  Transmittance (%)\n",
       "167         900  m4_CdSe_CdCl2            49.8294"
      ]
     },
     "execution_count": 94,
     "metadata": {},
     "output_type": "execute_result"
    }
   ],
   "source": [
    "# Searching for maxmimum value\n",
    "max_tm4 = df_m4.loc[df_m4[\"Transmittance (%)\"] == df_m4[\"Transmittance (%)\"].max()]\n",
    "max_tm4"
   ]
  },
  {
   "cell_type": "markdown",
   "metadata": {},
   "source": [
    "The maximum transmittance for m4_CdSe_CdCl2 is of $49.8294$% at a wavelength of $900$ $nm$."
   ]
  },
  {
   "cell_type": "markdown",
   "metadata": {},
   "source": [
    "For m6_CdSe_MgCl2"
   ]
  },
  {
   "cell_type": "code",
   "execution_count": 95,
   "metadata": {},
   "outputs": [
    {
     "data": {
      "text/html": [
       "<div>\n",
       "<style scoped>\n",
       "    .dataframe tbody tr th:only-of-type {\n",
       "        vertical-align: middle;\n",
       "    }\n",
       "\n",
       "    .dataframe tbody tr th {\n",
       "        vertical-align: top;\n",
       "    }\n",
       "\n",
       "    .dataframe thead th {\n",
       "        text-align: right;\n",
       "    }\n",
       "</style>\n",
       "<table border=\"1\" class=\"dataframe\">\n",
       "  <thead>\n",
       "    <tr style=\"text-align: right;\">\n",
       "      <th></th>\n",
       "      <th>Wavelength</th>\n",
       "      <th>Sample</th>\n",
       "      <th>Transmittance (%)</th>\n",
       "    </tr>\n",
       "  </thead>\n",
       "  <tbody>\n",
       "    <tr>\n",
       "      <th>337</th>\n",
       "      <td>891</td>\n",
       "      <td>m6_CdSe_MgCl2</td>\n",
       "      <td>41.9758</td>\n",
       "    </tr>\n",
       "  </tbody>\n",
       "</table>\n",
       "</div>"
      ],
      "text/plain": [
       "     Wavelength         Sample  Transmittance (%)\n",
       "337         891  m6_CdSe_MgCl2            41.9758"
      ]
     },
     "execution_count": 95,
     "metadata": {},
     "output_type": "execute_result"
    }
   ],
   "source": [
    "# Searching for maxmimum value\n",
    "max_tm6 = df_m6.loc[df_m6[\"Transmittance (%)\"] == df_m6[\"Transmittance (%)\"].max()]\n",
    "max_tm6"
   ]
  },
  {
   "cell_type": "markdown",
   "metadata": {},
   "source": [
    "The maximum transmittance for m6_CdSe_MgCl2 is of $41.9758$% at a wavelength of $891$ $nm$."
   ]
  },
  {
   "cell_type": "markdown",
   "metadata": {},
   "source": [
    "For m5_CdSe_MgCl2_muffle"
   ]
  },
  {
   "cell_type": "code",
   "execution_count": 96,
   "metadata": {},
   "outputs": [
    {
     "data": {
      "text/html": [
       "<div>\n",
       "<style scoped>\n",
       "    .dataframe tbody tr th:only-of-type {\n",
       "        vertical-align: middle;\n",
       "    }\n",
       "\n",
       "    .dataframe tbody tr th {\n",
       "        vertical-align: top;\n",
       "    }\n",
       "\n",
       "    .dataframe thead th {\n",
       "        text-align: right;\n",
       "    }\n",
       "</style>\n",
       "<table border=\"1\" class=\"dataframe\">\n",
       "  <thead>\n",
       "    <tr style=\"text-align: right;\">\n",
       "      <th></th>\n",
       "      <th>Wavelength</th>\n",
       "      <th>Sample</th>\n",
       "      <th>Transmittance (%)</th>\n",
       "    </tr>\n",
       "  </thead>\n",
       "  <tbody>\n",
       "    <tr>\n",
       "      <th>501</th>\n",
       "      <td>900</td>\n",
       "      <td>m5_CdSe_MgCl2_muffle</td>\n",
       "      <td>66.1744</td>\n",
       "    </tr>\n",
       "  </tbody>\n",
       "</table>\n",
       "</div>"
      ],
      "text/plain": [
       "     Wavelength                Sample  Transmittance (%)\n",
       "501         900  m5_CdSe_MgCl2_muffle            66.1744"
      ]
     },
     "execution_count": 96,
     "metadata": {},
     "output_type": "execute_result"
    }
   ],
   "source": [
    "# Searching for maxmimum value\n",
    "max_tm5 = df_m5.loc[df_m5[\"Transmittance (%)\"] == df_m5[\"Transmittance (%)\"].max()]\n",
    "max_tm5"
   ]
  },
  {
   "cell_type": "markdown",
   "metadata": {},
   "source": [
    "The maximum transmittance for m5_CdSe_MgCl2_muffle is of $66.1744$% at a wavelength of $900$ $nm$."
   ]
  },
  {
   "cell_type": "markdown",
   "metadata": {},
   "source": [
    "## Calculating the energy gap"
   ]
  },
  {
   "cell_type": "markdown",
   "metadata": {},
   "source": [
    "### Thicknesses of CdSe thin films"
   ]
  },
  {
   "cell_type": "markdown",
   "metadata": {},
   "source": [
    "The thickness for m8_CdSe is $103.120$ $nm$.  \n",
    "The thickness for m9_CdSe is $122.586$ $nm$.  \n",
    "The thickness for m3_CdSe_CdCl2_muffle is $201.53$ $nm$.  \n",
    "The thickness for m4_CdSe_CdCl2 is $357.21$ $nm$.  \n",
    "The thickness for m6_CdSe_MgCl2 is $124.66$ $nm$.  \n",
    "The thickness for m5_CdSe_MgCl2_muffle is $556.1$ $nm$.  "
   ]
  },
  {
   "cell_type": "code",
   "execution_count": 97,
   "metadata": {},
   "outputs": [],
   "source": [
    "d8 = (103.120) * (1E-7) \n",
    "d9 = (122.586) * (1E-7) \n",
    "d3 = (201.53) * (1E-7) \n",
    "d4 = (357.21) * (1E-7) \n",
    "d6 = (124.66) * (1E-7) \n",
    "d5 = (556.1) * (1E-7) "
   ]
  },
  {
   "cell_type": "markdown",
   "metadata": {},
   "source": [
    "### Creating new dataframes with wavelengths expressed as energies and their absorption coefficients"
   ]
  },
  {
   "cell_type": "code",
   "execution_count": 98,
   "metadata": {},
   "outputs": [
    {
     "data": {
      "text/plain": [
       "{'Touc_1':      Energy (eV)  Alpha (cm^-1)  Alpha^2 (cm^-2)   Sample\n",
       " 0       1.305263   38932.224863     1.515718e+09  m8_CdSe\n",
       " 1       1.309398   39032.099624     1.523505e+09  m8_CdSe\n",
       " 2       1.313559   38851.993714     1.509477e+09  m8_CdSe\n",
       " 3       1.317747   38742.181800     1.500957e+09  m8_CdSe\n",
       " 4       1.321962   39028.328897     1.523210e+09  m8_CdSe\n",
       " ..           ...            ...              ...      ...\n",
       " 179     3.002421  464372.805513     2.156421e+11  m8_CdSe\n",
       " 180     3.024390  471439.371479     2.222551e+11  m8_CdSe\n",
       " 181     3.046683  479919.405029     2.303226e+11  m8_CdSe\n",
       " 182     3.069307  487467.482159     2.376245e+11  m8_CdSe\n",
       " 183     3.092269  494692.728312     2.447209e+11  m8_CdSe\n",
       " \n",
       " [184 rows x 4 columns],\n",
       " 'Touc_2':      Energy (eV)  Alpha (cm^-1)  Alpha^2 (cm^-2)   Sample\n",
       " 184     1.305263   26027.210542     6.774157e+08  m9_CdSe\n",
       " 185     1.309398   26280.015810     6.906392e+08  m9_CdSe\n",
       " 186     1.313559   26240.058912     6.885407e+08  m9_CdSe\n",
       " 187     1.317747   26169.759784     6.848563e+08  m9_CdSe\n",
       " 188     1.321962   26612.133006     7.082056e+08  m9_CdSe\n",
       " ..           ...            ...              ...      ...\n",
       " 363     3.002421  347993.743820     1.210996e+11  m9_CdSe\n",
       " 364     3.024390  353175.255295     1.247328e+11  m9_CdSe\n",
       " 365     3.046683  358602.393455     1.285957e+11  m9_CdSe\n",
       " 366     3.069307  364530.274407     1.328823e+11  m9_CdSe\n",
       " 367     3.092269  370493.042715     1.372651e+11  m9_CdSe\n",
       " \n",
       " [184 rows x 4 columns],\n",
       " 'Touc_3':      Energy (eV)  Alpha (cm^-1)  Alpha^2 (cm^-2)                Sample\n",
       " 0       1.377778   20608.496910     4.247101e+08  m3_CdSe_CdCl2_muffle\n",
       " 1       1.382386   20676.495322     4.275175e+08  m3_CdSe_CdCl2_muffle\n",
       " 2       1.387025   20372.505392     4.150390e+08  m3_CdSe_CdCl2_muffle\n",
       " 3       1.391695   20343.337552     4.138514e+08  m3_CdSe_CdCl2_muffle\n",
       " 4       1.396396   20365.398826     4.147495e+08  m3_CdSe_CdCl2_muffle\n",
       " ..           ...            ...              ...                   ...\n",
       " 162     2.995169  265533.483419     7.050803e+10  m3_CdSe_CdCl2_muffle\n",
       " 163     3.017032  268966.655114     7.234306e+10  m3_CdSe_CdCl2_muffle\n",
       " 164     3.039216  272618.913862     7.432107e+10  m3_CdSe_CdCl2_muffle\n",
       " 165     3.061728  277285.518341     7.688726e+10  m3_CdSe_CdCl2_muffle\n",
       " 166     3.084577  280716.550439     7.880178e+10  m3_CdSe_CdCl2_muffle\n",
       " \n",
       " [167 rows x 4 columns],\n",
       " 'Touc_4':      Energy (eV)  Alpha (cm^-1)  Alpha^2 (cm^-2)         Sample\n",
       " 167     1.377778   19500.154383     3.802560e+08  m4_CdSe_CdCl2\n",
       " 168     1.382386   19612.799218     3.846619e+08  m4_CdSe_CdCl2\n",
       " 169     1.387025   19643.332418     3.858605e+08  m4_CdSe_CdCl2\n",
       " 170     1.391695   19707.781478     3.883967e+08  m4_CdSe_CdCl2\n",
       " 171     1.396396   19856.067720     3.942634e+08  m4_CdSe_CdCl2\n",
       " ..           ...            ...              ...            ...\n",
       " 329     2.995169  177144.447147     3.138016e+10  m4_CdSe_CdCl2\n",
       " 330     3.017032  178410.958125     3.183047e+10  m4_CdSe_CdCl2\n",
       " 331     3.039216  179668.794895     3.228088e+10  m4_CdSe_CdCl2\n",
       " 332     3.061728  180842.346379     3.270395e+10  m4_CdSe_CdCl2\n",
       " 333     3.084577  183465.845448     3.365972e+10  m4_CdSe_CdCl2\n",
       " \n",
       " [167 rows x 4 columns],\n",
       " 'Touc_5':      Energy (eV)  Alpha (cm^-1)  Alpha^2 (cm^-2)         Sample\n",
       " 334     1.377778   69777.488660     4.868898e+09  m6_CdSe_MgCl2\n",
       " 335     1.382386   69907.968236     4.887124e+09  m6_CdSe_MgCl2\n",
       " 336     1.387025   69792.422699     4.870982e+09  m6_CdSe_MgCl2\n",
       " 337     1.391695   69635.562670     4.849112e+09  m6_CdSe_MgCl2\n",
       " 338     1.396396   69810.615350     4.873522e+09  m6_CdSe_MgCl2\n",
       " ..           ...            ...              ...            ...\n",
       " 496     2.995169  339082.926392     1.149772e+11  m6_CdSe_MgCl2\n",
       " 497     3.017032  343320.321062     1.178688e+11  m6_CdSe_MgCl2\n",
       " 498     3.039216  347647.196062     1.208586e+11  m6_CdSe_MgCl2\n",
       " 499     3.061728  352272.638757     1.240960e+11  m6_CdSe_MgCl2\n",
       " 500     3.084577  357893.697752     1.280879e+11  m6_CdSe_MgCl2\n",
       " \n",
       " [167 rows x 4 columns],\n",
       " 'Touc_6':      Energy (eV)  Alpha (cm^-1)  Alpha^2 (cm^-2)                Sample\n",
       " 501     1.377778    7424.501075     5.512322e+07  m5_CdSe_MgCl2_muffle\n",
       " 502     1.382386    7470.130084     5.580284e+07  m5_CdSe_MgCl2_muffle\n",
       " 503     1.387025    7475.579562     5.588429e+07  m5_CdSe_MgCl2_muffle\n",
       " 504     1.391695    7492.483445     5.613731e+07  m5_CdSe_MgCl2_muffle\n",
       " 505     1.396396    7519.152985     5.653766e+07  m5_CdSe_MgCl2_muffle\n",
       " ..           ...            ...              ...                   ...\n",
       " 663     2.995169  100416.013530     1.008338e+10  m5_CdSe_MgCl2_muffle\n",
       " 664     3.017032  101808.765077     1.036502e+10  m5_CdSe_MgCl2_muffle\n",
       " 665     3.039216  102951.056669     1.059892e+10  m5_CdSe_MgCl2_muffle\n",
       " 666     3.061728  104498.201636     1.091987e+10  m5_CdSe_MgCl2_muffle\n",
       " 667     3.084577  105838.232840     1.120173e+10  m5_CdSe_MgCl2_muffle\n",
       " \n",
       " [167 rows x 4 columns]}"
      ]
     },
     "execution_count": 98,
     "metadata": {},
     "output_type": "execute_result"
    }
   ],
   "source": [
    "df_slist = [df_m8, df_m9, df_m3, df_m4, df_m6, df_m5]\n",
    "thickness = [d8, d9, d3, d4, d6, d5]\n",
    "energy_abs = {}\n",
    "sample_counter = 0\n",
    "\n",
    "for frame in df_slist:\n",
    "    energy = 1240/frame[\"Wavelength\"]\n",
    "    abs_coef = - (1/thickness[sample_counter]) * (np.log(frame[\"Transmittance (%)\"]/100))\n",
    "    sq_abs_coef = abs_coef ** 2\n",
    "    sample = frame[\"Sample\"]\n",
    "    abs_data = {\n",
    "        \"Energy (eV)\": energy,\n",
    "        \"Alpha (cm^-1)\": abs_coef,\n",
    "        \"Alpha^2 (cm^-2)\": sq_abs_coef,\n",
    "        \"Sample\": sample\n",
    "    }\n",
    "    \n",
    "    sample_counter += 1\n",
    "\n",
    "    df_abs = pd.DataFrame(abs_data)\n",
    "    energy_abs[f\"Touc_{sample_counter}\"] = df_abs\n",
    "\n",
    "energy_abs"
   ]
  },
  {
   "cell_type": "markdown",
   "metadata": {},
   "source": [
    "To see each dataframe for energy and absorption coefficient separately, it will be enough to write energy_abs[\"Touc_1\"] and so on.  \n",
    "For example:"
   ]
  },
  {
   "cell_type": "code",
   "execution_count": 99,
   "metadata": {},
   "outputs": [
    {
     "data": {
      "text/html": [
       "<div>\n",
       "<style scoped>\n",
       "    .dataframe tbody tr th:only-of-type {\n",
       "        vertical-align: middle;\n",
       "    }\n",
       "\n",
       "    .dataframe tbody tr th {\n",
       "        vertical-align: top;\n",
       "    }\n",
       "\n",
       "    .dataframe thead th {\n",
       "        text-align: right;\n",
       "    }\n",
       "</style>\n",
       "<table border=\"1\" class=\"dataframe\">\n",
       "  <thead>\n",
       "    <tr style=\"text-align: right;\">\n",
       "      <th></th>\n",
       "      <th>Energy (eV)</th>\n",
       "      <th>Alpha (cm^-1)</th>\n",
       "      <th>Alpha^2 (cm^-2)</th>\n",
       "      <th>Sample</th>\n",
       "    </tr>\n",
       "  </thead>\n",
       "  <tbody>\n",
       "    <tr>\n",
       "      <th>0</th>\n",
       "      <td>1.305263</td>\n",
       "      <td>38932.224863</td>\n",
       "      <td>1.515718e+09</td>\n",
       "      <td>m8_CdSe</td>\n",
       "    </tr>\n",
       "    <tr>\n",
       "      <th>1</th>\n",
       "      <td>1.309398</td>\n",
       "      <td>39032.099624</td>\n",
       "      <td>1.523505e+09</td>\n",
       "      <td>m8_CdSe</td>\n",
       "    </tr>\n",
       "    <tr>\n",
       "      <th>2</th>\n",
       "      <td>1.313559</td>\n",
       "      <td>38851.993714</td>\n",
       "      <td>1.509477e+09</td>\n",
       "      <td>m8_CdSe</td>\n",
       "    </tr>\n",
       "    <tr>\n",
       "      <th>3</th>\n",
       "      <td>1.317747</td>\n",
       "      <td>38742.181800</td>\n",
       "      <td>1.500957e+09</td>\n",
       "      <td>m8_CdSe</td>\n",
       "    </tr>\n",
       "    <tr>\n",
       "      <th>4</th>\n",
       "      <td>1.321962</td>\n",
       "      <td>39028.328897</td>\n",
       "      <td>1.523210e+09</td>\n",
       "      <td>m8_CdSe</td>\n",
       "    </tr>\n",
       "    <tr>\n",
       "      <th>...</th>\n",
       "      <td>...</td>\n",
       "      <td>...</td>\n",
       "      <td>...</td>\n",
       "      <td>...</td>\n",
       "    </tr>\n",
       "    <tr>\n",
       "      <th>179</th>\n",
       "      <td>3.002421</td>\n",
       "      <td>464372.805513</td>\n",
       "      <td>2.156421e+11</td>\n",
       "      <td>m8_CdSe</td>\n",
       "    </tr>\n",
       "    <tr>\n",
       "      <th>180</th>\n",
       "      <td>3.024390</td>\n",
       "      <td>471439.371479</td>\n",
       "      <td>2.222551e+11</td>\n",
       "      <td>m8_CdSe</td>\n",
       "    </tr>\n",
       "    <tr>\n",
       "      <th>181</th>\n",
       "      <td>3.046683</td>\n",
       "      <td>479919.405029</td>\n",
       "      <td>2.303226e+11</td>\n",
       "      <td>m8_CdSe</td>\n",
       "    </tr>\n",
       "    <tr>\n",
       "      <th>182</th>\n",
       "      <td>3.069307</td>\n",
       "      <td>487467.482159</td>\n",
       "      <td>2.376245e+11</td>\n",
       "      <td>m8_CdSe</td>\n",
       "    </tr>\n",
       "    <tr>\n",
       "      <th>183</th>\n",
       "      <td>3.092269</td>\n",
       "      <td>494692.728312</td>\n",
       "      <td>2.447209e+11</td>\n",
       "      <td>m8_CdSe</td>\n",
       "    </tr>\n",
       "  </tbody>\n",
       "</table>\n",
       "<p>184 rows × 4 columns</p>\n",
       "</div>"
      ],
      "text/plain": [
       "     Energy (eV)  Alpha (cm^-1)  Alpha^2 (cm^-2)   Sample\n",
       "0       1.305263   38932.224863     1.515718e+09  m8_CdSe\n",
       "1       1.309398   39032.099624     1.523505e+09  m8_CdSe\n",
       "2       1.313559   38851.993714     1.509477e+09  m8_CdSe\n",
       "3       1.317747   38742.181800     1.500957e+09  m8_CdSe\n",
       "4       1.321962   39028.328897     1.523210e+09  m8_CdSe\n",
       "..           ...            ...              ...      ...\n",
       "179     3.002421  464372.805513     2.156421e+11  m8_CdSe\n",
       "180     3.024390  471439.371479     2.222551e+11  m8_CdSe\n",
       "181     3.046683  479919.405029     2.303226e+11  m8_CdSe\n",
       "182     3.069307  487467.482159     2.376245e+11  m8_CdSe\n",
       "183     3.092269  494692.728312     2.447209e+11  m8_CdSe\n",
       "\n",
       "[184 rows x 4 columns]"
      ]
     },
     "execution_count": 99,
     "metadata": {},
     "output_type": "execute_result"
    }
   ],
   "source": [
    "energy_abs[\"Touc_1\"]"
   ]
  },
  {
   "cell_type": "markdown",
   "metadata": {},
   "source": []
  },
  {
   "cell_type": "markdown",
   "metadata": {},
   "source": [
    "### Looking for the region with linear behaviour"
   ]
  },
  {
   "cell_type": "code",
   "execution_count": 100,
   "metadata": {},
   "outputs": [
    {
     "data": {
      "application/vnd.plotly.v1+json": {
       "config": {
        "plotlyServerURL": "https://plot.ly"
       },
       "data": [
        {
         "hovertemplate": "Sample=m8_CdSe<br>Energy (eV)=%{x}<br>Alpha^2 (cm^-2)=%{y}<extra></extra>",
         "legendgroup": "m8_CdSe",
         "line": {
          "color": "#636efa",
          "dash": "solid"
         },
         "marker": {
          "symbol": "circle"
         },
         "mode": "lines+markers",
         "name": "m8_CdSe",
         "orientation": "v",
         "showlegend": true,
         "type": "scatter",
         "x": [
          1.305263157894737,
          1.3093980992608236,
          1.3135593220338984,
          1.3177470775770457,
          1.3219616204690832,
          1.3262032085561497,
          1.3304721030042919,
          1.334768568353068,
          1.3390928725701945,
          1.3434452871072589,
          1.3478260869565217,
          1.352235550708833,
          1.3566739606126914,
          1.3611416026344676,
          1.3656387665198237,
          1.3701657458563536,
          1.3747228381374723,
          1.3793103448275863,
          1.3839285714285714,
          1.3885778275475924,
          1.3932584269662922,
          1.3979706877113867,
          1.4027149321266967,
          1.4074914869466515,
          1.4123006833712983,
          1.417142857142857,
          1.4220183486238531,
          1.42692750287687,
          1.4318706697459584,
          1.436848203939745,
          1.441860465116279,
          1.4469078179696615,
          1.4519906323185012,
          1.4571092831962398,
          1.4622641509433962,
          1.467455621301775,
          1.4726840855106889,
          1.4779499404052443,
          1.4832535885167464,
          1.4885954381752702,
          1.4939759036144578,
          1.4993954050785974,
          1.5048543689320388,
          1.510353227771011,
          1.5158924205378974,
          1.521472392638037,
          1.5270935960591132,
          1.5327564894932015,
          1.5384615384615385,
          1.544209215442092,
          1.55,
          1.5558343789209537,
          1.561712846347607,
          1.5676359039190897,
          1.5736040609137056,
          1.5796178343949046,
          1.5856777493606138,
          1.5917843388960204,
          1.597938144329897,
          1.6041397153945667,
          1.6103896103896105,
          1.6166883963494132,
          1.6230366492146597,
          1.6294349540078843,
          1.6358839050131926,
          1.6423841059602649,
          1.648936170212766,
          1.6555407209612818,
          1.6621983914209115,
          1.6689098250336474,
          1.6756756756756757,
          1.682496607869742,
          1.6893732970027249,
          1.6963064295485637,
          1.7032967032967032,
          1.710344827586207,
          1.7174515235457064,
          1.7246175243393602,
          1.7318435754189945,
          1.7391304347826086,
          1.7464788732394365,
          1.7538896746817538,
          1.7613636363636365,
          1.768901569186876,
          1.7765042979942693,
          1.7841726618705036,
          1.7919075144508672,
          1.7997097242380262,
          1.8075801749271136,
          1.8155197657393851,
          1.8235294117647058,
          1.8316100443131462,
          1.8397626112759644,
          1.8479880774962743,
          1.8562874251497006,
          1.8646616541353382,
          1.8731117824773413,
          1.881638846737481,
          1.8902439024390243,
          1.898928024502297,
          1.9076923076923078,
          1.9165378670788253,
          1.9254658385093169,
          1.9344773790951637,
          1.9435736677115987,
          1.952755905511811,
          1.9620253164556962,
          1.971383147853736,
          1.9808306709265175,
          1.9903691813804174,
          2,
          2.0097244732576987,
          2.019543973941368,
          2.0294599018003274,
          2.039473684210526,
          2.049586776859504,
          2.0598006644518274,
          2.0701168614357264,
          2.0805369127516777,
          2.09106239460371,
          2.1016949152542375,
          2.1124361158432707,
          2.1232876712328768,
          2.134251290877797,
          2.1453287197231834,
          2.1565217391304348,
          2.167832167832168,
          2.1792618629173988,
          2.1908127208480566,
          2.202486678507993,
          2.2142857142857144,
          2.2262118491921004,
          2.2382671480144403,
          2.250453720508167,
          2.2627737226277373,
          2.2752293577981653,
          2.2878228782287824,
          2.300556586270872,
          2.3134328358208953,
          2.326454033771107,
          2.339622641509434,
          2.3529411764705883,
          2.366412213740458,
          2.380038387715931,
          2.393822393822394,
          2.407766990291262,
          2.421875,
          2.43614931237721,
          2.450592885375494,
          2.4652087475149105,
          2.48,
          2.494969818913481,
          2.5101214574898787,
          2.525458248472505,
          2.540983606557377,
          2.556701030927835,
          2.5726141078838176,
          2.5887265135699375,
          2.6050420168067228,
          2.6215644820295982,
          2.6382978723404253,
          2.6552462526766596,
          2.6724137931034484,
          2.6898047722342735,
          2.7074235807860263,
          2.7252747252747254,
          2.743362831858407,
          2.7616926503340755,
          2.780269058295964,
          2.799097065462754,
          2.8181818181818183,
          2.8375286041189933,
          2.857142857142857,
          2.8770301624129933,
          2.897196261682243,
          2.9176470588235293,
          2.938388625592417,
          2.9594272076372317,
          2.980769230769231,
          3.002421307506053,
          3.024390243902439,
          3.0466830466830466,
          3.0693069306930694,
          3.092269326683292
         ],
         "xaxis": "x",
         "y": [
          1515718132.7496877,
          1523504801.0799525,
          1509477415.5655003,
          1500956650.656429,
          1523210456.5083988,
          1494792084.353735,
          1482349488.598921,
          1492882549.5973063,
          1464928251.518269,
          1458318347.9088237,
          1448863310.191281,
          1440985932.3455198,
          1417930924.6079988,
          1411404937.611336,
          1389157886.7625082,
          1378569442.0474806,
          1365087334.8190253,
          1351352788.6778939,
          1332291082.74426,
          1310567679.665662,
          1300822310.0021322,
          1289946059.6550937,
          1269597770.0793753,
          1264873674.4098365,
          1238722781.0066383,
          1239792696.5549917,
          1225075564.2760406,
          1209270667.0416496,
          1196391476.1974044,
          1197426807.5729592,
          1187548907.7956707,
          1173455240.3080664,
          1174022856.8849597,
          1176048869.1118135,
          1185900041.4435349,
          1163627213.284633,
          1166008344.2325044,
          1182255180.4266143,
          1180820260.5907102,
          1195050283.9571214,
          1209010041.6011436,
          1227180439.7444339,
          1238026202.0593038,
          1243006222.1935053,
          1262048966.6144457,
          1285029380.7272108,
          1290924883.3644166,
          1309792736.5554047,
          1350707100.869907,
          1359452317.5818455,
          1392887734.818118,
          1407908657.2710094,
          1435211511.3280516,
          1471525868.1515985,
          1506341351.401064,
          1538466754.6649406,
          1562640854.5015917,
          1623457868.537373,
          1652506162.4875214,
          1686515147.0618777,
          1733355307.5447986,
          1788046258.8352883,
          1851862081.5619183,
          1917546067.8914742,
          2005943171.685631,
          2100859785.2691357,
          2190279079.4401903,
          2284992436.750325,
          2418259810.1225333,
          2583357479.40542,
          2732039684.9350004,
          2952795842.445428,
          3194995919.642159,
          3526052386.39948,
          3961948281.5553794,
          4501119634.010079,
          5317351753.80543,
          6310630731.95395,
          7833113783.1303835,
          9673082005.340607,
          11510637804.151922,
          13540476120.955786,
          15408980805.390322,
          16931836160.77145,
          18318603074.580593,
          19344900236.99426,
          20209306357.796577,
          20760263524.501484,
          21137363403.532257,
          21508213908.929367,
          21791364586.823788,
          22049244731.330265,
          22304512376.366055,
          22663100133.92825,
          22994065747.468338,
          23319663051.119415,
          23685628974.10488,
          24143992909.711235,
          24560803232.787422,
          24978002275.17594,
          25404729551.563843,
          25867502581.49739,
          26374806667.87988,
          26919507595.93952,
          27527304523.193638,
          28088224810.184525,
          28693100861.955517,
          29286915951.48226,
          29934388785.964066,
          30618659834.87788,
          31382424071.086533,
          32144441671.254063,
          33014874410.97789,
          33827413352.729057,
          34697337735.14085,
          35628513400.372665,
          36583377440.54979,
          37679667245.0287,
          38791055567.410255,
          40029134734.76528,
          41483219429.43716,
          43214157054.5744,
          46094263947.284035,
          48278487413.48764,
          50823254884.87185,
          53650958913.605194,
          56517520220.41302,
          59146727069.84637,
          61675612798.47048,
          63836658741.94014,
          65783398919.29882,
          67123341410.93321,
          68440364472.02582,
          69896727861.16728,
          71371167484.06618,
          72747737131.9325,
          74210441894.865,
          75716530004.82544,
          77261536805.84746,
          78757417046.79616,
          80282149681.4766,
          81884963335.58975,
          83733783411.15758,
          85514666324.03409,
          87390184927.42973,
          89525734285.47337,
          91605355828.87738,
          93760499723.42601,
          95959262099.17361,
          98222819607.84558,
          100616999153.20148,
          102842967119.27315,
          105566150501.16808,
          108137733748.3874,
          110832990224.62343,
          113883237792.43329,
          116668551608.34453,
          119793539567.62,
          122599124208.65651,
          125579565611.88937,
          128957050824.35953,
          132144587614.49156,
          135462237200.99234,
          138841778045.98706,
          141865515362.2218,
          145647127770.68964,
          148766243962.94,
          154028728013.71075,
          157875910710.52075,
          162081984117.94525,
          166573420902.637,
          171243666235.6256,
          175482808264.5773,
          180914849847.01254,
          185855773262.75006,
          190897969770.64157,
          196768044823.16028,
          203024781040.22034,
          208943199270.0498,
          215642102500.0769,
          222255080980.73093,
          230322635323.50378,
          237624546162.67426,
          244720895444.99622
         ],
         "yaxis": "y"
        }
       ],
       "layout": {
        "legend": {
         "title": {
          "text": "Sample"
         },
         "tracegroupgap": 0
        },
        "template": {
         "data": {
          "bar": [
           {
            "error_x": {
             "color": "#2a3f5f"
            },
            "error_y": {
             "color": "#2a3f5f"
            },
            "marker": {
             "line": {
              "color": "#E5ECF6",
              "width": 0.5
             },
             "pattern": {
              "fillmode": "overlay",
              "size": 10,
              "solidity": 0.2
             }
            },
            "type": "bar"
           }
          ],
          "barpolar": [
           {
            "marker": {
             "line": {
              "color": "#E5ECF6",
              "width": 0.5
             },
             "pattern": {
              "fillmode": "overlay",
              "size": 10,
              "solidity": 0.2
             }
            },
            "type": "barpolar"
           }
          ],
          "carpet": [
           {
            "aaxis": {
             "endlinecolor": "#2a3f5f",
             "gridcolor": "white",
             "linecolor": "white",
             "minorgridcolor": "white",
             "startlinecolor": "#2a3f5f"
            },
            "baxis": {
             "endlinecolor": "#2a3f5f",
             "gridcolor": "white",
             "linecolor": "white",
             "minorgridcolor": "white",
             "startlinecolor": "#2a3f5f"
            },
            "type": "carpet"
           }
          ],
          "choropleth": [
           {
            "colorbar": {
             "outlinewidth": 0,
             "ticks": ""
            },
            "type": "choropleth"
           }
          ],
          "contour": [
           {
            "colorbar": {
             "outlinewidth": 0,
             "ticks": ""
            },
            "colorscale": [
             [
              0,
              "#0d0887"
             ],
             [
              0.1111111111111111,
              "#46039f"
             ],
             [
              0.2222222222222222,
              "#7201a8"
             ],
             [
              0.3333333333333333,
              "#9c179e"
             ],
             [
              0.4444444444444444,
              "#bd3786"
             ],
             [
              0.5555555555555556,
              "#d8576b"
             ],
             [
              0.6666666666666666,
              "#ed7953"
             ],
             [
              0.7777777777777778,
              "#fb9f3a"
             ],
             [
              0.8888888888888888,
              "#fdca26"
             ],
             [
              1,
              "#f0f921"
             ]
            ],
            "type": "contour"
           }
          ],
          "contourcarpet": [
           {
            "colorbar": {
             "outlinewidth": 0,
             "ticks": ""
            },
            "type": "contourcarpet"
           }
          ],
          "heatmap": [
           {
            "colorbar": {
             "outlinewidth": 0,
             "ticks": ""
            },
            "colorscale": [
             [
              0,
              "#0d0887"
             ],
             [
              0.1111111111111111,
              "#46039f"
             ],
             [
              0.2222222222222222,
              "#7201a8"
             ],
             [
              0.3333333333333333,
              "#9c179e"
             ],
             [
              0.4444444444444444,
              "#bd3786"
             ],
             [
              0.5555555555555556,
              "#d8576b"
             ],
             [
              0.6666666666666666,
              "#ed7953"
             ],
             [
              0.7777777777777778,
              "#fb9f3a"
             ],
             [
              0.8888888888888888,
              "#fdca26"
             ],
             [
              1,
              "#f0f921"
             ]
            ],
            "type": "heatmap"
           }
          ],
          "heatmapgl": [
           {
            "colorbar": {
             "outlinewidth": 0,
             "ticks": ""
            },
            "colorscale": [
             [
              0,
              "#0d0887"
             ],
             [
              0.1111111111111111,
              "#46039f"
             ],
             [
              0.2222222222222222,
              "#7201a8"
             ],
             [
              0.3333333333333333,
              "#9c179e"
             ],
             [
              0.4444444444444444,
              "#bd3786"
             ],
             [
              0.5555555555555556,
              "#d8576b"
             ],
             [
              0.6666666666666666,
              "#ed7953"
             ],
             [
              0.7777777777777778,
              "#fb9f3a"
             ],
             [
              0.8888888888888888,
              "#fdca26"
             ],
             [
              1,
              "#f0f921"
             ]
            ],
            "type": "heatmapgl"
           }
          ],
          "histogram": [
           {
            "marker": {
             "pattern": {
              "fillmode": "overlay",
              "size": 10,
              "solidity": 0.2
             }
            },
            "type": "histogram"
           }
          ],
          "histogram2d": [
           {
            "colorbar": {
             "outlinewidth": 0,
             "ticks": ""
            },
            "colorscale": [
             [
              0,
              "#0d0887"
             ],
             [
              0.1111111111111111,
              "#46039f"
             ],
             [
              0.2222222222222222,
              "#7201a8"
             ],
             [
              0.3333333333333333,
              "#9c179e"
             ],
             [
              0.4444444444444444,
              "#bd3786"
             ],
             [
              0.5555555555555556,
              "#d8576b"
             ],
             [
              0.6666666666666666,
              "#ed7953"
             ],
             [
              0.7777777777777778,
              "#fb9f3a"
             ],
             [
              0.8888888888888888,
              "#fdca26"
             ],
             [
              1,
              "#f0f921"
             ]
            ],
            "type": "histogram2d"
           }
          ],
          "histogram2dcontour": [
           {
            "colorbar": {
             "outlinewidth": 0,
             "ticks": ""
            },
            "colorscale": [
             [
              0,
              "#0d0887"
             ],
             [
              0.1111111111111111,
              "#46039f"
             ],
             [
              0.2222222222222222,
              "#7201a8"
             ],
             [
              0.3333333333333333,
              "#9c179e"
             ],
             [
              0.4444444444444444,
              "#bd3786"
             ],
             [
              0.5555555555555556,
              "#d8576b"
             ],
             [
              0.6666666666666666,
              "#ed7953"
             ],
             [
              0.7777777777777778,
              "#fb9f3a"
             ],
             [
              0.8888888888888888,
              "#fdca26"
             ],
             [
              1,
              "#f0f921"
             ]
            ],
            "type": "histogram2dcontour"
           }
          ],
          "mesh3d": [
           {
            "colorbar": {
             "outlinewidth": 0,
             "ticks": ""
            },
            "type": "mesh3d"
           }
          ],
          "parcoords": [
           {
            "line": {
             "colorbar": {
              "outlinewidth": 0,
              "ticks": ""
             }
            },
            "type": "parcoords"
           }
          ],
          "pie": [
           {
            "automargin": true,
            "type": "pie"
           }
          ],
          "scatter": [
           {
            "fillpattern": {
             "fillmode": "overlay",
             "size": 10,
             "solidity": 0.2
            },
            "type": "scatter"
           }
          ],
          "scatter3d": [
           {
            "line": {
             "colorbar": {
              "outlinewidth": 0,
              "ticks": ""
             }
            },
            "marker": {
             "colorbar": {
              "outlinewidth": 0,
              "ticks": ""
             }
            },
            "type": "scatter3d"
           }
          ],
          "scattercarpet": [
           {
            "marker": {
             "colorbar": {
              "outlinewidth": 0,
              "ticks": ""
             }
            },
            "type": "scattercarpet"
           }
          ],
          "scattergeo": [
           {
            "marker": {
             "colorbar": {
              "outlinewidth": 0,
              "ticks": ""
             }
            },
            "type": "scattergeo"
           }
          ],
          "scattergl": [
           {
            "marker": {
             "colorbar": {
              "outlinewidth": 0,
              "ticks": ""
             }
            },
            "type": "scattergl"
           }
          ],
          "scattermapbox": [
           {
            "marker": {
             "colorbar": {
              "outlinewidth": 0,
              "ticks": ""
             }
            },
            "type": "scattermapbox"
           }
          ],
          "scatterpolar": [
           {
            "marker": {
             "colorbar": {
              "outlinewidth": 0,
              "ticks": ""
             }
            },
            "type": "scatterpolar"
           }
          ],
          "scatterpolargl": [
           {
            "marker": {
             "colorbar": {
              "outlinewidth": 0,
              "ticks": ""
             }
            },
            "type": "scatterpolargl"
           }
          ],
          "scatterternary": [
           {
            "marker": {
             "colorbar": {
              "outlinewidth": 0,
              "ticks": ""
             }
            },
            "type": "scatterternary"
           }
          ],
          "surface": [
           {
            "colorbar": {
             "outlinewidth": 0,
             "ticks": ""
            },
            "colorscale": [
             [
              0,
              "#0d0887"
             ],
             [
              0.1111111111111111,
              "#46039f"
             ],
             [
              0.2222222222222222,
              "#7201a8"
             ],
             [
              0.3333333333333333,
              "#9c179e"
             ],
             [
              0.4444444444444444,
              "#bd3786"
             ],
             [
              0.5555555555555556,
              "#d8576b"
             ],
             [
              0.6666666666666666,
              "#ed7953"
             ],
             [
              0.7777777777777778,
              "#fb9f3a"
             ],
             [
              0.8888888888888888,
              "#fdca26"
             ],
             [
              1,
              "#f0f921"
             ]
            ],
            "type": "surface"
           }
          ],
          "table": [
           {
            "cells": {
             "fill": {
              "color": "#EBF0F8"
             },
             "line": {
              "color": "white"
             }
            },
            "header": {
             "fill": {
              "color": "#C8D4E3"
             },
             "line": {
              "color": "white"
             }
            },
            "type": "table"
           }
          ]
         },
         "layout": {
          "annotationdefaults": {
           "arrowcolor": "#2a3f5f",
           "arrowhead": 0,
           "arrowwidth": 1
          },
          "autotypenumbers": "strict",
          "coloraxis": {
           "colorbar": {
            "outlinewidth": 0,
            "ticks": ""
           }
          },
          "colorscale": {
           "diverging": [
            [
             0,
             "#8e0152"
            ],
            [
             0.1,
             "#c51b7d"
            ],
            [
             0.2,
             "#de77ae"
            ],
            [
             0.3,
             "#f1b6da"
            ],
            [
             0.4,
             "#fde0ef"
            ],
            [
             0.5,
             "#f7f7f7"
            ],
            [
             0.6,
             "#e6f5d0"
            ],
            [
             0.7,
             "#b8e186"
            ],
            [
             0.8,
             "#7fbc41"
            ],
            [
             0.9,
             "#4d9221"
            ],
            [
             1,
             "#276419"
            ]
           ],
           "sequential": [
            [
             0,
             "#0d0887"
            ],
            [
             0.1111111111111111,
             "#46039f"
            ],
            [
             0.2222222222222222,
             "#7201a8"
            ],
            [
             0.3333333333333333,
             "#9c179e"
            ],
            [
             0.4444444444444444,
             "#bd3786"
            ],
            [
             0.5555555555555556,
             "#d8576b"
            ],
            [
             0.6666666666666666,
             "#ed7953"
            ],
            [
             0.7777777777777778,
             "#fb9f3a"
            ],
            [
             0.8888888888888888,
             "#fdca26"
            ],
            [
             1,
             "#f0f921"
            ]
           ],
           "sequentialminus": [
            [
             0,
             "#0d0887"
            ],
            [
             0.1111111111111111,
             "#46039f"
            ],
            [
             0.2222222222222222,
             "#7201a8"
            ],
            [
             0.3333333333333333,
             "#9c179e"
            ],
            [
             0.4444444444444444,
             "#bd3786"
            ],
            [
             0.5555555555555556,
             "#d8576b"
            ],
            [
             0.6666666666666666,
             "#ed7953"
            ],
            [
             0.7777777777777778,
             "#fb9f3a"
            ],
            [
             0.8888888888888888,
             "#fdca26"
            ],
            [
             1,
             "#f0f921"
            ]
           ]
          },
          "colorway": [
           "#636efa",
           "#EF553B",
           "#00cc96",
           "#ab63fa",
           "#FFA15A",
           "#19d3f3",
           "#FF6692",
           "#B6E880",
           "#FF97FF",
           "#FECB52"
          ],
          "font": {
           "color": "#2a3f5f"
          },
          "geo": {
           "bgcolor": "white",
           "lakecolor": "white",
           "landcolor": "#E5ECF6",
           "showlakes": true,
           "showland": true,
           "subunitcolor": "white"
          },
          "hoverlabel": {
           "align": "left"
          },
          "hovermode": "closest",
          "mapbox": {
           "style": "light"
          },
          "paper_bgcolor": "white",
          "plot_bgcolor": "#E5ECF6",
          "polar": {
           "angularaxis": {
            "gridcolor": "white",
            "linecolor": "white",
            "ticks": ""
           },
           "bgcolor": "#E5ECF6",
           "radialaxis": {
            "gridcolor": "white",
            "linecolor": "white",
            "ticks": ""
           }
          },
          "scene": {
           "xaxis": {
            "backgroundcolor": "#E5ECF6",
            "gridcolor": "white",
            "gridwidth": 2,
            "linecolor": "white",
            "showbackground": true,
            "ticks": "",
            "zerolinecolor": "white"
           },
           "yaxis": {
            "backgroundcolor": "#E5ECF6",
            "gridcolor": "white",
            "gridwidth": 2,
            "linecolor": "white",
            "showbackground": true,
            "ticks": "",
            "zerolinecolor": "white"
           },
           "zaxis": {
            "backgroundcolor": "#E5ECF6",
            "gridcolor": "white",
            "gridwidth": 2,
            "linecolor": "white",
            "showbackground": true,
            "ticks": "",
            "zerolinecolor": "white"
           }
          },
          "shapedefaults": {
           "line": {
            "color": "#2a3f5f"
           }
          },
          "ternary": {
           "aaxis": {
            "gridcolor": "white",
            "linecolor": "white",
            "ticks": ""
           },
           "baxis": {
            "gridcolor": "white",
            "linecolor": "white",
            "ticks": ""
           },
           "bgcolor": "#E5ECF6",
           "caxis": {
            "gridcolor": "white",
            "linecolor": "white",
            "ticks": ""
           }
          },
          "title": {
           "x": 0.05
          },
          "xaxis": {
           "automargin": true,
           "gridcolor": "white",
           "linecolor": "white",
           "ticks": "",
           "title": {
            "standoff": 15
           },
           "zerolinecolor": "white",
           "zerolinewidth": 2
          },
          "yaxis": {
           "automargin": true,
           "gridcolor": "white",
           "linecolor": "white",
           "ticks": "",
           "title": {
            "standoff": 15
           },
           "zerolinecolor": "white",
           "zerolinewidth": 2
          }
         }
        },
        "title": {
         "text": "Squared Absorption coefficient in function of the energy for m8_CdSe",
         "x": 0.5
        },
        "xaxis": {
         "anchor": "y",
         "domain": [
          0,
          1
         ],
         "linecolor": "black",
         "mirror": true,
         "title": {
          "text": "Energy (eV)"
         }
        },
        "yaxis": {
         "anchor": "x",
         "domain": [
          0,
          1
         ],
         "linecolor": "black",
         "mirror": true,
         "title": {
          "text": "Alpha^2 (cm^-2)"
         }
        }
       }
      }
     },
     "metadata": {},
     "output_type": "display_data"
    },
    {
     "data": {
      "application/vnd.plotly.v1+json": {
       "config": {
        "plotlyServerURL": "https://plot.ly"
       },
       "data": [
        {
         "hovertemplate": "Sample=m9_CdSe<br>Energy (eV)=%{x}<br>Alpha^2 (cm^-2)=%{y}<extra></extra>",
         "legendgroup": "m9_CdSe",
         "line": {
          "color": "#636efa",
          "dash": "solid"
         },
         "marker": {
          "symbol": "circle"
         },
         "mode": "lines+markers",
         "name": "m9_CdSe",
         "orientation": "v",
         "showlegend": true,
         "type": "scatter",
         "x": [
          1.305263157894737,
          1.3093980992608236,
          1.3135593220338984,
          1.3177470775770457,
          1.3219616204690832,
          1.3262032085561497,
          1.3304721030042919,
          1.334768568353068,
          1.3390928725701945,
          1.3434452871072589,
          1.3478260869565217,
          1.352235550708833,
          1.3566739606126914,
          1.3611416026344676,
          1.3656387665198237,
          1.3701657458563536,
          1.3747228381374723,
          1.3793103448275863,
          1.3839285714285714,
          1.3885778275475924,
          1.3932584269662922,
          1.3979706877113867,
          1.4027149321266967,
          1.4074914869466515,
          1.4123006833712983,
          1.417142857142857,
          1.4220183486238531,
          1.42692750287687,
          1.4318706697459584,
          1.436848203939745,
          1.441860465116279,
          1.4469078179696615,
          1.4519906323185012,
          1.4571092831962398,
          1.4622641509433962,
          1.467455621301775,
          1.4726840855106889,
          1.4779499404052443,
          1.4832535885167464,
          1.4885954381752702,
          1.4939759036144578,
          1.4993954050785974,
          1.5048543689320388,
          1.510353227771011,
          1.5158924205378974,
          1.521472392638037,
          1.5270935960591132,
          1.5327564894932015,
          1.5384615384615385,
          1.544209215442092,
          1.55,
          1.5558343789209537,
          1.561712846347607,
          1.5676359039190897,
          1.5736040609137056,
          1.5796178343949046,
          1.5856777493606138,
          1.5917843388960204,
          1.597938144329897,
          1.6041397153945667,
          1.6103896103896105,
          1.6166883963494132,
          1.6230366492146597,
          1.6294349540078843,
          1.6358839050131926,
          1.6423841059602649,
          1.648936170212766,
          1.6555407209612818,
          1.6621983914209115,
          1.6689098250336474,
          1.6756756756756757,
          1.682496607869742,
          1.6893732970027249,
          1.6963064295485637,
          1.7032967032967032,
          1.710344827586207,
          1.7174515235457064,
          1.7246175243393602,
          1.7318435754189945,
          1.7391304347826086,
          1.7464788732394365,
          1.7538896746817538,
          1.7613636363636365,
          1.768901569186876,
          1.7765042979942693,
          1.7841726618705036,
          1.7919075144508672,
          1.7997097242380262,
          1.8075801749271136,
          1.8155197657393851,
          1.8235294117647058,
          1.8316100443131462,
          1.8397626112759644,
          1.8479880774962743,
          1.8562874251497006,
          1.8646616541353382,
          1.8731117824773413,
          1.881638846737481,
          1.8902439024390243,
          1.898928024502297,
          1.9076923076923078,
          1.9165378670788253,
          1.9254658385093169,
          1.9344773790951637,
          1.9435736677115987,
          1.952755905511811,
          1.9620253164556962,
          1.971383147853736,
          1.9808306709265175,
          1.9903691813804174,
          2,
          2.0097244732576987,
          2.019543973941368,
          2.0294599018003274,
          2.039473684210526,
          2.049586776859504,
          2.0598006644518274,
          2.0701168614357264,
          2.0805369127516777,
          2.09106239460371,
          2.1016949152542375,
          2.1124361158432707,
          2.1232876712328768,
          2.134251290877797,
          2.1453287197231834,
          2.1565217391304348,
          2.167832167832168,
          2.1792618629173988,
          2.1908127208480566,
          2.202486678507993,
          2.2142857142857144,
          2.2262118491921004,
          2.2382671480144403,
          2.250453720508167,
          2.2627737226277373,
          2.2752293577981653,
          2.2878228782287824,
          2.300556586270872,
          2.3134328358208953,
          2.326454033771107,
          2.339622641509434,
          2.3529411764705883,
          2.366412213740458,
          2.380038387715931,
          2.393822393822394,
          2.407766990291262,
          2.421875,
          2.43614931237721,
          2.450592885375494,
          2.4652087475149105,
          2.48,
          2.494969818913481,
          2.5101214574898787,
          2.525458248472505,
          2.540983606557377,
          2.556701030927835,
          2.5726141078838176,
          2.5887265135699375,
          2.6050420168067228,
          2.6215644820295982,
          2.6382978723404253,
          2.6552462526766596,
          2.6724137931034484,
          2.6898047722342735,
          2.7074235807860263,
          2.7252747252747254,
          2.743362831858407,
          2.7616926503340755,
          2.780269058295964,
          2.799097065462754,
          2.8181818181818183,
          2.8375286041189933,
          2.857142857142857,
          2.8770301624129933,
          2.897196261682243,
          2.9176470588235293,
          2.938388625592417,
          2.9594272076372317,
          2.980769230769231,
          3.002421307506053,
          3.024390243902439,
          3.0466830466830466,
          3.0693069306930694,
          3.092269326683292
         ],
         "xaxis": "x",
         "y": [
          677415688.5842794,
          690639230.9885153,
          688540691.6803674,
          684856327.1485338,
          708205623.1231515,
          703457124.0120227,
          705321580.8267778,
          714584077.1570232,
          711507785.9218689,
          721231939.9515897,
          732975172.7635314,
          726469573.8209047,
          724116236.5859864,
          727479702.2270923,
          736186904.574998,
          732255205.6700655,
          737317238.7189856,
          753583417.7434102,
          751547346.2068669,
          751753917.9208902,
          763306711.3530325,
          755246324.685262,
          761019541.520732,
          773164653.8183119,
          769966791.7235914,
          775201380.9725158,
          779689709.7196141,
          780780798.3656293,
          785045839.0088058,
          789307096.9222624,
          795227430.6280276,
          803132688.355089,
          810590144.1613423,
          822222685.0207233,
          841150996.3173578,
          831506350.2782353,
          841454872.782907,
          847901004.8500959,
          858050308.3197937,
          874915308.0707933,
          879980877.3455383,
          894579200.068017,
          893664194.7875717,
          910246723.557769,
          913764040.0035465,
          931497763.7165396,
          936407290.9160963,
          948484045.0325333,
          963139474.173232,
          969710298.117026,
          979448402.72029,
          979935576.2533808,
          1000335842.1289843,
          1014134321.6062392,
          1021692390.0245818,
          1032177769.966298,
          1041384467.2993741,
          1063599948.3976662,
          1067294692.631725,
          1074863026.3955538,
          1098499934.8842885,
          1112566117.9480276,
          1129446894.3744495,
          1147428268.9871814,
          1181098539.4390802,
          1214915713.0833902,
          1244816956.813443,
          1275593715.5071075,
          1332578621.6972148,
          1389826786.4901578,
          1460157266.132383,
          1554139442.6177006,
          1676483832.2400312,
          1837850864.579816,
          2051171912.9604635,
          2330778727.212787,
          2777115309.0556135,
          3333932597.8536863,
          4169364133.736384,
          5199922164.310524,
          6236109929.220996,
          7363149398.170618,
          8437273235.373792,
          9277945294.614527,
          10064163118.119003,
          10656004743.070652,
          11152844586.591322,
          11453134212.044514,
          11669089604.181307,
          11888708194.41556,
          12023865465.223627,
          12167504146.946892,
          12335838199.447008,
          12536293106.462221,
          12720878692.878702,
          12912443318.256937,
          13108305944.349154,
          13351262449.75293,
          13576182144.017595,
          13797061914.021696,
          14032823172.16899,
          14310785712.51074,
          14599817607.053707,
          14859733737.349459,
          15197244952.449228,
          15502867132.57857,
          15847779445.229414,
          16165587121.67671,
          16486538282.884241,
          16875820291.175964,
          17260353473.256744,
          17646680907.563126,
          18113324977.9731,
          18573629895.934925,
          19018055833.52367,
          19554601405.456738,
          20049381219.287197,
          20647307479.73984,
          21231081224.707634,
          21948719697.275032,
          22715026430.810394,
          23657992723.899334,
          25181949209.43283,
          26418544150.354366,
          27821303757.4298,
          29414312694.102356,
          31008121108.307526,
          32509137393.04669,
          33999264284.90019,
          35154300273.86446,
          36288321940.11263,
          37075530044.1973,
          37839437815.720245,
          38669293203.05259,
          39508043172.604546,
          40263335076.665146,
          41132054373.2113,
          41967174535.51064,
          42906061409.988686,
          43738805397.12011,
          44597581966.92299,
          45528957795.62364,
          46521835712.44974,
          47508539987.83119,
          48478763839.84457,
          49644319113.49379,
          50775217773.01301,
          51962870157.106125,
          53119878237.72135,
          54376230392.49479,
          55695370219.8655,
          56911798982.56548,
          58279305882.11138,
          59580596349.83786,
          61198066285.51359,
          62727344003.30898,
          64177385033.823425,
          65941900828.756935,
          67570040468.866104,
          69147536752.60089,
          71048246725.5759,
          72870672909.902,
          74714118873.04636,
          76633884058.73122,
          78536063214.71286,
          80748004539.84416,
          82610172163.51215,
          85694075820.46555,
          87986578422.59912,
          90540159693.62231,
          93152616214.00809,
          95675028099.62091,
          98245730164.66629,
          101495827259.12492,
          104257546858.98985,
          107278523352.89114,
          110561024788.80246,
          114086849808.71188,
          117466645236.68378,
          121099645737.88655,
          124732760952.42474,
          128595676591.96419,
          132882320959.45766,
          137265094700.54872
         ],
         "yaxis": "y"
        }
       ],
       "layout": {
        "legend": {
         "title": {
          "text": "Sample"
         },
         "tracegroupgap": 0
        },
        "template": {
         "data": {
          "bar": [
           {
            "error_x": {
             "color": "#2a3f5f"
            },
            "error_y": {
             "color": "#2a3f5f"
            },
            "marker": {
             "line": {
              "color": "#E5ECF6",
              "width": 0.5
             },
             "pattern": {
              "fillmode": "overlay",
              "size": 10,
              "solidity": 0.2
             }
            },
            "type": "bar"
           }
          ],
          "barpolar": [
           {
            "marker": {
             "line": {
              "color": "#E5ECF6",
              "width": 0.5
             },
             "pattern": {
              "fillmode": "overlay",
              "size": 10,
              "solidity": 0.2
             }
            },
            "type": "barpolar"
           }
          ],
          "carpet": [
           {
            "aaxis": {
             "endlinecolor": "#2a3f5f",
             "gridcolor": "white",
             "linecolor": "white",
             "minorgridcolor": "white",
             "startlinecolor": "#2a3f5f"
            },
            "baxis": {
             "endlinecolor": "#2a3f5f",
             "gridcolor": "white",
             "linecolor": "white",
             "minorgridcolor": "white",
             "startlinecolor": "#2a3f5f"
            },
            "type": "carpet"
           }
          ],
          "choropleth": [
           {
            "colorbar": {
             "outlinewidth": 0,
             "ticks": ""
            },
            "type": "choropleth"
           }
          ],
          "contour": [
           {
            "colorbar": {
             "outlinewidth": 0,
             "ticks": ""
            },
            "colorscale": [
             [
              0,
              "#0d0887"
             ],
             [
              0.1111111111111111,
              "#46039f"
             ],
             [
              0.2222222222222222,
              "#7201a8"
             ],
             [
              0.3333333333333333,
              "#9c179e"
             ],
             [
              0.4444444444444444,
              "#bd3786"
             ],
             [
              0.5555555555555556,
              "#d8576b"
             ],
             [
              0.6666666666666666,
              "#ed7953"
             ],
             [
              0.7777777777777778,
              "#fb9f3a"
             ],
             [
              0.8888888888888888,
              "#fdca26"
             ],
             [
              1,
              "#f0f921"
             ]
            ],
            "type": "contour"
           }
          ],
          "contourcarpet": [
           {
            "colorbar": {
             "outlinewidth": 0,
             "ticks": ""
            },
            "type": "contourcarpet"
           }
          ],
          "heatmap": [
           {
            "colorbar": {
             "outlinewidth": 0,
             "ticks": ""
            },
            "colorscale": [
             [
              0,
              "#0d0887"
             ],
             [
              0.1111111111111111,
              "#46039f"
             ],
             [
              0.2222222222222222,
              "#7201a8"
             ],
             [
              0.3333333333333333,
              "#9c179e"
             ],
             [
              0.4444444444444444,
              "#bd3786"
             ],
             [
              0.5555555555555556,
              "#d8576b"
             ],
             [
              0.6666666666666666,
              "#ed7953"
             ],
             [
              0.7777777777777778,
              "#fb9f3a"
             ],
             [
              0.8888888888888888,
              "#fdca26"
             ],
             [
              1,
              "#f0f921"
             ]
            ],
            "type": "heatmap"
           }
          ],
          "heatmapgl": [
           {
            "colorbar": {
             "outlinewidth": 0,
             "ticks": ""
            },
            "colorscale": [
             [
              0,
              "#0d0887"
             ],
             [
              0.1111111111111111,
              "#46039f"
             ],
             [
              0.2222222222222222,
              "#7201a8"
             ],
             [
              0.3333333333333333,
              "#9c179e"
             ],
             [
              0.4444444444444444,
              "#bd3786"
             ],
             [
              0.5555555555555556,
              "#d8576b"
             ],
             [
              0.6666666666666666,
              "#ed7953"
             ],
             [
              0.7777777777777778,
              "#fb9f3a"
             ],
             [
              0.8888888888888888,
              "#fdca26"
             ],
             [
              1,
              "#f0f921"
             ]
            ],
            "type": "heatmapgl"
           }
          ],
          "histogram": [
           {
            "marker": {
             "pattern": {
              "fillmode": "overlay",
              "size": 10,
              "solidity": 0.2
             }
            },
            "type": "histogram"
           }
          ],
          "histogram2d": [
           {
            "colorbar": {
             "outlinewidth": 0,
             "ticks": ""
            },
            "colorscale": [
             [
              0,
              "#0d0887"
             ],
             [
              0.1111111111111111,
              "#46039f"
             ],
             [
              0.2222222222222222,
              "#7201a8"
             ],
             [
              0.3333333333333333,
              "#9c179e"
             ],
             [
              0.4444444444444444,
              "#bd3786"
             ],
             [
              0.5555555555555556,
              "#d8576b"
             ],
             [
              0.6666666666666666,
              "#ed7953"
             ],
             [
              0.7777777777777778,
              "#fb9f3a"
             ],
             [
              0.8888888888888888,
              "#fdca26"
             ],
             [
              1,
              "#f0f921"
             ]
            ],
            "type": "histogram2d"
           }
          ],
          "histogram2dcontour": [
           {
            "colorbar": {
             "outlinewidth": 0,
             "ticks": ""
            },
            "colorscale": [
             [
              0,
              "#0d0887"
             ],
             [
              0.1111111111111111,
              "#46039f"
             ],
             [
              0.2222222222222222,
              "#7201a8"
             ],
             [
              0.3333333333333333,
              "#9c179e"
             ],
             [
              0.4444444444444444,
              "#bd3786"
             ],
             [
              0.5555555555555556,
              "#d8576b"
             ],
             [
              0.6666666666666666,
              "#ed7953"
             ],
             [
              0.7777777777777778,
              "#fb9f3a"
             ],
             [
              0.8888888888888888,
              "#fdca26"
             ],
             [
              1,
              "#f0f921"
             ]
            ],
            "type": "histogram2dcontour"
           }
          ],
          "mesh3d": [
           {
            "colorbar": {
             "outlinewidth": 0,
             "ticks": ""
            },
            "type": "mesh3d"
           }
          ],
          "parcoords": [
           {
            "line": {
             "colorbar": {
              "outlinewidth": 0,
              "ticks": ""
             }
            },
            "type": "parcoords"
           }
          ],
          "pie": [
           {
            "automargin": true,
            "type": "pie"
           }
          ],
          "scatter": [
           {
            "fillpattern": {
             "fillmode": "overlay",
             "size": 10,
             "solidity": 0.2
            },
            "type": "scatter"
           }
          ],
          "scatter3d": [
           {
            "line": {
             "colorbar": {
              "outlinewidth": 0,
              "ticks": ""
             }
            },
            "marker": {
             "colorbar": {
              "outlinewidth": 0,
              "ticks": ""
             }
            },
            "type": "scatter3d"
           }
          ],
          "scattercarpet": [
           {
            "marker": {
             "colorbar": {
              "outlinewidth": 0,
              "ticks": ""
             }
            },
            "type": "scattercarpet"
           }
          ],
          "scattergeo": [
           {
            "marker": {
             "colorbar": {
              "outlinewidth": 0,
              "ticks": ""
             }
            },
            "type": "scattergeo"
           }
          ],
          "scattergl": [
           {
            "marker": {
             "colorbar": {
              "outlinewidth": 0,
              "ticks": ""
             }
            },
            "type": "scattergl"
           }
          ],
          "scattermapbox": [
           {
            "marker": {
             "colorbar": {
              "outlinewidth": 0,
              "ticks": ""
             }
            },
            "type": "scattermapbox"
           }
          ],
          "scatterpolar": [
           {
            "marker": {
             "colorbar": {
              "outlinewidth": 0,
              "ticks": ""
             }
            },
            "type": "scatterpolar"
           }
          ],
          "scatterpolargl": [
           {
            "marker": {
             "colorbar": {
              "outlinewidth": 0,
              "ticks": ""
             }
            },
            "type": "scatterpolargl"
           }
          ],
          "scatterternary": [
           {
            "marker": {
             "colorbar": {
              "outlinewidth": 0,
              "ticks": ""
             }
            },
            "type": "scatterternary"
           }
          ],
          "surface": [
           {
            "colorbar": {
             "outlinewidth": 0,
             "ticks": ""
            },
            "colorscale": [
             [
              0,
              "#0d0887"
             ],
             [
              0.1111111111111111,
              "#46039f"
             ],
             [
              0.2222222222222222,
              "#7201a8"
             ],
             [
              0.3333333333333333,
              "#9c179e"
             ],
             [
              0.4444444444444444,
              "#bd3786"
             ],
             [
              0.5555555555555556,
              "#d8576b"
             ],
             [
              0.6666666666666666,
              "#ed7953"
             ],
             [
              0.7777777777777778,
              "#fb9f3a"
             ],
             [
              0.8888888888888888,
              "#fdca26"
             ],
             [
              1,
              "#f0f921"
             ]
            ],
            "type": "surface"
           }
          ],
          "table": [
           {
            "cells": {
             "fill": {
              "color": "#EBF0F8"
             },
             "line": {
              "color": "white"
             }
            },
            "header": {
             "fill": {
              "color": "#C8D4E3"
             },
             "line": {
              "color": "white"
             }
            },
            "type": "table"
           }
          ]
         },
         "layout": {
          "annotationdefaults": {
           "arrowcolor": "#2a3f5f",
           "arrowhead": 0,
           "arrowwidth": 1
          },
          "autotypenumbers": "strict",
          "coloraxis": {
           "colorbar": {
            "outlinewidth": 0,
            "ticks": ""
           }
          },
          "colorscale": {
           "diverging": [
            [
             0,
             "#8e0152"
            ],
            [
             0.1,
             "#c51b7d"
            ],
            [
             0.2,
             "#de77ae"
            ],
            [
             0.3,
             "#f1b6da"
            ],
            [
             0.4,
             "#fde0ef"
            ],
            [
             0.5,
             "#f7f7f7"
            ],
            [
             0.6,
             "#e6f5d0"
            ],
            [
             0.7,
             "#b8e186"
            ],
            [
             0.8,
             "#7fbc41"
            ],
            [
             0.9,
             "#4d9221"
            ],
            [
             1,
             "#276419"
            ]
           ],
           "sequential": [
            [
             0,
             "#0d0887"
            ],
            [
             0.1111111111111111,
             "#46039f"
            ],
            [
             0.2222222222222222,
             "#7201a8"
            ],
            [
             0.3333333333333333,
             "#9c179e"
            ],
            [
             0.4444444444444444,
             "#bd3786"
            ],
            [
             0.5555555555555556,
             "#d8576b"
            ],
            [
             0.6666666666666666,
             "#ed7953"
            ],
            [
             0.7777777777777778,
             "#fb9f3a"
            ],
            [
             0.8888888888888888,
             "#fdca26"
            ],
            [
             1,
             "#f0f921"
            ]
           ],
           "sequentialminus": [
            [
             0,
             "#0d0887"
            ],
            [
             0.1111111111111111,
             "#46039f"
            ],
            [
             0.2222222222222222,
             "#7201a8"
            ],
            [
             0.3333333333333333,
             "#9c179e"
            ],
            [
             0.4444444444444444,
             "#bd3786"
            ],
            [
             0.5555555555555556,
             "#d8576b"
            ],
            [
             0.6666666666666666,
             "#ed7953"
            ],
            [
             0.7777777777777778,
             "#fb9f3a"
            ],
            [
             0.8888888888888888,
             "#fdca26"
            ],
            [
             1,
             "#f0f921"
            ]
           ]
          },
          "colorway": [
           "#636efa",
           "#EF553B",
           "#00cc96",
           "#ab63fa",
           "#FFA15A",
           "#19d3f3",
           "#FF6692",
           "#B6E880",
           "#FF97FF",
           "#FECB52"
          ],
          "font": {
           "color": "#2a3f5f"
          },
          "geo": {
           "bgcolor": "white",
           "lakecolor": "white",
           "landcolor": "#E5ECF6",
           "showlakes": true,
           "showland": true,
           "subunitcolor": "white"
          },
          "hoverlabel": {
           "align": "left"
          },
          "hovermode": "closest",
          "mapbox": {
           "style": "light"
          },
          "paper_bgcolor": "white",
          "plot_bgcolor": "#E5ECF6",
          "polar": {
           "angularaxis": {
            "gridcolor": "white",
            "linecolor": "white",
            "ticks": ""
           },
           "bgcolor": "#E5ECF6",
           "radialaxis": {
            "gridcolor": "white",
            "linecolor": "white",
            "ticks": ""
           }
          },
          "scene": {
           "xaxis": {
            "backgroundcolor": "#E5ECF6",
            "gridcolor": "white",
            "gridwidth": 2,
            "linecolor": "white",
            "showbackground": true,
            "ticks": "",
            "zerolinecolor": "white"
           },
           "yaxis": {
            "backgroundcolor": "#E5ECF6",
            "gridcolor": "white",
            "gridwidth": 2,
            "linecolor": "white",
            "showbackground": true,
            "ticks": "",
            "zerolinecolor": "white"
           },
           "zaxis": {
            "backgroundcolor": "#E5ECF6",
            "gridcolor": "white",
            "gridwidth": 2,
            "linecolor": "white",
            "showbackground": true,
            "ticks": "",
            "zerolinecolor": "white"
           }
          },
          "shapedefaults": {
           "line": {
            "color": "#2a3f5f"
           }
          },
          "ternary": {
           "aaxis": {
            "gridcolor": "white",
            "linecolor": "white",
            "ticks": ""
           },
           "baxis": {
            "gridcolor": "white",
            "linecolor": "white",
            "ticks": ""
           },
           "bgcolor": "#E5ECF6",
           "caxis": {
            "gridcolor": "white",
            "linecolor": "white",
            "ticks": ""
           }
          },
          "title": {
           "x": 0.05
          },
          "xaxis": {
           "automargin": true,
           "gridcolor": "white",
           "linecolor": "white",
           "ticks": "",
           "title": {
            "standoff": 15
           },
           "zerolinecolor": "white",
           "zerolinewidth": 2
          },
          "yaxis": {
           "automargin": true,
           "gridcolor": "white",
           "linecolor": "white",
           "ticks": "",
           "title": {
            "standoff": 15
           },
           "zerolinecolor": "white",
           "zerolinewidth": 2
          }
         }
        },
        "title": {
         "text": "Squared Absorption coefficient in function of the energy for m9_CdSe",
         "x": 0.5
        },
        "xaxis": {
         "anchor": "y",
         "domain": [
          0,
          1
         ],
         "linecolor": "black",
         "mirror": true,
         "title": {
          "text": "Energy (eV)"
         }
        },
        "yaxis": {
         "anchor": "x",
         "domain": [
          0,
          1
         ],
         "linecolor": "black",
         "mirror": true,
         "title": {
          "text": "Alpha^2 (cm^-2)"
         }
        }
       }
      }
     },
     "metadata": {},
     "output_type": "display_data"
    },
    {
     "data": {
      "application/vnd.plotly.v1+json": {
       "config": {
        "plotlyServerURL": "https://plot.ly"
       },
       "data": [
        {
         "hovertemplate": "Sample=m3_CdSe_CdCl2_muffle<br>Energy (eV)=%{x}<br>Alpha^2 (cm^-2)=%{y}<extra></extra>",
         "legendgroup": "m3_CdSe_CdCl2_muffle",
         "line": {
          "color": "#636efa",
          "dash": "solid"
         },
         "marker": {
          "symbol": "circle"
         },
         "mode": "lines+markers",
         "name": "m3_CdSe_CdCl2_muffle",
         "orientation": "v",
         "showlegend": true,
         "type": "scatter",
         "x": [
          1.3777777777777778,
          1.3823857302118172,
          1.3870246085011186,
          1.3916947250280585,
          1.3963963963963963,
          1.4011299435028248,
          1.4058956916099774,
          1.410693970420933,
          1.4155251141552512,
          1.420389461626575,
          1.4252873563218391,
          1.4302191464821223,
          1.4351851851851851,
          1.4401858304297328,
          1.4452214452214451,
          1.4502923976608186,
          1.4553990610328638,
          1.4605418138987043,
          1.4657210401891252,
          1.4709371293001186,
          1.4761904761904763,
          1.4814814814814814,
          1.486810551558753,
          1.4921780986762936,
          1.497584541062802,
          1.503030303030303,
          1.508515815085158,
          1.514041514041514,
          1.5196078431372548,
          1.5252152521525215,
          1.5308641975308641,
          1.5365551425030979,
          1.5422885572139304,
          1.5480649188514357,
          1.5538847117794485,
          1.559748427672956,
          1.5656565656565657,
          1.5716096324461344,
          1.5776081424936388,
          1.5836526181353767,
          1.5897435897435896,
          1.595881595881596,
          1.6020671834625324,
          1.608300907911803,
          1.6145833333333333,
          1.6209150326797386,
          1.627296587926509,
          1.6337285902503293,
          1.6402116402116402,
          1.6467463479415672,
          1.6533333333333333,
          1.6599732262382865,
          1.6666666666666667,
          1.6734143049932524,
          1.6802168021680217,
          1.6870748299319729,
          1.6939890710382515,
          1.700960219478738,
          1.7079889807162534,
          1.7150760719225449,
          1.7222222222222223,
          1.7294281729428174,
          1.7366946778711485,
          1.7440225035161745,
          1.7514124293785311,
          1.7588652482269505,
          1.7663817663817665,
          1.7739628040057225,
          1.7816091954022988,
          1.7893217893217894,
          1.7971014492753623,
          1.8049490538573507,
          1.8128654970760234,
          1.8208516886930983,
          1.8289085545722714,
          1.837037037037037,
          1.8452380952380953,
          1.8535127055306428,
          1.8618618618618619,
          1.8702865761689291,
          1.878787878787879,
          1.887366818873668,
          1.8960244648318043,
          1.9047619047619047,
          1.9135802469135803,
          1.9224806201550388,
          1.9314641744548287,
          1.9405320813771518,
          1.949685534591195,
          1.9589257503949447,
          1.9682539682539681,
          1.977671451355662,
          1.9871794871794872,
          1.996779388083736,
          2.0064724919093853,
          2.016260162601626,
          2.026143790849673,
          2.0361247947454846,
          2.046204620462046,
          2.056384742951907,
          2.066666666666667,
          2.0770519262981573,
          2.0875420875420874,
          2.0981387478849407,
          2.108843537414966,
          2.1196581196581197,
          2.1305841924398625,
          2.1416234887737478,
          2.1527777777777777,
          2.1640488656195465,
          2.175438596491228,
          2.18694885361552,
          2.198581560283688,
          2.2103386809269163,
          2.2222222222222223,
          2.234234234234234,
          2.246376811594203,
          2.2586520947176685,
          2.271062271062271,
          2.283609576427256,
          2.2962962962962963,
          2.3091247672253257,
          2.3220973782771535,
          2.335216572504708,
          2.3484848484848486,
          2.361904761904762,
          2.375478927203065,
          2.3892100192678227,
          2.4031007751937983,
          2.4171539961013644,
          2.4313725490196076,
          2.445759368836292,
          2.4603174603174605,
          2.475049900199601,
          2.4899598393574296,
          2.505050505050505,
          2.5203252032520327,
          2.5357873210633946,
          2.551440329218107,
          2.567287784679089,
          2.5833333333333335,
          2.59958071278826,
          2.6160337552742616,
          2.632696390658174,
          2.6495726495726495,
          2.6666666666666665,
          2.683982683982684,
          2.701525054466231,
          2.719298245614035,
          2.7373068432671084,
          2.7555555555555555,
          2.7740492170022373,
          2.7927927927927927,
          2.811791383219955,
          2.8310502283105023,
          2.8505747126436782,
          2.8703703703703702,
          2.8904428904428903,
          2.9107981220657275,
          2.9314420803782504,
          2.9523809523809526,
          2.973621103117506,
          2.995169082125604,
          3.017031630170316,
          3.0392156862745097,
          3.0617283950617282,
          3.084577114427861
         ],
         "xaxis": "x",
         "y": [
          424710144.89598656,
          427517458.7895641,
          415038975.9542592,
          413851382.73449135,
          414749469.3270903,
          408781053.15800333,
          408455444.95101297,
          407260101.46889484,
          407636203.2575996,
          407889080.87450904,
          406334428.28227454,
          412050225.3228526,
          407994479.1119814,
          409010294.326561,
          408666466.4880267,
          413124786.4021984,
          415395722.04414743,
          424016549.7647437,
          418999642.2719542,
          422455804.497595,
          428308598.2470688,
          434240644.5875498,
          434168260.56433785,
          440459654.97935367,
          445224565.7084888,
          451008276.3082435,
          455030402.42005175,
          465429369.75596666,
          469296847.0700655,
          476996651.8331811,
          486816307.401432,
          488724982.4765355,
          498429563.9099459,
          508914787.9044152,
          514467701.98890334,
          523088386.2586554,
          536414625.16075623,
          542103712.2974079,
          551621526.8415046,
          562338962.4870192,
          577157476.7993164,
          589818293.984645,
          605823582.994495,
          616966777.306049,
          629645164.5079832,
          651720629.8418504,
          667648335.8860964,
          701574198.2731999,
          721640976.8689027,
          749912078.7961792,
          778840688.1283203,
          808934196.9686203,
          849301426.8818318,
          889873165.1253481,
          945983879.5425234,
          1026357208.8388543,
          1136064084.6132452,
          1289758851.646964,
          1511554527.0565536,
          1873186545.9358835,
          2347119298.820371,
          2943829335.2197757,
          3617843725.9577975,
          4255171152.4010234,
          4843532148.35804,
          5431877733.109118,
          5890578442.559609,
          6264847164.139128,
          6535291894.112883,
          6744669658.196478,
          6920363245.562233,
          7055548037.628864,
          7176297076.568614,
          7294265464.304607,
          7414403523.22764,
          7541677096.204638,
          7668775626.762852,
          7792934632.76249,
          7941230818.746028,
          8070456229.081645,
          8224668911.37217,
          8400013500.289871,
          8556874150.302663,
          8704839288.250635,
          8854402021.297056,
          9059270613.691008,
          9251468893.014833,
          9432157422.59185,
          9644578212.209991,
          9850505335.639826,
          10060844727.03042,
          10279053377.408009,
          10520452953.590223,
          10762239046.024504,
          11007802940.000439,
          11254163163.025015,
          11539505988.779192,
          11786344749.234674,
          12077484765.805502,
          12364158878.882719,
          12700621513.247402,
          13024147531.950975,
          13386996073.437178,
          13801518624.089901,
          14321953449.584225,
          14883292010.74171,
          15933595696.611395,
          16679872956.039995,
          17671535691.12184,
          18657593343.771282,
          19647579763.98712,
          20653439291.534657,
          21508147212.817055,
          22197131361.31118,
          22720429313.326756,
          23251904814.220142,
          23751470269.127274,
          24272867207.061047,
          24751018848.37575,
          25267868963.98707,
          25827446150.968964,
          26369239909.65311,
          26907907939.3934,
          27432363624.439392,
          27994012542.461136,
          28645884821.26069,
          29310238160.196163,
          29936159716.72361,
          30590531741.340046,
          31233018530.33356,
          32071571360.467747,
          32730803840.462547,
          33547197877.467503,
          34337377284.52312,
          35117758862.12158,
          35974545831.57799,
          36812405929.15658,
          37679157904.33177,
          38665420161.57478,
          39590425282.35208,
          40699679842.201805,
          41540693767.38848,
          42466555399.20824,
          43538886483.125015,
          44555915448.71614,
          45534468572.73683,
          46723654161.84078,
          47694984467.71691,
          48796041393.32627,
          49955230437.68413,
          50868093936.83085,
          52762350981.343636,
          54238282083.627365,
          55549510093.46066,
          56846113013.45343,
          58290540966.502205,
          59794505214.90054,
          61561728074.0934,
          63046911349.16057,
          64709971630.89401,
          66617259506.92803,
          68542076191.423,
          70508030816.51811,
          72343061563.47505,
          74321072195.44563,
          76887258681.74895,
          78801781690.58372
         ],
         "yaxis": "y"
        }
       ],
       "layout": {
        "legend": {
         "title": {
          "text": "Sample"
         },
         "tracegroupgap": 0
        },
        "template": {
         "data": {
          "bar": [
           {
            "error_x": {
             "color": "#2a3f5f"
            },
            "error_y": {
             "color": "#2a3f5f"
            },
            "marker": {
             "line": {
              "color": "#E5ECF6",
              "width": 0.5
             },
             "pattern": {
              "fillmode": "overlay",
              "size": 10,
              "solidity": 0.2
             }
            },
            "type": "bar"
           }
          ],
          "barpolar": [
           {
            "marker": {
             "line": {
              "color": "#E5ECF6",
              "width": 0.5
             },
             "pattern": {
              "fillmode": "overlay",
              "size": 10,
              "solidity": 0.2
             }
            },
            "type": "barpolar"
           }
          ],
          "carpet": [
           {
            "aaxis": {
             "endlinecolor": "#2a3f5f",
             "gridcolor": "white",
             "linecolor": "white",
             "minorgridcolor": "white",
             "startlinecolor": "#2a3f5f"
            },
            "baxis": {
             "endlinecolor": "#2a3f5f",
             "gridcolor": "white",
             "linecolor": "white",
             "minorgridcolor": "white",
             "startlinecolor": "#2a3f5f"
            },
            "type": "carpet"
           }
          ],
          "choropleth": [
           {
            "colorbar": {
             "outlinewidth": 0,
             "ticks": ""
            },
            "type": "choropleth"
           }
          ],
          "contour": [
           {
            "colorbar": {
             "outlinewidth": 0,
             "ticks": ""
            },
            "colorscale": [
             [
              0,
              "#0d0887"
             ],
             [
              0.1111111111111111,
              "#46039f"
             ],
             [
              0.2222222222222222,
              "#7201a8"
             ],
             [
              0.3333333333333333,
              "#9c179e"
             ],
             [
              0.4444444444444444,
              "#bd3786"
             ],
             [
              0.5555555555555556,
              "#d8576b"
             ],
             [
              0.6666666666666666,
              "#ed7953"
             ],
             [
              0.7777777777777778,
              "#fb9f3a"
             ],
             [
              0.8888888888888888,
              "#fdca26"
             ],
             [
              1,
              "#f0f921"
             ]
            ],
            "type": "contour"
           }
          ],
          "contourcarpet": [
           {
            "colorbar": {
             "outlinewidth": 0,
             "ticks": ""
            },
            "type": "contourcarpet"
           }
          ],
          "heatmap": [
           {
            "colorbar": {
             "outlinewidth": 0,
             "ticks": ""
            },
            "colorscale": [
             [
              0,
              "#0d0887"
             ],
             [
              0.1111111111111111,
              "#46039f"
             ],
             [
              0.2222222222222222,
              "#7201a8"
             ],
             [
              0.3333333333333333,
              "#9c179e"
             ],
             [
              0.4444444444444444,
              "#bd3786"
             ],
             [
              0.5555555555555556,
              "#d8576b"
             ],
             [
              0.6666666666666666,
              "#ed7953"
             ],
             [
              0.7777777777777778,
              "#fb9f3a"
             ],
             [
              0.8888888888888888,
              "#fdca26"
             ],
             [
              1,
              "#f0f921"
             ]
            ],
            "type": "heatmap"
           }
          ],
          "heatmapgl": [
           {
            "colorbar": {
             "outlinewidth": 0,
             "ticks": ""
            },
            "colorscale": [
             [
              0,
              "#0d0887"
             ],
             [
              0.1111111111111111,
              "#46039f"
             ],
             [
              0.2222222222222222,
              "#7201a8"
             ],
             [
              0.3333333333333333,
              "#9c179e"
             ],
             [
              0.4444444444444444,
              "#bd3786"
             ],
             [
              0.5555555555555556,
              "#d8576b"
             ],
             [
              0.6666666666666666,
              "#ed7953"
             ],
             [
              0.7777777777777778,
              "#fb9f3a"
             ],
             [
              0.8888888888888888,
              "#fdca26"
             ],
             [
              1,
              "#f0f921"
             ]
            ],
            "type": "heatmapgl"
           }
          ],
          "histogram": [
           {
            "marker": {
             "pattern": {
              "fillmode": "overlay",
              "size": 10,
              "solidity": 0.2
             }
            },
            "type": "histogram"
           }
          ],
          "histogram2d": [
           {
            "colorbar": {
             "outlinewidth": 0,
             "ticks": ""
            },
            "colorscale": [
             [
              0,
              "#0d0887"
             ],
             [
              0.1111111111111111,
              "#46039f"
             ],
             [
              0.2222222222222222,
              "#7201a8"
             ],
             [
              0.3333333333333333,
              "#9c179e"
             ],
             [
              0.4444444444444444,
              "#bd3786"
             ],
             [
              0.5555555555555556,
              "#d8576b"
             ],
             [
              0.6666666666666666,
              "#ed7953"
             ],
             [
              0.7777777777777778,
              "#fb9f3a"
             ],
             [
              0.8888888888888888,
              "#fdca26"
             ],
             [
              1,
              "#f0f921"
             ]
            ],
            "type": "histogram2d"
           }
          ],
          "histogram2dcontour": [
           {
            "colorbar": {
             "outlinewidth": 0,
             "ticks": ""
            },
            "colorscale": [
             [
              0,
              "#0d0887"
             ],
             [
              0.1111111111111111,
              "#46039f"
             ],
             [
              0.2222222222222222,
              "#7201a8"
             ],
             [
              0.3333333333333333,
              "#9c179e"
             ],
             [
              0.4444444444444444,
              "#bd3786"
             ],
             [
              0.5555555555555556,
              "#d8576b"
             ],
             [
              0.6666666666666666,
              "#ed7953"
             ],
             [
              0.7777777777777778,
              "#fb9f3a"
             ],
             [
              0.8888888888888888,
              "#fdca26"
             ],
             [
              1,
              "#f0f921"
             ]
            ],
            "type": "histogram2dcontour"
           }
          ],
          "mesh3d": [
           {
            "colorbar": {
             "outlinewidth": 0,
             "ticks": ""
            },
            "type": "mesh3d"
           }
          ],
          "parcoords": [
           {
            "line": {
             "colorbar": {
              "outlinewidth": 0,
              "ticks": ""
             }
            },
            "type": "parcoords"
           }
          ],
          "pie": [
           {
            "automargin": true,
            "type": "pie"
           }
          ],
          "scatter": [
           {
            "fillpattern": {
             "fillmode": "overlay",
             "size": 10,
             "solidity": 0.2
            },
            "type": "scatter"
           }
          ],
          "scatter3d": [
           {
            "line": {
             "colorbar": {
              "outlinewidth": 0,
              "ticks": ""
             }
            },
            "marker": {
             "colorbar": {
              "outlinewidth": 0,
              "ticks": ""
             }
            },
            "type": "scatter3d"
           }
          ],
          "scattercarpet": [
           {
            "marker": {
             "colorbar": {
              "outlinewidth": 0,
              "ticks": ""
             }
            },
            "type": "scattercarpet"
           }
          ],
          "scattergeo": [
           {
            "marker": {
             "colorbar": {
              "outlinewidth": 0,
              "ticks": ""
             }
            },
            "type": "scattergeo"
           }
          ],
          "scattergl": [
           {
            "marker": {
             "colorbar": {
              "outlinewidth": 0,
              "ticks": ""
             }
            },
            "type": "scattergl"
           }
          ],
          "scattermapbox": [
           {
            "marker": {
             "colorbar": {
              "outlinewidth": 0,
              "ticks": ""
             }
            },
            "type": "scattermapbox"
           }
          ],
          "scatterpolar": [
           {
            "marker": {
             "colorbar": {
              "outlinewidth": 0,
              "ticks": ""
             }
            },
            "type": "scatterpolar"
           }
          ],
          "scatterpolargl": [
           {
            "marker": {
             "colorbar": {
              "outlinewidth": 0,
              "ticks": ""
             }
            },
            "type": "scatterpolargl"
           }
          ],
          "scatterternary": [
           {
            "marker": {
             "colorbar": {
              "outlinewidth": 0,
              "ticks": ""
             }
            },
            "type": "scatterternary"
           }
          ],
          "surface": [
           {
            "colorbar": {
             "outlinewidth": 0,
             "ticks": ""
            },
            "colorscale": [
             [
              0,
              "#0d0887"
             ],
             [
              0.1111111111111111,
              "#46039f"
             ],
             [
              0.2222222222222222,
              "#7201a8"
             ],
             [
              0.3333333333333333,
              "#9c179e"
             ],
             [
              0.4444444444444444,
              "#bd3786"
             ],
             [
              0.5555555555555556,
              "#d8576b"
             ],
             [
              0.6666666666666666,
              "#ed7953"
             ],
             [
              0.7777777777777778,
              "#fb9f3a"
             ],
             [
              0.8888888888888888,
              "#fdca26"
             ],
             [
              1,
              "#f0f921"
             ]
            ],
            "type": "surface"
           }
          ],
          "table": [
           {
            "cells": {
             "fill": {
              "color": "#EBF0F8"
             },
             "line": {
              "color": "white"
             }
            },
            "header": {
             "fill": {
              "color": "#C8D4E3"
             },
             "line": {
              "color": "white"
             }
            },
            "type": "table"
           }
          ]
         },
         "layout": {
          "annotationdefaults": {
           "arrowcolor": "#2a3f5f",
           "arrowhead": 0,
           "arrowwidth": 1
          },
          "autotypenumbers": "strict",
          "coloraxis": {
           "colorbar": {
            "outlinewidth": 0,
            "ticks": ""
           }
          },
          "colorscale": {
           "diverging": [
            [
             0,
             "#8e0152"
            ],
            [
             0.1,
             "#c51b7d"
            ],
            [
             0.2,
             "#de77ae"
            ],
            [
             0.3,
             "#f1b6da"
            ],
            [
             0.4,
             "#fde0ef"
            ],
            [
             0.5,
             "#f7f7f7"
            ],
            [
             0.6,
             "#e6f5d0"
            ],
            [
             0.7,
             "#b8e186"
            ],
            [
             0.8,
             "#7fbc41"
            ],
            [
             0.9,
             "#4d9221"
            ],
            [
             1,
             "#276419"
            ]
           ],
           "sequential": [
            [
             0,
             "#0d0887"
            ],
            [
             0.1111111111111111,
             "#46039f"
            ],
            [
             0.2222222222222222,
             "#7201a8"
            ],
            [
             0.3333333333333333,
             "#9c179e"
            ],
            [
             0.4444444444444444,
             "#bd3786"
            ],
            [
             0.5555555555555556,
             "#d8576b"
            ],
            [
             0.6666666666666666,
             "#ed7953"
            ],
            [
             0.7777777777777778,
             "#fb9f3a"
            ],
            [
             0.8888888888888888,
             "#fdca26"
            ],
            [
             1,
             "#f0f921"
            ]
           ],
           "sequentialminus": [
            [
             0,
             "#0d0887"
            ],
            [
             0.1111111111111111,
             "#46039f"
            ],
            [
             0.2222222222222222,
             "#7201a8"
            ],
            [
             0.3333333333333333,
             "#9c179e"
            ],
            [
             0.4444444444444444,
             "#bd3786"
            ],
            [
             0.5555555555555556,
             "#d8576b"
            ],
            [
             0.6666666666666666,
             "#ed7953"
            ],
            [
             0.7777777777777778,
             "#fb9f3a"
            ],
            [
             0.8888888888888888,
             "#fdca26"
            ],
            [
             1,
             "#f0f921"
            ]
           ]
          },
          "colorway": [
           "#636efa",
           "#EF553B",
           "#00cc96",
           "#ab63fa",
           "#FFA15A",
           "#19d3f3",
           "#FF6692",
           "#B6E880",
           "#FF97FF",
           "#FECB52"
          ],
          "font": {
           "color": "#2a3f5f"
          },
          "geo": {
           "bgcolor": "white",
           "lakecolor": "white",
           "landcolor": "#E5ECF6",
           "showlakes": true,
           "showland": true,
           "subunitcolor": "white"
          },
          "hoverlabel": {
           "align": "left"
          },
          "hovermode": "closest",
          "mapbox": {
           "style": "light"
          },
          "paper_bgcolor": "white",
          "plot_bgcolor": "#E5ECF6",
          "polar": {
           "angularaxis": {
            "gridcolor": "white",
            "linecolor": "white",
            "ticks": ""
           },
           "bgcolor": "#E5ECF6",
           "radialaxis": {
            "gridcolor": "white",
            "linecolor": "white",
            "ticks": ""
           }
          },
          "scene": {
           "xaxis": {
            "backgroundcolor": "#E5ECF6",
            "gridcolor": "white",
            "gridwidth": 2,
            "linecolor": "white",
            "showbackground": true,
            "ticks": "",
            "zerolinecolor": "white"
           },
           "yaxis": {
            "backgroundcolor": "#E5ECF6",
            "gridcolor": "white",
            "gridwidth": 2,
            "linecolor": "white",
            "showbackground": true,
            "ticks": "",
            "zerolinecolor": "white"
           },
           "zaxis": {
            "backgroundcolor": "#E5ECF6",
            "gridcolor": "white",
            "gridwidth": 2,
            "linecolor": "white",
            "showbackground": true,
            "ticks": "",
            "zerolinecolor": "white"
           }
          },
          "shapedefaults": {
           "line": {
            "color": "#2a3f5f"
           }
          },
          "ternary": {
           "aaxis": {
            "gridcolor": "white",
            "linecolor": "white",
            "ticks": ""
           },
           "baxis": {
            "gridcolor": "white",
            "linecolor": "white",
            "ticks": ""
           },
           "bgcolor": "#E5ECF6",
           "caxis": {
            "gridcolor": "white",
            "linecolor": "white",
            "ticks": ""
           }
          },
          "title": {
           "x": 0.05
          },
          "xaxis": {
           "automargin": true,
           "gridcolor": "white",
           "linecolor": "white",
           "ticks": "",
           "title": {
            "standoff": 15
           },
           "zerolinecolor": "white",
           "zerolinewidth": 2
          },
          "yaxis": {
           "automargin": true,
           "gridcolor": "white",
           "linecolor": "white",
           "ticks": "",
           "title": {
            "standoff": 15
           },
           "zerolinecolor": "white",
           "zerolinewidth": 2
          }
         }
        },
        "title": {
         "text": "Squared Absorption coefficient in function of the energy for m3_CdSe_CdCl2_muffle",
         "x": 0.5
        },
        "xaxis": {
         "anchor": "y",
         "domain": [
          0,
          1
         ],
         "linecolor": "black",
         "mirror": true,
         "title": {
          "text": "Energy (eV)"
         }
        },
        "yaxis": {
         "anchor": "x",
         "domain": [
          0,
          1
         ],
         "linecolor": "black",
         "mirror": true,
         "title": {
          "text": "Alpha^2 (cm^-2)"
         }
        }
       }
      }
     },
     "metadata": {},
     "output_type": "display_data"
    },
    {
     "data": {
      "application/vnd.plotly.v1+json": {
       "config": {
        "plotlyServerURL": "https://plot.ly"
       },
       "data": [
        {
         "hovertemplate": "Sample=m4_CdSe_CdCl2<br>Energy (eV)=%{x}<br>Alpha^2 (cm^-2)=%{y}<extra></extra>",
         "legendgroup": "m4_CdSe_CdCl2",
         "line": {
          "color": "#636efa",
          "dash": "solid"
         },
         "marker": {
          "symbol": "circle"
         },
         "mode": "lines+markers",
         "name": "m4_CdSe_CdCl2",
         "orientation": "v",
         "showlegend": true,
         "type": "scatter",
         "x": [
          1.3777777777777778,
          1.3823857302118172,
          1.3870246085011186,
          1.3916947250280585,
          1.3963963963963963,
          1.4011299435028248,
          1.4058956916099774,
          1.410693970420933,
          1.4155251141552512,
          1.420389461626575,
          1.4252873563218391,
          1.4302191464821223,
          1.4351851851851851,
          1.4401858304297328,
          1.4452214452214451,
          1.4502923976608186,
          1.4553990610328638,
          1.4605418138987043,
          1.4657210401891252,
          1.4709371293001186,
          1.4761904761904763,
          1.4814814814814814,
          1.486810551558753,
          1.4921780986762936,
          1.497584541062802,
          1.503030303030303,
          1.508515815085158,
          1.514041514041514,
          1.5196078431372548,
          1.5252152521525215,
          1.5308641975308641,
          1.5365551425030979,
          1.5422885572139304,
          1.5480649188514357,
          1.5538847117794485,
          1.559748427672956,
          1.5656565656565657,
          1.5716096324461344,
          1.5776081424936388,
          1.5836526181353767,
          1.5897435897435896,
          1.595881595881596,
          1.6020671834625324,
          1.608300907911803,
          1.6145833333333333,
          1.6209150326797386,
          1.627296587926509,
          1.6337285902503293,
          1.6402116402116402,
          1.6467463479415672,
          1.6533333333333333,
          1.6599732262382865,
          1.6666666666666667,
          1.6734143049932524,
          1.6802168021680217,
          1.6870748299319729,
          1.6939890710382515,
          1.700960219478738,
          1.7079889807162534,
          1.7150760719225449,
          1.7222222222222223,
          1.7294281729428174,
          1.7366946778711485,
          1.7440225035161745,
          1.7514124293785311,
          1.7588652482269505,
          1.7663817663817665,
          1.7739628040057225,
          1.7816091954022988,
          1.7893217893217894,
          1.7971014492753623,
          1.8049490538573507,
          1.8128654970760234,
          1.8208516886930983,
          1.8289085545722714,
          1.837037037037037,
          1.8452380952380953,
          1.8535127055306428,
          1.8618618618618619,
          1.8702865761689291,
          1.878787878787879,
          1.887366818873668,
          1.8960244648318043,
          1.9047619047619047,
          1.9135802469135803,
          1.9224806201550388,
          1.9314641744548287,
          1.9405320813771518,
          1.949685534591195,
          1.9589257503949447,
          1.9682539682539681,
          1.977671451355662,
          1.9871794871794872,
          1.996779388083736,
          2.0064724919093853,
          2.016260162601626,
          2.026143790849673,
          2.0361247947454846,
          2.046204620462046,
          2.056384742951907,
          2.066666666666667,
          2.0770519262981573,
          2.0875420875420874,
          2.0981387478849407,
          2.108843537414966,
          2.1196581196581197,
          2.1305841924398625,
          2.1416234887737478,
          2.1527777777777777,
          2.1640488656195465,
          2.175438596491228,
          2.18694885361552,
          2.198581560283688,
          2.2103386809269163,
          2.2222222222222223,
          2.234234234234234,
          2.246376811594203,
          2.2586520947176685,
          2.271062271062271,
          2.283609576427256,
          2.2962962962962963,
          2.3091247672253257,
          2.3220973782771535,
          2.335216572504708,
          2.3484848484848486,
          2.361904761904762,
          2.375478927203065,
          2.3892100192678227,
          2.4031007751937983,
          2.4171539961013644,
          2.4313725490196076,
          2.445759368836292,
          2.4603174603174605,
          2.475049900199601,
          2.4899598393574296,
          2.505050505050505,
          2.5203252032520327,
          2.5357873210633946,
          2.551440329218107,
          2.567287784679089,
          2.5833333333333335,
          2.59958071278826,
          2.6160337552742616,
          2.632696390658174,
          2.6495726495726495,
          2.6666666666666665,
          2.683982683982684,
          2.701525054466231,
          2.719298245614035,
          2.7373068432671084,
          2.7555555555555555,
          2.7740492170022373,
          2.7927927927927927,
          2.811791383219955,
          2.8310502283105023,
          2.8505747126436782,
          2.8703703703703702,
          2.8904428904428903,
          2.9107981220657275,
          2.9314420803782504,
          2.9523809523809526,
          2.973621103117506,
          2.995169082125604,
          3.017031630170316,
          3.0392156862745097,
          3.0617283950617282,
          3.084577114427861
         ],
         "xaxis": "x",
         "y": [
          380256020.9513584,
          384661893.1594177,
          385860508.4791158,
          388396650.76647973,
          394263425.2857725,
          397531057.99335086,
          401964539.7646135,
          405261319.91606677,
          411165120.0670043,
          412560959.38175786,
          414838214.81628567,
          421926900.3372073,
          425762656.8181556,
          430132627.7128611,
          434514554.81461793,
          440206367.8518973,
          442116404.5294736,
          449097826.880584,
          452381516.64318585,
          454861964.2489949,
          460207640.2245012,
          464317691.59100085,
          468911971.1993695,
          475253712.41593146,
          480131726.9867306,
          483955934.28944725,
          490352734.7415331,
          497439743.20204705,
          501959329.26770586,
          508733150.6218831,
          515114668.6995963,
          521614833.54514354,
          529934946.8938018,
          538780660.400046,
          547743082.009439,
          555248207.7263819,
          566507470.5080928,
          574666463.6422719,
          585334381.4926232,
          596772312.405738,
          611272104.6923138,
          622285529.1570611,
          637142774.6227722,
          649128906.9093745,
          666200072.889492,
          681314527.4387019,
          699295388.913677,
          722576810.9690324,
          740378386.7921138,
          761310468.1034088,
          782651243.5722786,
          804139578.602927,
          828259873.5861629,
          857900015.4203076,
          885562695.0205036,
          923830322.2958797,
          968209470.7148627,
          1028150709.2290008,
          1108507725.5037374,
          1236232873.1612391,
          1416470412.7041202,
          1666603264.4163072,
          1994783037.2463384,
          2339404863.092662,
          2664649861.680749,
          2997755693.9364686,
          3287711315.6996675,
          3553326364.408554,
          3768433339.885106,
          3944768663.5417547,
          4082665797.054977,
          4175600021.9970217,
          4252509571.908107,
          4317111593.73597,
          4380927908.299235,
          4450634902.881145,
          4518955095.03691,
          4584518882.032743,
          4665334862.28908,
          4741991882.810784,
          4827594936.4393215,
          4920203779.160792,
          5003754241.505486,
          5088767050.701838,
          5171906043.835555,
          5281573887.7523365,
          5386548572.030959,
          5490618101.626038,
          5602783874.256481,
          5720241709.823448,
          5837879608.704933,
          5950585207.586559,
          6079732588.149146,
          6209426312.64394,
          6340207251.484766,
          6470006516.449554,
          6620101131.993578,
          6747787330.125804,
          6897622561.062394,
          7045712227.686469,
          7208576332.037765,
          7361978723.566477,
          7548619609.7143545,
          7750724434.310885,
          8006019797.343672,
          8273843902.455389,
          8859298089.909288,
          9209263092.012672,
          9698404188.490189,
          10157176396.904688,
          10629280999.544163,
          11166766166.720884,
          11620652595.017256,
          11991620692.271194,
          12271265582.395168,
          12533687324.184938,
          12792574090.478264,
          13077539094.741184,
          13304722179.101982,
          13556043084.24556,
          13837561707.868053,
          14107434073.187883,
          14388142151.00178,
          14612541461.948765,
          14879977302.869448,
          15218412686.927174,
          15495226789.3816,
          15788701547.996939,
          16112499289.830864,
          16401562851.703194,
          16767389305.849169,
          17049932066.369167,
          17418495700.535236,
          17759154458.975224,
          18128054308.80769,
          18534915776.216656,
          18879556710.323742,
          19167139445.488426,
          19680391458.701443,
          20026496783.11898,
          20457669693.33764,
          20863384331.537357,
          21235211803.86634,
          21688491073.544853,
          22003628615.549995,
          22458413691.097897,
          22891519444.337738,
          23158324263.687607,
          23672932382.83537,
          23924981687.98982,
          24274346628.136597,
          25176895175.619713,
          25695657254.230606,
          26205003697.664616,
          26762934194.695034,
          27235154285.895462,
          27863533378.75842,
          28201077833.616898,
          28959013261.303135,
          29456197544.304123,
          29919561035.27449,
          30641211347.647377,
          31380155154.915535,
          31830469978.947735,
          32280875858.980602,
          32703954243.718044,
          33659716446.088253
         ],
         "yaxis": "y"
        }
       ],
       "layout": {
        "legend": {
         "title": {
          "text": "Sample"
         },
         "tracegroupgap": 0
        },
        "template": {
         "data": {
          "bar": [
           {
            "error_x": {
             "color": "#2a3f5f"
            },
            "error_y": {
             "color": "#2a3f5f"
            },
            "marker": {
             "line": {
              "color": "#E5ECF6",
              "width": 0.5
             },
             "pattern": {
              "fillmode": "overlay",
              "size": 10,
              "solidity": 0.2
             }
            },
            "type": "bar"
           }
          ],
          "barpolar": [
           {
            "marker": {
             "line": {
              "color": "#E5ECF6",
              "width": 0.5
             },
             "pattern": {
              "fillmode": "overlay",
              "size": 10,
              "solidity": 0.2
             }
            },
            "type": "barpolar"
           }
          ],
          "carpet": [
           {
            "aaxis": {
             "endlinecolor": "#2a3f5f",
             "gridcolor": "white",
             "linecolor": "white",
             "minorgridcolor": "white",
             "startlinecolor": "#2a3f5f"
            },
            "baxis": {
             "endlinecolor": "#2a3f5f",
             "gridcolor": "white",
             "linecolor": "white",
             "minorgridcolor": "white",
             "startlinecolor": "#2a3f5f"
            },
            "type": "carpet"
           }
          ],
          "choropleth": [
           {
            "colorbar": {
             "outlinewidth": 0,
             "ticks": ""
            },
            "type": "choropleth"
           }
          ],
          "contour": [
           {
            "colorbar": {
             "outlinewidth": 0,
             "ticks": ""
            },
            "colorscale": [
             [
              0,
              "#0d0887"
             ],
             [
              0.1111111111111111,
              "#46039f"
             ],
             [
              0.2222222222222222,
              "#7201a8"
             ],
             [
              0.3333333333333333,
              "#9c179e"
             ],
             [
              0.4444444444444444,
              "#bd3786"
             ],
             [
              0.5555555555555556,
              "#d8576b"
             ],
             [
              0.6666666666666666,
              "#ed7953"
             ],
             [
              0.7777777777777778,
              "#fb9f3a"
             ],
             [
              0.8888888888888888,
              "#fdca26"
             ],
             [
              1,
              "#f0f921"
             ]
            ],
            "type": "contour"
           }
          ],
          "contourcarpet": [
           {
            "colorbar": {
             "outlinewidth": 0,
             "ticks": ""
            },
            "type": "contourcarpet"
           }
          ],
          "heatmap": [
           {
            "colorbar": {
             "outlinewidth": 0,
             "ticks": ""
            },
            "colorscale": [
             [
              0,
              "#0d0887"
             ],
             [
              0.1111111111111111,
              "#46039f"
             ],
             [
              0.2222222222222222,
              "#7201a8"
             ],
             [
              0.3333333333333333,
              "#9c179e"
             ],
             [
              0.4444444444444444,
              "#bd3786"
             ],
             [
              0.5555555555555556,
              "#d8576b"
             ],
             [
              0.6666666666666666,
              "#ed7953"
             ],
             [
              0.7777777777777778,
              "#fb9f3a"
             ],
             [
              0.8888888888888888,
              "#fdca26"
             ],
             [
              1,
              "#f0f921"
             ]
            ],
            "type": "heatmap"
           }
          ],
          "heatmapgl": [
           {
            "colorbar": {
             "outlinewidth": 0,
             "ticks": ""
            },
            "colorscale": [
             [
              0,
              "#0d0887"
             ],
             [
              0.1111111111111111,
              "#46039f"
             ],
             [
              0.2222222222222222,
              "#7201a8"
             ],
             [
              0.3333333333333333,
              "#9c179e"
             ],
             [
              0.4444444444444444,
              "#bd3786"
             ],
             [
              0.5555555555555556,
              "#d8576b"
             ],
             [
              0.6666666666666666,
              "#ed7953"
             ],
             [
              0.7777777777777778,
              "#fb9f3a"
             ],
             [
              0.8888888888888888,
              "#fdca26"
             ],
             [
              1,
              "#f0f921"
             ]
            ],
            "type": "heatmapgl"
           }
          ],
          "histogram": [
           {
            "marker": {
             "pattern": {
              "fillmode": "overlay",
              "size": 10,
              "solidity": 0.2
             }
            },
            "type": "histogram"
           }
          ],
          "histogram2d": [
           {
            "colorbar": {
             "outlinewidth": 0,
             "ticks": ""
            },
            "colorscale": [
             [
              0,
              "#0d0887"
             ],
             [
              0.1111111111111111,
              "#46039f"
             ],
             [
              0.2222222222222222,
              "#7201a8"
             ],
             [
              0.3333333333333333,
              "#9c179e"
             ],
             [
              0.4444444444444444,
              "#bd3786"
             ],
             [
              0.5555555555555556,
              "#d8576b"
             ],
             [
              0.6666666666666666,
              "#ed7953"
             ],
             [
              0.7777777777777778,
              "#fb9f3a"
             ],
             [
              0.8888888888888888,
              "#fdca26"
             ],
             [
              1,
              "#f0f921"
             ]
            ],
            "type": "histogram2d"
           }
          ],
          "histogram2dcontour": [
           {
            "colorbar": {
             "outlinewidth": 0,
             "ticks": ""
            },
            "colorscale": [
             [
              0,
              "#0d0887"
             ],
             [
              0.1111111111111111,
              "#46039f"
             ],
             [
              0.2222222222222222,
              "#7201a8"
             ],
             [
              0.3333333333333333,
              "#9c179e"
             ],
             [
              0.4444444444444444,
              "#bd3786"
             ],
             [
              0.5555555555555556,
              "#d8576b"
             ],
             [
              0.6666666666666666,
              "#ed7953"
             ],
             [
              0.7777777777777778,
              "#fb9f3a"
             ],
             [
              0.8888888888888888,
              "#fdca26"
             ],
             [
              1,
              "#f0f921"
             ]
            ],
            "type": "histogram2dcontour"
           }
          ],
          "mesh3d": [
           {
            "colorbar": {
             "outlinewidth": 0,
             "ticks": ""
            },
            "type": "mesh3d"
           }
          ],
          "parcoords": [
           {
            "line": {
             "colorbar": {
              "outlinewidth": 0,
              "ticks": ""
             }
            },
            "type": "parcoords"
           }
          ],
          "pie": [
           {
            "automargin": true,
            "type": "pie"
           }
          ],
          "scatter": [
           {
            "fillpattern": {
             "fillmode": "overlay",
             "size": 10,
             "solidity": 0.2
            },
            "type": "scatter"
           }
          ],
          "scatter3d": [
           {
            "line": {
             "colorbar": {
              "outlinewidth": 0,
              "ticks": ""
             }
            },
            "marker": {
             "colorbar": {
              "outlinewidth": 0,
              "ticks": ""
             }
            },
            "type": "scatter3d"
           }
          ],
          "scattercarpet": [
           {
            "marker": {
             "colorbar": {
              "outlinewidth": 0,
              "ticks": ""
             }
            },
            "type": "scattercarpet"
           }
          ],
          "scattergeo": [
           {
            "marker": {
             "colorbar": {
              "outlinewidth": 0,
              "ticks": ""
             }
            },
            "type": "scattergeo"
           }
          ],
          "scattergl": [
           {
            "marker": {
             "colorbar": {
              "outlinewidth": 0,
              "ticks": ""
             }
            },
            "type": "scattergl"
           }
          ],
          "scattermapbox": [
           {
            "marker": {
             "colorbar": {
              "outlinewidth": 0,
              "ticks": ""
             }
            },
            "type": "scattermapbox"
           }
          ],
          "scatterpolar": [
           {
            "marker": {
             "colorbar": {
              "outlinewidth": 0,
              "ticks": ""
             }
            },
            "type": "scatterpolar"
           }
          ],
          "scatterpolargl": [
           {
            "marker": {
             "colorbar": {
              "outlinewidth": 0,
              "ticks": ""
             }
            },
            "type": "scatterpolargl"
           }
          ],
          "scatterternary": [
           {
            "marker": {
             "colorbar": {
              "outlinewidth": 0,
              "ticks": ""
             }
            },
            "type": "scatterternary"
           }
          ],
          "surface": [
           {
            "colorbar": {
             "outlinewidth": 0,
             "ticks": ""
            },
            "colorscale": [
             [
              0,
              "#0d0887"
             ],
             [
              0.1111111111111111,
              "#46039f"
             ],
             [
              0.2222222222222222,
              "#7201a8"
             ],
             [
              0.3333333333333333,
              "#9c179e"
             ],
             [
              0.4444444444444444,
              "#bd3786"
             ],
             [
              0.5555555555555556,
              "#d8576b"
             ],
             [
              0.6666666666666666,
              "#ed7953"
             ],
             [
              0.7777777777777778,
              "#fb9f3a"
             ],
             [
              0.8888888888888888,
              "#fdca26"
             ],
             [
              1,
              "#f0f921"
             ]
            ],
            "type": "surface"
           }
          ],
          "table": [
           {
            "cells": {
             "fill": {
              "color": "#EBF0F8"
             },
             "line": {
              "color": "white"
             }
            },
            "header": {
             "fill": {
              "color": "#C8D4E3"
             },
             "line": {
              "color": "white"
             }
            },
            "type": "table"
           }
          ]
         },
         "layout": {
          "annotationdefaults": {
           "arrowcolor": "#2a3f5f",
           "arrowhead": 0,
           "arrowwidth": 1
          },
          "autotypenumbers": "strict",
          "coloraxis": {
           "colorbar": {
            "outlinewidth": 0,
            "ticks": ""
           }
          },
          "colorscale": {
           "diverging": [
            [
             0,
             "#8e0152"
            ],
            [
             0.1,
             "#c51b7d"
            ],
            [
             0.2,
             "#de77ae"
            ],
            [
             0.3,
             "#f1b6da"
            ],
            [
             0.4,
             "#fde0ef"
            ],
            [
             0.5,
             "#f7f7f7"
            ],
            [
             0.6,
             "#e6f5d0"
            ],
            [
             0.7,
             "#b8e186"
            ],
            [
             0.8,
             "#7fbc41"
            ],
            [
             0.9,
             "#4d9221"
            ],
            [
             1,
             "#276419"
            ]
           ],
           "sequential": [
            [
             0,
             "#0d0887"
            ],
            [
             0.1111111111111111,
             "#46039f"
            ],
            [
             0.2222222222222222,
             "#7201a8"
            ],
            [
             0.3333333333333333,
             "#9c179e"
            ],
            [
             0.4444444444444444,
             "#bd3786"
            ],
            [
             0.5555555555555556,
             "#d8576b"
            ],
            [
             0.6666666666666666,
             "#ed7953"
            ],
            [
             0.7777777777777778,
             "#fb9f3a"
            ],
            [
             0.8888888888888888,
             "#fdca26"
            ],
            [
             1,
             "#f0f921"
            ]
           ],
           "sequentialminus": [
            [
             0,
             "#0d0887"
            ],
            [
             0.1111111111111111,
             "#46039f"
            ],
            [
             0.2222222222222222,
             "#7201a8"
            ],
            [
             0.3333333333333333,
             "#9c179e"
            ],
            [
             0.4444444444444444,
             "#bd3786"
            ],
            [
             0.5555555555555556,
             "#d8576b"
            ],
            [
             0.6666666666666666,
             "#ed7953"
            ],
            [
             0.7777777777777778,
             "#fb9f3a"
            ],
            [
             0.8888888888888888,
             "#fdca26"
            ],
            [
             1,
             "#f0f921"
            ]
           ]
          },
          "colorway": [
           "#636efa",
           "#EF553B",
           "#00cc96",
           "#ab63fa",
           "#FFA15A",
           "#19d3f3",
           "#FF6692",
           "#B6E880",
           "#FF97FF",
           "#FECB52"
          ],
          "font": {
           "color": "#2a3f5f"
          },
          "geo": {
           "bgcolor": "white",
           "lakecolor": "white",
           "landcolor": "#E5ECF6",
           "showlakes": true,
           "showland": true,
           "subunitcolor": "white"
          },
          "hoverlabel": {
           "align": "left"
          },
          "hovermode": "closest",
          "mapbox": {
           "style": "light"
          },
          "paper_bgcolor": "white",
          "plot_bgcolor": "#E5ECF6",
          "polar": {
           "angularaxis": {
            "gridcolor": "white",
            "linecolor": "white",
            "ticks": ""
           },
           "bgcolor": "#E5ECF6",
           "radialaxis": {
            "gridcolor": "white",
            "linecolor": "white",
            "ticks": ""
           }
          },
          "scene": {
           "xaxis": {
            "backgroundcolor": "#E5ECF6",
            "gridcolor": "white",
            "gridwidth": 2,
            "linecolor": "white",
            "showbackground": true,
            "ticks": "",
            "zerolinecolor": "white"
           },
           "yaxis": {
            "backgroundcolor": "#E5ECF6",
            "gridcolor": "white",
            "gridwidth": 2,
            "linecolor": "white",
            "showbackground": true,
            "ticks": "",
            "zerolinecolor": "white"
           },
           "zaxis": {
            "backgroundcolor": "#E5ECF6",
            "gridcolor": "white",
            "gridwidth": 2,
            "linecolor": "white",
            "showbackground": true,
            "ticks": "",
            "zerolinecolor": "white"
           }
          },
          "shapedefaults": {
           "line": {
            "color": "#2a3f5f"
           }
          },
          "ternary": {
           "aaxis": {
            "gridcolor": "white",
            "linecolor": "white",
            "ticks": ""
           },
           "baxis": {
            "gridcolor": "white",
            "linecolor": "white",
            "ticks": ""
           },
           "bgcolor": "#E5ECF6",
           "caxis": {
            "gridcolor": "white",
            "linecolor": "white",
            "ticks": ""
           }
          },
          "title": {
           "x": 0.05
          },
          "xaxis": {
           "automargin": true,
           "gridcolor": "white",
           "linecolor": "white",
           "ticks": "",
           "title": {
            "standoff": 15
           },
           "zerolinecolor": "white",
           "zerolinewidth": 2
          },
          "yaxis": {
           "automargin": true,
           "gridcolor": "white",
           "linecolor": "white",
           "ticks": "",
           "title": {
            "standoff": 15
           },
           "zerolinecolor": "white",
           "zerolinewidth": 2
          }
         }
        },
        "title": {
         "text": "Squared Absorption coefficient in function of the energy for m4_CdSe_CdCl2",
         "x": 0.5
        },
        "xaxis": {
         "anchor": "y",
         "domain": [
          0,
          1
         ],
         "linecolor": "black",
         "mirror": true,
         "title": {
          "text": "Energy (eV)"
         }
        },
        "yaxis": {
         "anchor": "x",
         "domain": [
          0,
          1
         ],
         "linecolor": "black",
         "mirror": true,
         "title": {
          "text": "Alpha^2 (cm^-2)"
         }
        }
       }
      }
     },
     "metadata": {},
     "output_type": "display_data"
    },
    {
     "data": {
      "application/vnd.plotly.v1+json": {
       "config": {
        "plotlyServerURL": "https://plot.ly"
       },
       "data": [
        {
         "hovertemplate": "Sample=m6_CdSe_MgCl2<br>Energy (eV)=%{x}<br>Alpha^2 (cm^-2)=%{y}<extra></extra>",
         "legendgroup": "m6_CdSe_MgCl2",
         "line": {
          "color": "#636efa",
          "dash": "solid"
         },
         "marker": {
          "symbol": "circle"
         },
         "mode": "lines+markers",
         "name": "m6_CdSe_MgCl2",
         "orientation": "v",
         "showlegend": true,
         "type": "scatter",
         "x": [
          1.3777777777777778,
          1.3823857302118172,
          1.3870246085011186,
          1.3916947250280585,
          1.3963963963963963,
          1.4011299435028248,
          1.4058956916099774,
          1.410693970420933,
          1.4155251141552512,
          1.420389461626575,
          1.4252873563218391,
          1.4302191464821223,
          1.4351851851851851,
          1.4401858304297328,
          1.4452214452214451,
          1.4502923976608186,
          1.4553990610328638,
          1.4605418138987043,
          1.4657210401891252,
          1.4709371293001186,
          1.4761904761904763,
          1.4814814814814814,
          1.486810551558753,
          1.4921780986762936,
          1.497584541062802,
          1.503030303030303,
          1.508515815085158,
          1.514041514041514,
          1.5196078431372548,
          1.5252152521525215,
          1.5308641975308641,
          1.5365551425030979,
          1.5422885572139304,
          1.5480649188514357,
          1.5538847117794485,
          1.559748427672956,
          1.5656565656565657,
          1.5716096324461344,
          1.5776081424936388,
          1.5836526181353767,
          1.5897435897435896,
          1.595881595881596,
          1.6020671834625324,
          1.608300907911803,
          1.6145833333333333,
          1.6209150326797386,
          1.627296587926509,
          1.6337285902503293,
          1.6402116402116402,
          1.6467463479415672,
          1.6533333333333333,
          1.6599732262382865,
          1.6666666666666667,
          1.6734143049932524,
          1.6802168021680217,
          1.6870748299319729,
          1.6939890710382515,
          1.700960219478738,
          1.7079889807162534,
          1.7150760719225449,
          1.7222222222222223,
          1.7294281729428174,
          1.7366946778711485,
          1.7440225035161745,
          1.7514124293785311,
          1.7588652482269505,
          1.7663817663817665,
          1.7739628040057225,
          1.7816091954022988,
          1.7893217893217894,
          1.7971014492753623,
          1.8049490538573507,
          1.8128654970760234,
          1.8208516886930983,
          1.8289085545722714,
          1.837037037037037,
          1.8452380952380953,
          1.8535127055306428,
          1.8618618618618619,
          1.8702865761689291,
          1.878787878787879,
          1.887366818873668,
          1.8960244648318043,
          1.9047619047619047,
          1.9135802469135803,
          1.9224806201550388,
          1.9314641744548287,
          1.9405320813771518,
          1.949685534591195,
          1.9589257503949447,
          1.9682539682539681,
          1.977671451355662,
          1.9871794871794872,
          1.996779388083736,
          2.0064724919093853,
          2.016260162601626,
          2.026143790849673,
          2.0361247947454846,
          2.046204620462046,
          2.056384742951907,
          2.066666666666667,
          2.0770519262981573,
          2.0875420875420874,
          2.0981387478849407,
          2.108843537414966,
          2.1196581196581197,
          2.1305841924398625,
          2.1416234887737478,
          2.1527777777777777,
          2.1640488656195465,
          2.175438596491228,
          2.18694885361552,
          2.198581560283688,
          2.2103386809269163,
          2.2222222222222223,
          2.234234234234234,
          2.246376811594203,
          2.2586520947176685,
          2.271062271062271,
          2.283609576427256,
          2.2962962962962963,
          2.3091247672253257,
          2.3220973782771535,
          2.335216572504708,
          2.3484848484848486,
          2.361904761904762,
          2.375478927203065,
          2.3892100192678227,
          2.4031007751937983,
          2.4171539961013644,
          2.4313725490196076,
          2.445759368836292,
          2.4603174603174605,
          2.475049900199601,
          2.4899598393574296,
          2.505050505050505,
          2.5203252032520327,
          2.5357873210633946,
          2.551440329218107,
          2.567287784679089,
          2.5833333333333335,
          2.59958071278826,
          2.6160337552742616,
          2.632696390658174,
          2.6495726495726495,
          2.6666666666666665,
          2.683982683982684,
          2.701525054466231,
          2.719298245614035,
          2.7373068432671084,
          2.7555555555555555,
          2.7740492170022373,
          2.7927927927927927,
          2.811791383219955,
          2.8310502283105023,
          2.8505747126436782,
          2.8703703703703702,
          2.8904428904428903,
          2.9107981220657275,
          2.9314420803782504,
          2.9523809523809526,
          2.973621103117506,
          2.995169082125604,
          3.017031630170316,
          3.0392156862745097,
          3.0617283950617282,
          3.084577114427861
         ],
         "xaxis": "x",
         "y": [
          4868897923.651583,
          4887124022.869634,
          4870982266.234958,
          4849111588.347586,
          4873522015.498119,
          4860942341.5059805,
          4881577191.17145,
          4876357302.686188,
          4898342856.914773,
          4901594910.846661,
          4879140593.141226,
          4906463327.819127,
          4887204455.070197,
          4908508874.68203,
          4907459086.403541,
          4925145083.981959,
          4915054603.54914,
          4958440349.518195,
          4950537738.859367,
          4947960409.522561,
          4957434893.478226,
          4967851994.764228,
          4971283522.585615,
          4983011069.079473,
          5013816783.12436,
          5033378337.314394,
          5031559474.579532,
          5071301542.761163,
          5084837208.8404455,
          5109130901.390797,
          5148662899.472822,
          5182360961.274677,
          5210398290.444119,
          5256327601.864753,
          5287488218.057543,
          5326352221.293049,
          5384263911.861325,
          5412603477.284307,
          5452079055.489071,
          5485216306.269238,
          5545418736.563835,
          5578645930.027412,
          5640574745.370106,
          5665241979.450273,
          5706710913.0619955,
          5756680982.542155,
          5802242065.9397745,
          5901546885.080433,
          5952047473.445272,
          5981880566.702804,
          6041462358.870828,
          6073982036.581351,
          6143481083.450702,
          6195042544.358443,
          6256108136.149697,
          6373626003.472509,
          6492075279.981222,
          6683979983.386408,
          6960493574.998072,
          7450672266.149534,
          8194422602.200377,
          9277690740.08906,
          10799979105.509022,
          12387211734.023653,
          13857637036.432354,
          15317591801.668486,
          16562900209.101116,
          17715887304.924507,
          18639314646.041615,
          19375509490.87539,
          19911596918.689693,
          20243502722.842384,
          20465632492.583096,
          20643269676.588905,
          20848549380.36171,
          21025893381.694386,
          21234524532.37718,
          21430196861.770664,
          21648657121.177647,
          21855301567.146458,
          22100938057.119392,
          22374055652.984493,
          22646044108.23439,
          22882771029.322315,
          23148113963.2835,
          23462327690.75289,
          23818351375.794086,
          24127292222.974678,
          24471765126.84824,
          24809853546.792614,
          25153439390.065044,
          25516354141.356613,
          25896367092.451782,
          26320908651.55292,
          26733286223.021923,
          27125060705.680832,
          27603746747.217598,
          28033916041.86932,
          28519616410.58959,
          29036797656.2656,
          29598455268.71496,
          30170826236.847546,
          30843762743.867687,
          31593177546.58489,
          32520522728.749763,
          33535489848.073257,
          35165543275.11095,
          36451363342.45052,
          38153511221.79071,
          39828677082.83393,
          41534189321.69313,
          43283504929.64097,
          44773153399.34184,
          45933902713.05138,
          46775490398.55731,
          47532389046.07598,
          48302547770.368454,
          49017126757.14071,
          49704558450.66807,
          50429379496.902,
          51197086632.18727,
          51855963599.56721,
          52682835769.01745,
          53373963733.12102,
          54156162346.75642,
          55113158836.566315,
          56009445080.79938,
          56911758303.21267,
          57804768196.55036,
          58791693019.53824,
          59930844394.45866,
          60939772525.38743,
          62118613940.642006,
          63293190417.74831,
          64447058664.38053,
          65697780295.90548,
          67008899999.31377,
          68304553848.87222,
          69783433664.75427,
          71144295538.84872,
          72740683756.04489,
          74054470971.0917,
          75410712376.61943,
          76969887617.02972,
          78472624785.63226,
          79982739503.19423,
          81694245607.93213,
          83079206938.10196,
          84578810209.78694,
          86144365440.23235,
          87586727790.91422,
          90052412294.34952,
          91953131332.89807,
          93827126560.82278,
          95498153828.21849,
          97561823021.1726,
          99738143988.46797,
          101969723780.96748,
          104098167568.96716,
          106690831814.28291,
          109091107623.28307,
          111876920322.3373,
          114977230970.84888,
          117868842854.13235,
          120858572929.86557,
          124096012017.06923,
          128087898890.55664
         ],
         "yaxis": "y"
        }
       ],
       "layout": {
        "legend": {
         "title": {
          "text": "Sample"
         },
         "tracegroupgap": 0
        },
        "template": {
         "data": {
          "bar": [
           {
            "error_x": {
             "color": "#2a3f5f"
            },
            "error_y": {
             "color": "#2a3f5f"
            },
            "marker": {
             "line": {
              "color": "#E5ECF6",
              "width": 0.5
             },
             "pattern": {
              "fillmode": "overlay",
              "size": 10,
              "solidity": 0.2
             }
            },
            "type": "bar"
           }
          ],
          "barpolar": [
           {
            "marker": {
             "line": {
              "color": "#E5ECF6",
              "width": 0.5
             },
             "pattern": {
              "fillmode": "overlay",
              "size": 10,
              "solidity": 0.2
             }
            },
            "type": "barpolar"
           }
          ],
          "carpet": [
           {
            "aaxis": {
             "endlinecolor": "#2a3f5f",
             "gridcolor": "white",
             "linecolor": "white",
             "minorgridcolor": "white",
             "startlinecolor": "#2a3f5f"
            },
            "baxis": {
             "endlinecolor": "#2a3f5f",
             "gridcolor": "white",
             "linecolor": "white",
             "minorgridcolor": "white",
             "startlinecolor": "#2a3f5f"
            },
            "type": "carpet"
           }
          ],
          "choropleth": [
           {
            "colorbar": {
             "outlinewidth": 0,
             "ticks": ""
            },
            "type": "choropleth"
           }
          ],
          "contour": [
           {
            "colorbar": {
             "outlinewidth": 0,
             "ticks": ""
            },
            "colorscale": [
             [
              0,
              "#0d0887"
             ],
             [
              0.1111111111111111,
              "#46039f"
             ],
             [
              0.2222222222222222,
              "#7201a8"
             ],
             [
              0.3333333333333333,
              "#9c179e"
             ],
             [
              0.4444444444444444,
              "#bd3786"
             ],
             [
              0.5555555555555556,
              "#d8576b"
             ],
             [
              0.6666666666666666,
              "#ed7953"
             ],
             [
              0.7777777777777778,
              "#fb9f3a"
             ],
             [
              0.8888888888888888,
              "#fdca26"
             ],
             [
              1,
              "#f0f921"
             ]
            ],
            "type": "contour"
           }
          ],
          "contourcarpet": [
           {
            "colorbar": {
             "outlinewidth": 0,
             "ticks": ""
            },
            "type": "contourcarpet"
           }
          ],
          "heatmap": [
           {
            "colorbar": {
             "outlinewidth": 0,
             "ticks": ""
            },
            "colorscale": [
             [
              0,
              "#0d0887"
             ],
             [
              0.1111111111111111,
              "#46039f"
             ],
             [
              0.2222222222222222,
              "#7201a8"
             ],
             [
              0.3333333333333333,
              "#9c179e"
             ],
             [
              0.4444444444444444,
              "#bd3786"
             ],
             [
              0.5555555555555556,
              "#d8576b"
             ],
             [
              0.6666666666666666,
              "#ed7953"
             ],
             [
              0.7777777777777778,
              "#fb9f3a"
             ],
             [
              0.8888888888888888,
              "#fdca26"
             ],
             [
              1,
              "#f0f921"
             ]
            ],
            "type": "heatmap"
           }
          ],
          "heatmapgl": [
           {
            "colorbar": {
             "outlinewidth": 0,
             "ticks": ""
            },
            "colorscale": [
             [
              0,
              "#0d0887"
             ],
             [
              0.1111111111111111,
              "#46039f"
             ],
             [
              0.2222222222222222,
              "#7201a8"
             ],
             [
              0.3333333333333333,
              "#9c179e"
             ],
             [
              0.4444444444444444,
              "#bd3786"
             ],
             [
              0.5555555555555556,
              "#d8576b"
             ],
             [
              0.6666666666666666,
              "#ed7953"
             ],
             [
              0.7777777777777778,
              "#fb9f3a"
             ],
             [
              0.8888888888888888,
              "#fdca26"
             ],
             [
              1,
              "#f0f921"
             ]
            ],
            "type": "heatmapgl"
           }
          ],
          "histogram": [
           {
            "marker": {
             "pattern": {
              "fillmode": "overlay",
              "size": 10,
              "solidity": 0.2
             }
            },
            "type": "histogram"
           }
          ],
          "histogram2d": [
           {
            "colorbar": {
             "outlinewidth": 0,
             "ticks": ""
            },
            "colorscale": [
             [
              0,
              "#0d0887"
             ],
             [
              0.1111111111111111,
              "#46039f"
             ],
             [
              0.2222222222222222,
              "#7201a8"
             ],
             [
              0.3333333333333333,
              "#9c179e"
             ],
             [
              0.4444444444444444,
              "#bd3786"
             ],
             [
              0.5555555555555556,
              "#d8576b"
             ],
             [
              0.6666666666666666,
              "#ed7953"
             ],
             [
              0.7777777777777778,
              "#fb9f3a"
             ],
             [
              0.8888888888888888,
              "#fdca26"
             ],
             [
              1,
              "#f0f921"
             ]
            ],
            "type": "histogram2d"
           }
          ],
          "histogram2dcontour": [
           {
            "colorbar": {
             "outlinewidth": 0,
             "ticks": ""
            },
            "colorscale": [
             [
              0,
              "#0d0887"
             ],
             [
              0.1111111111111111,
              "#46039f"
             ],
             [
              0.2222222222222222,
              "#7201a8"
             ],
             [
              0.3333333333333333,
              "#9c179e"
             ],
             [
              0.4444444444444444,
              "#bd3786"
             ],
             [
              0.5555555555555556,
              "#d8576b"
             ],
             [
              0.6666666666666666,
              "#ed7953"
             ],
             [
              0.7777777777777778,
              "#fb9f3a"
             ],
             [
              0.8888888888888888,
              "#fdca26"
             ],
             [
              1,
              "#f0f921"
             ]
            ],
            "type": "histogram2dcontour"
           }
          ],
          "mesh3d": [
           {
            "colorbar": {
             "outlinewidth": 0,
             "ticks": ""
            },
            "type": "mesh3d"
           }
          ],
          "parcoords": [
           {
            "line": {
             "colorbar": {
              "outlinewidth": 0,
              "ticks": ""
             }
            },
            "type": "parcoords"
           }
          ],
          "pie": [
           {
            "automargin": true,
            "type": "pie"
           }
          ],
          "scatter": [
           {
            "fillpattern": {
             "fillmode": "overlay",
             "size": 10,
             "solidity": 0.2
            },
            "type": "scatter"
           }
          ],
          "scatter3d": [
           {
            "line": {
             "colorbar": {
              "outlinewidth": 0,
              "ticks": ""
             }
            },
            "marker": {
             "colorbar": {
              "outlinewidth": 0,
              "ticks": ""
             }
            },
            "type": "scatter3d"
           }
          ],
          "scattercarpet": [
           {
            "marker": {
             "colorbar": {
              "outlinewidth": 0,
              "ticks": ""
             }
            },
            "type": "scattercarpet"
           }
          ],
          "scattergeo": [
           {
            "marker": {
             "colorbar": {
              "outlinewidth": 0,
              "ticks": ""
             }
            },
            "type": "scattergeo"
           }
          ],
          "scattergl": [
           {
            "marker": {
             "colorbar": {
              "outlinewidth": 0,
              "ticks": ""
             }
            },
            "type": "scattergl"
           }
          ],
          "scattermapbox": [
           {
            "marker": {
             "colorbar": {
              "outlinewidth": 0,
              "ticks": ""
             }
            },
            "type": "scattermapbox"
           }
          ],
          "scatterpolar": [
           {
            "marker": {
             "colorbar": {
              "outlinewidth": 0,
              "ticks": ""
             }
            },
            "type": "scatterpolar"
           }
          ],
          "scatterpolargl": [
           {
            "marker": {
             "colorbar": {
              "outlinewidth": 0,
              "ticks": ""
             }
            },
            "type": "scatterpolargl"
           }
          ],
          "scatterternary": [
           {
            "marker": {
             "colorbar": {
              "outlinewidth": 0,
              "ticks": ""
             }
            },
            "type": "scatterternary"
           }
          ],
          "surface": [
           {
            "colorbar": {
             "outlinewidth": 0,
             "ticks": ""
            },
            "colorscale": [
             [
              0,
              "#0d0887"
             ],
             [
              0.1111111111111111,
              "#46039f"
             ],
             [
              0.2222222222222222,
              "#7201a8"
             ],
             [
              0.3333333333333333,
              "#9c179e"
             ],
             [
              0.4444444444444444,
              "#bd3786"
             ],
             [
              0.5555555555555556,
              "#d8576b"
             ],
             [
              0.6666666666666666,
              "#ed7953"
             ],
             [
              0.7777777777777778,
              "#fb9f3a"
             ],
             [
              0.8888888888888888,
              "#fdca26"
             ],
             [
              1,
              "#f0f921"
             ]
            ],
            "type": "surface"
           }
          ],
          "table": [
           {
            "cells": {
             "fill": {
              "color": "#EBF0F8"
             },
             "line": {
              "color": "white"
             }
            },
            "header": {
             "fill": {
              "color": "#C8D4E3"
             },
             "line": {
              "color": "white"
             }
            },
            "type": "table"
           }
          ]
         },
         "layout": {
          "annotationdefaults": {
           "arrowcolor": "#2a3f5f",
           "arrowhead": 0,
           "arrowwidth": 1
          },
          "autotypenumbers": "strict",
          "coloraxis": {
           "colorbar": {
            "outlinewidth": 0,
            "ticks": ""
           }
          },
          "colorscale": {
           "diverging": [
            [
             0,
             "#8e0152"
            ],
            [
             0.1,
             "#c51b7d"
            ],
            [
             0.2,
             "#de77ae"
            ],
            [
             0.3,
             "#f1b6da"
            ],
            [
             0.4,
             "#fde0ef"
            ],
            [
             0.5,
             "#f7f7f7"
            ],
            [
             0.6,
             "#e6f5d0"
            ],
            [
             0.7,
             "#b8e186"
            ],
            [
             0.8,
             "#7fbc41"
            ],
            [
             0.9,
             "#4d9221"
            ],
            [
             1,
             "#276419"
            ]
           ],
           "sequential": [
            [
             0,
             "#0d0887"
            ],
            [
             0.1111111111111111,
             "#46039f"
            ],
            [
             0.2222222222222222,
             "#7201a8"
            ],
            [
             0.3333333333333333,
             "#9c179e"
            ],
            [
             0.4444444444444444,
             "#bd3786"
            ],
            [
             0.5555555555555556,
             "#d8576b"
            ],
            [
             0.6666666666666666,
             "#ed7953"
            ],
            [
             0.7777777777777778,
             "#fb9f3a"
            ],
            [
             0.8888888888888888,
             "#fdca26"
            ],
            [
             1,
             "#f0f921"
            ]
           ],
           "sequentialminus": [
            [
             0,
             "#0d0887"
            ],
            [
             0.1111111111111111,
             "#46039f"
            ],
            [
             0.2222222222222222,
             "#7201a8"
            ],
            [
             0.3333333333333333,
             "#9c179e"
            ],
            [
             0.4444444444444444,
             "#bd3786"
            ],
            [
             0.5555555555555556,
             "#d8576b"
            ],
            [
             0.6666666666666666,
             "#ed7953"
            ],
            [
             0.7777777777777778,
             "#fb9f3a"
            ],
            [
             0.8888888888888888,
             "#fdca26"
            ],
            [
             1,
             "#f0f921"
            ]
           ]
          },
          "colorway": [
           "#636efa",
           "#EF553B",
           "#00cc96",
           "#ab63fa",
           "#FFA15A",
           "#19d3f3",
           "#FF6692",
           "#B6E880",
           "#FF97FF",
           "#FECB52"
          ],
          "font": {
           "color": "#2a3f5f"
          },
          "geo": {
           "bgcolor": "white",
           "lakecolor": "white",
           "landcolor": "#E5ECF6",
           "showlakes": true,
           "showland": true,
           "subunitcolor": "white"
          },
          "hoverlabel": {
           "align": "left"
          },
          "hovermode": "closest",
          "mapbox": {
           "style": "light"
          },
          "paper_bgcolor": "white",
          "plot_bgcolor": "#E5ECF6",
          "polar": {
           "angularaxis": {
            "gridcolor": "white",
            "linecolor": "white",
            "ticks": ""
           },
           "bgcolor": "#E5ECF6",
           "radialaxis": {
            "gridcolor": "white",
            "linecolor": "white",
            "ticks": ""
           }
          },
          "scene": {
           "xaxis": {
            "backgroundcolor": "#E5ECF6",
            "gridcolor": "white",
            "gridwidth": 2,
            "linecolor": "white",
            "showbackground": true,
            "ticks": "",
            "zerolinecolor": "white"
           },
           "yaxis": {
            "backgroundcolor": "#E5ECF6",
            "gridcolor": "white",
            "gridwidth": 2,
            "linecolor": "white",
            "showbackground": true,
            "ticks": "",
            "zerolinecolor": "white"
           },
           "zaxis": {
            "backgroundcolor": "#E5ECF6",
            "gridcolor": "white",
            "gridwidth": 2,
            "linecolor": "white",
            "showbackground": true,
            "ticks": "",
            "zerolinecolor": "white"
           }
          },
          "shapedefaults": {
           "line": {
            "color": "#2a3f5f"
           }
          },
          "ternary": {
           "aaxis": {
            "gridcolor": "white",
            "linecolor": "white",
            "ticks": ""
           },
           "baxis": {
            "gridcolor": "white",
            "linecolor": "white",
            "ticks": ""
           },
           "bgcolor": "#E5ECF6",
           "caxis": {
            "gridcolor": "white",
            "linecolor": "white",
            "ticks": ""
           }
          },
          "title": {
           "x": 0.05
          },
          "xaxis": {
           "automargin": true,
           "gridcolor": "white",
           "linecolor": "white",
           "ticks": "",
           "title": {
            "standoff": 15
           },
           "zerolinecolor": "white",
           "zerolinewidth": 2
          },
          "yaxis": {
           "automargin": true,
           "gridcolor": "white",
           "linecolor": "white",
           "ticks": "",
           "title": {
            "standoff": 15
           },
           "zerolinecolor": "white",
           "zerolinewidth": 2
          }
         }
        },
        "title": {
         "text": "Squared Absorption coefficient in function of the energy for m6_CdSe_MgCl2",
         "x": 0.5
        },
        "xaxis": {
         "anchor": "y",
         "domain": [
          0,
          1
         ],
         "linecolor": "black",
         "mirror": true,
         "title": {
          "text": "Energy (eV)"
         }
        },
        "yaxis": {
         "anchor": "x",
         "domain": [
          0,
          1
         ],
         "linecolor": "black",
         "mirror": true,
         "title": {
          "text": "Alpha^2 (cm^-2)"
         }
        }
       }
      }
     },
     "metadata": {},
     "output_type": "display_data"
    },
    {
     "data": {
      "application/vnd.plotly.v1+json": {
       "config": {
        "plotlyServerURL": "https://plot.ly"
       },
       "data": [
        {
         "hovertemplate": "Sample=m5_CdSe_MgCl2_muffle<br>Energy (eV)=%{x}<br>Alpha^2 (cm^-2)=%{y}<extra></extra>",
         "legendgroup": "m5_CdSe_MgCl2_muffle",
         "line": {
          "color": "#636efa",
          "dash": "solid"
         },
         "marker": {
          "symbol": "circle"
         },
         "mode": "lines+markers",
         "name": "m5_CdSe_MgCl2_muffle",
         "orientation": "v",
         "showlegend": true,
         "type": "scatter",
         "x": [
          1.3777777777777778,
          1.3823857302118172,
          1.3870246085011186,
          1.3916947250280585,
          1.3963963963963963,
          1.4011299435028248,
          1.4058956916099774,
          1.410693970420933,
          1.4155251141552512,
          1.420389461626575,
          1.4252873563218391,
          1.4302191464821223,
          1.4351851851851851,
          1.4401858304297328,
          1.4452214452214451,
          1.4502923976608186,
          1.4553990610328638,
          1.4605418138987043,
          1.4657210401891252,
          1.4709371293001186,
          1.4761904761904763,
          1.4814814814814814,
          1.486810551558753,
          1.4921780986762936,
          1.497584541062802,
          1.503030303030303,
          1.508515815085158,
          1.514041514041514,
          1.5196078431372548,
          1.5252152521525215,
          1.5308641975308641,
          1.5365551425030979,
          1.5422885572139304,
          1.5480649188514357,
          1.5538847117794485,
          1.559748427672956,
          1.5656565656565657,
          1.5716096324461344,
          1.5776081424936388,
          1.5836526181353767,
          1.5897435897435896,
          1.595881595881596,
          1.6020671834625324,
          1.608300907911803,
          1.6145833333333333,
          1.6209150326797386,
          1.627296587926509,
          1.6337285902503293,
          1.6402116402116402,
          1.6467463479415672,
          1.6533333333333333,
          1.6599732262382865,
          1.6666666666666667,
          1.6734143049932524,
          1.6802168021680217,
          1.6870748299319729,
          1.6939890710382515,
          1.700960219478738,
          1.7079889807162534,
          1.7150760719225449,
          1.7222222222222223,
          1.7294281729428174,
          1.7366946778711485,
          1.7440225035161745,
          1.7514124293785311,
          1.7588652482269505,
          1.7663817663817665,
          1.7739628040057225,
          1.7816091954022988,
          1.7893217893217894,
          1.7971014492753623,
          1.8049490538573507,
          1.8128654970760234,
          1.8208516886930983,
          1.8289085545722714,
          1.837037037037037,
          1.8452380952380953,
          1.8535127055306428,
          1.8618618618618619,
          1.8702865761689291,
          1.878787878787879,
          1.887366818873668,
          1.8960244648318043,
          1.9047619047619047,
          1.9135802469135803,
          1.9224806201550388,
          1.9314641744548287,
          1.9405320813771518,
          1.949685534591195,
          1.9589257503949447,
          1.9682539682539681,
          1.977671451355662,
          1.9871794871794872,
          1.996779388083736,
          2.0064724919093853,
          2.016260162601626,
          2.026143790849673,
          2.0361247947454846,
          2.046204620462046,
          2.056384742951907,
          2.066666666666667,
          2.0770519262981573,
          2.0875420875420874,
          2.0981387478849407,
          2.108843537414966,
          2.1196581196581197,
          2.1305841924398625,
          2.1416234887737478,
          2.1527777777777777,
          2.1640488656195465,
          2.175438596491228,
          2.18694885361552,
          2.198581560283688,
          2.2103386809269163,
          2.2222222222222223,
          2.234234234234234,
          2.246376811594203,
          2.2586520947176685,
          2.271062271062271,
          2.283609576427256,
          2.2962962962962963,
          2.3091247672253257,
          2.3220973782771535,
          2.335216572504708,
          2.3484848484848486,
          2.361904761904762,
          2.375478927203065,
          2.3892100192678227,
          2.4031007751937983,
          2.4171539961013644,
          2.4313725490196076,
          2.445759368836292,
          2.4603174603174605,
          2.475049900199601,
          2.4899598393574296,
          2.505050505050505,
          2.5203252032520327,
          2.5357873210633946,
          2.551440329218107,
          2.567287784679089,
          2.5833333333333335,
          2.59958071278826,
          2.6160337552742616,
          2.632696390658174,
          2.6495726495726495,
          2.6666666666666665,
          2.683982683982684,
          2.701525054466231,
          2.719298245614035,
          2.7373068432671084,
          2.7555555555555555,
          2.7740492170022373,
          2.7927927927927927,
          2.811791383219955,
          2.8310502283105023,
          2.8505747126436782,
          2.8703703703703702,
          2.8904428904428903,
          2.9107981220657275,
          2.9314420803782504,
          2.9523809523809526,
          2.973621103117506,
          2.995169082125604,
          3.017031630170316,
          3.0392156862745097,
          3.0617283950617282,
          3.084577114427861
         ],
         "xaxis": "x",
         "y": [
          55123216.21359287,
          55802843.46952436,
          55884289.781680256,
          56137308.17585076,
          56537661.60604202,
          56838942.81220179,
          57555514.52173072,
          57420827.01541649,
          57181935.834539376,
          57513088.70552598,
          57115288.886705905,
          57831407.50525418,
          57515999.570409045,
          57006950.31055493,
          57344852.59265724,
          57424980.683278956,
          57148398.48288369,
          57488974.13919612,
          56808846.00049292,
          55884289.781680256,
          56018043.84691145,
          56152024.43913137,
          55778019.0727206,
          56123411.99140628,
          56250202.71131231,
          56350141.90933133,
          56362028.2890835,
          56903297.21120307,
          56890504.722218476,
          56831932.95523418,
          57695010.768766984,
          57972633.46649633,
          58602340.24628352,
          59221196.39472242,
          59465696.12062348,
          60161861.76304361,
          61862060.22066616,
          61919904.913466476,
          62840087.00124734,
          62937610.86956366,
          63623782.99755614,
          63800980.80565383,
          64834500.00926468,
          64631265.36632363,
          64896603.46270472,
          65231887.4716427,
          65388599.6421131,
          66377932.553855255,
          66116487.3885616,
          65317043.13075215,
          65054094.68845061,
          64656587.917470865,
          64499794.03793659,
          64457818.250871375,
          64560761.80954462,
          66064104.48685529,
          69325157.35224663,
          75590136.28665093,
          87025685.98794167,
          110519900.88041635,
          149601656.71763194,
          215181384.34653404,
          310660420.5278624,
          414581961.7668342,
          514270087.80609226,
          615316457.0267775,
          705610436.3068323,
          793163606.4250466,
          863017678.9128436,
          917294730.714764,
          958002121.2897198,
          984786405.4795848,
          1003750954.0453495,
          1019681978.3092985,
          1034525547.9561658,
          1050435119.9935164,
          1066429684.115426,
          1080794959.9918094,
          1099540812.490577,
          1116275787.7591548,
          1134495854.356766,
          1156762240.8660269,
          1176294608.862553,
          1195153027.9549286,
          1214082352.8746617,
          1238116792.5061643,
          1262511018.5809276,
          1285721398.776992,
          1310774933.4073498,
          1336902803.6883304,
          1361605194.5692394,
          1388180560.403112,
          1419175598.3364718,
          1448159984.570097,
          1479004349.589283,
          1510576748.901751,
          1546145201.7981942,
          1578057766.1688123,
          1615773616.8273523,
          1652639418.0824802,
          1695550478.190827,
          1739913500.1312711,
          1789382413.9632065,
          1845222152.8153534,
          1917754112.4023461,
          1992786163.397457,
          2143807982.1139293,
          2253976654.1282573,
          2401011108.023478,
          2547756486.7525496,
          2703855185.5944066,
          2869564676.584312,
          3008441306.073841,
          3117019596.1663485,
          3197283480.6029754,
          3274247042.789457,
          3348261924.2904696,
          3420177844.3864284,
          3488979952.8577046,
          3562121543.287303,
          3644007199.0718145,
          3718344942.6892734,
          3801830949.7070866,
          3872044733.816769,
          3954228742.5308137,
          4044837006.237187,
          4127826022.981149,
          4226854324.7145877,
          4310598579.65583,
          4407192080.05336,
          4517429492.912434,
          4615747787.778941,
          4729054679.193105,
          4836593746.166054,
          4941191213.330343,
          5055918165.274726,
          5179318895.568283,
          5306472239.976803,
          5437649513.067319,
          5555831243.645462,
          5712445616.123987,
          5832378980.805594,
          5975463556.4074135,
          6121030934.377562,
          6255348764.3075695,
          6408279935.864927,
          6585120149.127599,
          6707943239.56867,
          6868258398.043722,
          7017460450.729348,
          7165737944.819324,
          7466905022.8773985,
          7687510277.095262,
          7895134231.780569,
          8052632459.393114,
          8270865580.342973,
          8505819239.023405,
          8756990541.057919,
          8964034188.321535,
          9246192091.782827,
          9487588657.255508,
          9779009492.701221,
          10083375773.210213,
          10365024646.593273,
          10598920069.292767,
          10919874145.183443,
          11201731530.653595
         ],
         "yaxis": "y"
        }
       ],
       "layout": {
        "legend": {
         "title": {
          "text": "Sample"
         },
         "tracegroupgap": 0
        },
        "template": {
         "data": {
          "bar": [
           {
            "error_x": {
             "color": "#2a3f5f"
            },
            "error_y": {
             "color": "#2a3f5f"
            },
            "marker": {
             "line": {
              "color": "#E5ECF6",
              "width": 0.5
             },
             "pattern": {
              "fillmode": "overlay",
              "size": 10,
              "solidity": 0.2
             }
            },
            "type": "bar"
           }
          ],
          "barpolar": [
           {
            "marker": {
             "line": {
              "color": "#E5ECF6",
              "width": 0.5
             },
             "pattern": {
              "fillmode": "overlay",
              "size": 10,
              "solidity": 0.2
             }
            },
            "type": "barpolar"
           }
          ],
          "carpet": [
           {
            "aaxis": {
             "endlinecolor": "#2a3f5f",
             "gridcolor": "white",
             "linecolor": "white",
             "minorgridcolor": "white",
             "startlinecolor": "#2a3f5f"
            },
            "baxis": {
             "endlinecolor": "#2a3f5f",
             "gridcolor": "white",
             "linecolor": "white",
             "minorgridcolor": "white",
             "startlinecolor": "#2a3f5f"
            },
            "type": "carpet"
           }
          ],
          "choropleth": [
           {
            "colorbar": {
             "outlinewidth": 0,
             "ticks": ""
            },
            "type": "choropleth"
           }
          ],
          "contour": [
           {
            "colorbar": {
             "outlinewidth": 0,
             "ticks": ""
            },
            "colorscale": [
             [
              0,
              "#0d0887"
             ],
             [
              0.1111111111111111,
              "#46039f"
             ],
             [
              0.2222222222222222,
              "#7201a8"
             ],
             [
              0.3333333333333333,
              "#9c179e"
             ],
             [
              0.4444444444444444,
              "#bd3786"
             ],
             [
              0.5555555555555556,
              "#d8576b"
             ],
             [
              0.6666666666666666,
              "#ed7953"
             ],
             [
              0.7777777777777778,
              "#fb9f3a"
             ],
             [
              0.8888888888888888,
              "#fdca26"
             ],
             [
              1,
              "#f0f921"
             ]
            ],
            "type": "contour"
           }
          ],
          "contourcarpet": [
           {
            "colorbar": {
             "outlinewidth": 0,
             "ticks": ""
            },
            "type": "contourcarpet"
           }
          ],
          "heatmap": [
           {
            "colorbar": {
             "outlinewidth": 0,
             "ticks": ""
            },
            "colorscale": [
             [
              0,
              "#0d0887"
             ],
             [
              0.1111111111111111,
              "#46039f"
             ],
             [
              0.2222222222222222,
              "#7201a8"
             ],
             [
              0.3333333333333333,
              "#9c179e"
             ],
             [
              0.4444444444444444,
              "#bd3786"
             ],
             [
              0.5555555555555556,
              "#d8576b"
             ],
             [
              0.6666666666666666,
              "#ed7953"
             ],
             [
              0.7777777777777778,
              "#fb9f3a"
             ],
             [
              0.8888888888888888,
              "#fdca26"
             ],
             [
              1,
              "#f0f921"
             ]
            ],
            "type": "heatmap"
           }
          ],
          "heatmapgl": [
           {
            "colorbar": {
             "outlinewidth": 0,
             "ticks": ""
            },
            "colorscale": [
             [
              0,
              "#0d0887"
             ],
             [
              0.1111111111111111,
              "#46039f"
             ],
             [
              0.2222222222222222,
              "#7201a8"
             ],
             [
              0.3333333333333333,
              "#9c179e"
             ],
             [
              0.4444444444444444,
              "#bd3786"
             ],
             [
              0.5555555555555556,
              "#d8576b"
             ],
             [
              0.6666666666666666,
              "#ed7953"
             ],
             [
              0.7777777777777778,
              "#fb9f3a"
             ],
             [
              0.8888888888888888,
              "#fdca26"
             ],
             [
              1,
              "#f0f921"
             ]
            ],
            "type": "heatmapgl"
           }
          ],
          "histogram": [
           {
            "marker": {
             "pattern": {
              "fillmode": "overlay",
              "size": 10,
              "solidity": 0.2
             }
            },
            "type": "histogram"
           }
          ],
          "histogram2d": [
           {
            "colorbar": {
             "outlinewidth": 0,
             "ticks": ""
            },
            "colorscale": [
             [
              0,
              "#0d0887"
             ],
             [
              0.1111111111111111,
              "#46039f"
             ],
             [
              0.2222222222222222,
              "#7201a8"
             ],
             [
              0.3333333333333333,
              "#9c179e"
             ],
             [
              0.4444444444444444,
              "#bd3786"
             ],
             [
              0.5555555555555556,
              "#d8576b"
             ],
             [
              0.6666666666666666,
              "#ed7953"
             ],
             [
              0.7777777777777778,
              "#fb9f3a"
             ],
             [
              0.8888888888888888,
              "#fdca26"
             ],
             [
              1,
              "#f0f921"
             ]
            ],
            "type": "histogram2d"
           }
          ],
          "histogram2dcontour": [
           {
            "colorbar": {
             "outlinewidth": 0,
             "ticks": ""
            },
            "colorscale": [
             [
              0,
              "#0d0887"
             ],
             [
              0.1111111111111111,
              "#46039f"
             ],
             [
              0.2222222222222222,
              "#7201a8"
             ],
             [
              0.3333333333333333,
              "#9c179e"
             ],
             [
              0.4444444444444444,
              "#bd3786"
             ],
             [
              0.5555555555555556,
              "#d8576b"
             ],
             [
              0.6666666666666666,
              "#ed7953"
             ],
             [
              0.7777777777777778,
              "#fb9f3a"
             ],
             [
              0.8888888888888888,
              "#fdca26"
             ],
             [
              1,
              "#f0f921"
             ]
            ],
            "type": "histogram2dcontour"
           }
          ],
          "mesh3d": [
           {
            "colorbar": {
             "outlinewidth": 0,
             "ticks": ""
            },
            "type": "mesh3d"
           }
          ],
          "parcoords": [
           {
            "line": {
             "colorbar": {
              "outlinewidth": 0,
              "ticks": ""
             }
            },
            "type": "parcoords"
           }
          ],
          "pie": [
           {
            "automargin": true,
            "type": "pie"
           }
          ],
          "scatter": [
           {
            "fillpattern": {
             "fillmode": "overlay",
             "size": 10,
             "solidity": 0.2
            },
            "type": "scatter"
           }
          ],
          "scatter3d": [
           {
            "line": {
             "colorbar": {
              "outlinewidth": 0,
              "ticks": ""
             }
            },
            "marker": {
             "colorbar": {
              "outlinewidth": 0,
              "ticks": ""
             }
            },
            "type": "scatter3d"
           }
          ],
          "scattercarpet": [
           {
            "marker": {
             "colorbar": {
              "outlinewidth": 0,
              "ticks": ""
             }
            },
            "type": "scattercarpet"
           }
          ],
          "scattergeo": [
           {
            "marker": {
             "colorbar": {
              "outlinewidth": 0,
              "ticks": ""
             }
            },
            "type": "scattergeo"
           }
          ],
          "scattergl": [
           {
            "marker": {
             "colorbar": {
              "outlinewidth": 0,
              "ticks": ""
             }
            },
            "type": "scattergl"
           }
          ],
          "scattermapbox": [
           {
            "marker": {
             "colorbar": {
              "outlinewidth": 0,
              "ticks": ""
             }
            },
            "type": "scattermapbox"
           }
          ],
          "scatterpolar": [
           {
            "marker": {
             "colorbar": {
              "outlinewidth": 0,
              "ticks": ""
             }
            },
            "type": "scatterpolar"
           }
          ],
          "scatterpolargl": [
           {
            "marker": {
             "colorbar": {
              "outlinewidth": 0,
              "ticks": ""
             }
            },
            "type": "scatterpolargl"
           }
          ],
          "scatterternary": [
           {
            "marker": {
             "colorbar": {
              "outlinewidth": 0,
              "ticks": ""
             }
            },
            "type": "scatterternary"
           }
          ],
          "surface": [
           {
            "colorbar": {
             "outlinewidth": 0,
             "ticks": ""
            },
            "colorscale": [
             [
              0,
              "#0d0887"
             ],
             [
              0.1111111111111111,
              "#46039f"
             ],
             [
              0.2222222222222222,
              "#7201a8"
             ],
             [
              0.3333333333333333,
              "#9c179e"
             ],
             [
              0.4444444444444444,
              "#bd3786"
             ],
             [
              0.5555555555555556,
              "#d8576b"
             ],
             [
              0.6666666666666666,
              "#ed7953"
             ],
             [
              0.7777777777777778,
              "#fb9f3a"
             ],
             [
              0.8888888888888888,
              "#fdca26"
             ],
             [
              1,
              "#f0f921"
             ]
            ],
            "type": "surface"
           }
          ],
          "table": [
           {
            "cells": {
             "fill": {
              "color": "#EBF0F8"
             },
             "line": {
              "color": "white"
             }
            },
            "header": {
             "fill": {
              "color": "#C8D4E3"
             },
             "line": {
              "color": "white"
             }
            },
            "type": "table"
           }
          ]
         },
         "layout": {
          "annotationdefaults": {
           "arrowcolor": "#2a3f5f",
           "arrowhead": 0,
           "arrowwidth": 1
          },
          "autotypenumbers": "strict",
          "coloraxis": {
           "colorbar": {
            "outlinewidth": 0,
            "ticks": ""
           }
          },
          "colorscale": {
           "diverging": [
            [
             0,
             "#8e0152"
            ],
            [
             0.1,
             "#c51b7d"
            ],
            [
             0.2,
             "#de77ae"
            ],
            [
             0.3,
             "#f1b6da"
            ],
            [
             0.4,
             "#fde0ef"
            ],
            [
             0.5,
             "#f7f7f7"
            ],
            [
             0.6,
             "#e6f5d0"
            ],
            [
             0.7,
             "#b8e186"
            ],
            [
             0.8,
             "#7fbc41"
            ],
            [
             0.9,
             "#4d9221"
            ],
            [
             1,
             "#276419"
            ]
           ],
           "sequential": [
            [
             0,
             "#0d0887"
            ],
            [
             0.1111111111111111,
             "#46039f"
            ],
            [
             0.2222222222222222,
             "#7201a8"
            ],
            [
             0.3333333333333333,
             "#9c179e"
            ],
            [
             0.4444444444444444,
             "#bd3786"
            ],
            [
             0.5555555555555556,
             "#d8576b"
            ],
            [
             0.6666666666666666,
             "#ed7953"
            ],
            [
             0.7777777777777778,
             "#fb9f3a"
            ],
            [
             0.8888888888888888,
             "#fdca26"
            ],
            [
             1,
             "#f0f921"
            ]
           ],
           "sequentialminus": [
            [
             0,
             "#0d0887"
            ],
            [
             0.1111111111111111,
             "#46039f"
            ],
            [
             0.2222222222222222,
             "#7201a8"
            ],
            [
             0.3333333333333333,
             "#9c179e"
            ],
            [
             0.4444444444444444,
             "#bd3786"
            ],
            [
             0.5555555555555556,
             "#d8576b"
            ],
            [
             0.6666666666666666,
             "#ed7953"
            ],
            [
             0.7777777777777778,
             "#fb9f3a"
            ],
            [
             0.8888888888888888,
             "#fdca26"
            ],
            [
             1,
             "#f0f921"
            ]
           ]
          },
          "colorway": [
           "#636efa",
           "#EF553B",
           "#00cc96",
           "#ab63fa",
           "#FFA15A",
           "#19d3f3",
           "#FF6692",
           "#B6E880",
           "#FF97FF",
           "#FECB52"
          ],
          "font": {
           "color": "#2a3f5f"
          },
          "geo": {
           "bgcolor": "white",
           "lakecolor": "white",
           "landcolor": "#E5ECF6",
           "showlakes": true,
           "showland": true,
           "subunitcolor": "white"
          },
          "hoverlabel": {
           "align": "left"
          },
          "hovermode": "closest",
          "mapbox": {
           "style": "light"
          },
          "paper_bgcolor": "white",
          "plot_bgcolor": "#E5ECF6",
          "polar": {
           "angularaxis": {
            "gridcolor": "white",
            "linecolor": "white",
            "ticks": ""
           },
           "bgcolor": "#E5ECF6",
           "radialaxis": {
            "gridcolor": "white",
            "linecolor": "white",
            "ticks": ""
           }
          },
          "scene": {
           "xaxis": {
            "backgroundcolor": "#E5ECF6",
            "gridcolor": "white",
            "gridwidth": 2,
            "linecolor": "white",
            "showbackground": true,
            "ticks": "",
            "zerolinecolor": "white"
           },
           "yaxis": {
            "backgroundcolor": "#E5ECF6",
            "gridcolor": "white",
            "gridwidth": 2,
            "linecolor": "white",
            "showbackground": true,
            "ticks": "",
            "zerolinecolor": "white"
           },
           "zaxis": {
            "backgroundcolor": "#E5ECF6",
            "gridcolor": "white",
            "gridwidth": 2,
            "linecolor": "white",
            "showbackground": true,
            "ticks": "",
            "zerolinecolor": "white"
           }
          },
          "shapedefaults": {
           "line": {
            "color": "#2a3f5f"
           }
          },
          "ternary": {
           "aaxis": {
            "gridcolor": "white",
            "linecolor": "white",
            "ticks": ""
           },
           "baxis": {
            "gridcolor": "white",
            "linecolor": "white",
            "ticks": ""
           },
           "bgcolor": "#E5ECF6",
           "caxis": {
            "gridcolor": "white",
            "linecolor": "white",
            "ticks": ""
           }
          },
          "title": {
           "x": 0.05
          },
          "xaxis": {
           "automargin": true,
           "gridcolor": "white",
           "linecolor": "white",
           "ticks": "",
           "title": {
            "standoff": 15
           },
           "zerolinecolor": "white",
           "zerolinewidth": 2
          },
          "yaxis": {
           "automargin": true,
           "gridcolor": "white",
           "linecolor": "white",
           "ticks": "",
           "title": {
            "standoff": 15
           },
           "zerolinecolor": "white",
           "zerolinewidth": 2
          }
         }
        },
        "title": {
         "text": "Squared Absorption coefficient in function of the energy for m5_CdSe_MgCl2_muffle",
         "x": 0.5
        },
        "xaxis": {
         "anchor": "y",
         "domain": [
          0,
          1
         ],
         "linecolor": "black",
         "mirror": true,
         "title": {
          "text": "Energy (eV)"
         }
        },
        "yaxis": {
         "anchor": "x",
         "domain": [
          0,
          1
         ],
         "linecolor": "black",
         "mirror": true,
         "title": {
          "text": "Alpha^2 (cm^-2)"
         }
        }
       }
      }
     },
     "metadata": {},
     "output_type": "display_data"
    }
   ],
   "source": [
    "for x, y in energy_abs.items():\n",
    "    working_with = y[\"Sample\"].loc[y.index[0]]\n",
    "    linb_fig = px.line(\n",
    "        energy_abs[x],\n",
    "        x=y[\"Energy (eV)\"],\n",
    "        y=y[\"Alpha^2 (cm^-2)\"],\n",
    "        markers=True,\n",
    "        color=y[\"Sample\"],\n",
    "        title=f\"Squared Absorption coefficient in function of the energy for {working_with}\"\n",
    "    )\n",
    "\n",
    "    linb_fig.update_layout(title_x=0.5)\n",
    "    linb_fig.update_xaxes(linecolor=\"black\", mirror=True)\n",
    "    linb_fig.update_yaxes(linecolor=\"black\", mirror=True)\n",
    "    linb_fig.show()"
   ]
  },
  {
   "cell_type": "markdown",
   "metadata": {},
   "source": [
    "For all the plots, we see a linear behaviour around $1.705$ $eV$ ($727.27$ $nm$) to $1.79$ $eV$ ($692.73$ $nm$) in the first slope, so we will do the adjustment in this parts. The other slopes will be ignored due to contributions of other layers."
   ]
  },
  {
   "cell_type": "markdown",
   "metadata": {},
   "source": [
    "### By Tauc Law"
   ]
  },
  {
   "cell_type": "code",
   "execution_count": 101,
   "metadata": {},
   "outputs": [
    {
     "data": {
      "image/png": "[encoded data removed]",
      "text/plain": [
       "<Figure size 1000x1000 with 1 Axes>"
      ]
     },
     "metadata": {},
     "output_type": "display_data"
    },
    {
     "name": "stdout",
     "output_type": "stream",
     "text": [
      "The band gap for m8_CdSe is 1.69 eV\n"
     ]
    },
    {
     "data": {
      "image/png": "[encoded data removed]",
      "text/plain": [
       "<Figure size 1000x1000 with 1 Axes>"
      ]
     },
     "metadata": {},
     "output_type": "display_data"
    },
    {
     "name": "stdout",
     "output_type": "stream",
     "text": [
      "The band gap for m9_CdSe is 1.69 eV\n"
     ]
    },
    {
     "data": {
      "image/png": "[encoded data removed]",
      "text/plain": [
       "<Figure size 1000x1000 with 1 Axes>"
      ]
     },
     "metadata": {},
     "output_type": "display_data"
    },
    {
     "name": "stdout",
     "output_type": "stream",
     "text": [
      "The band gap for m3_CdSe_CdCl2_muffle is 1.69 eV\n"
     ]
    },
    {
     "data": {
      "image/png": "[encoded data removed]",
      "text/plain": [
       "<Figure size 1000x1000 with 1 Axes>"
      ]
     },
     "metadata": {},
     "output_type": "display_data"
    },
    {
     "name": "stdout",
     "output_type": "stream",
     "text": [
      "The band gap for m4_CdSe_CdCl2 is 1.68 eV\n"
     ]
    },
    {
     "data": {
      "image/png": "[encoded data removed]",
      "text/plain": [
       "<Figure size 1000x1000 with 1 Axes>"
      ]
     },
     "metadata": {},
     "output_type": "display_data"
    },
    {
     "name": "stdout",
     "output_type": "stream",
     "text": [
      "The band gap for m6_CdSe_MgCl2 is 1.67 eV\n"
     ]
    },
    {
     "data": {
      "image/png": "[encoded data removed]",
      "text/plain": [
       "<Figure size 1000x1000 with 1 Axes>"
      ]
     },
     "metadata": {},
     "output_type": "display_data"
    },
    {
     "name": "stdout",
     "output_type": "stream",
     "text": [
      "The band gap for m5_CdSe_MgCl2_muffle is 1.71 eV\n"
     ]
    }
   ],
   "source": [
    "for x, y in energy_abs.items():\n",
    "    slope, inter, r, p, se = linregress(\n",
    "        x=y[(y[\"Energy (eV)\"] >= 1.705) & (y[\"Energy (eV)\"] <= 1.79)][\"Energy (eV)\"],\n",
    "        y=y[(y[\"Energy (eV)\"] >= 1.705) & (y[\"Energy (eV)\"] <= 1.79)][\"Alpha^2 (cm^-2)\"]\n",
    "    )\n",
    "\n",
    "    adj_fig, adj_ax = plt.subplots(figsize=(10, 10))\n",
    "    adj_ax.scatter(data=y, x=\"Energy (eV)\", y=\"Alpha^2 (cm^-2)\", color=\"orange\")\n",
    "    adj_ax.plot(\n",
    "        y[(y[\"Energy (eV)\"] >= 1.705) & (y[\"Energy (eV)\"] <= 1.79)][\"Energy (eV)\"],\n",
    "        slope * y[(y[\"Energy (eV)\"] >= 1.705) & (y[\"Energy (eV)\"] <= 1.79)][\"Energy (eV)\"] + inter,\n",
    "        color=\"red\"\n",
    "    )\n",
    "\n",
    "    working_with = y[\"Sample\"].loc[y.index[0]]\n",
    "    adj_ax.set_xlabel(\"Energy (eV)\")\n",
    "    adj_ax.set_ylabel(\"Alpha^-2 (hv)\")\n",
    "    plt.title(f\"Squared absorption coefficient vs. energy of {working_with} with fitting\")\n",
    "    plt.legend([\"Alpha^-2 (cm^-2)\", f\"{'{:.2e}'.format(slope)}*E+{'{:.2e}'.format(inter)}\"])\n",
    "    plt.xlim(1.2, 2.0)\n",
    "    plt.ylim(0, y[(y[\"Energy (eV)\"] >= 1.705) & (y[\"Energy (eV)\"] <= 1.85)][\"Alpha^2 (cm^-2)\"].max())\n",
    "    plt.show()\n",
    "\n",
    "    print(f\"The band gap for {working_with} is {round(-inter / slope, 2)} eV\")"
   ]
  },
  {
   "cell_type": "markdown",
   "metadata": {},
   "source": [
    "### By the derivative method"
   ]
  },
  {
   "cell_type": "markdown",
   "metadata": {},
   "source": [
    "Let´s start by concatenating the dataframes m_1m and m_2m"
   ]
  },
  {
   "cell_type": "code",
   "execution_count": 103,
   "metadata": {},
   "outputs": [
    {
     "data": {
      "text/html": [
       "<div>\n",
       "<style scoped>\n",
       "    .dataframe tbody tr th:only-of-type {\n",
       "        vertical-align: middle;\n",
       "    }\n",
       "\n",
       "    .dataframe tbody tr th {\n",
       "        vertical-align: top;\n",
       "    }\n",
       "\n",
       "    .dataframe thead th {\n",
       "        text-align: right;\n",
       "    }\n",
       "</style>\n",
       "<table border=\"1\" class=\"dataframe\">\n",
       "  <thead>\n",
       "    <tr style=\"text-align: right;\">\n",
       "      <th></th>\n",
       "      <th>Wavelength</th>\n",
       "      <th>Sample</th>\n",
       "      <th>Transmittance (%)</th>\n",
       "    </tr>\n",
       "  </thead>\n",
       "  <tbody>\n",
       "    <tr>\n",
       "      <th>75</th>\n",
       "      <td>725</td>\n",
       "      <td>m8_CdSe</td>\n",
       "      <td>50.0656</td>\n",
       "    </tr>\n",
       "    <tr>\n",
       "      <th>76</th>\n",
       "      <td>722</td>\n",
       "      <td>m8_CdSe</td>\n",
       "      <td>47.1445</td>\n",
       "    </tr>\n",
       "    <tr>\n",
       "      <th>77</th>\n",
       "      <td>719</td>\n",
       "      <td>m8_CdSe</td>\n",
       "      <td>44.0793</td>\n",
       "    </tr>\n",
       "    <tr>\n",
       "      <th>78</th>\n",
       "      <td>716</td>\n",
       "      <td>m8_CdSe</td>\n",
       "      <td>40.1454</td>\n",
       "    </tr>\n",
       "    <tr>\n",
       "      <th>79</th>\n",
       "      <td>713</td>\n",
       "      <td>m8_CdSe</td>\n",
       "      <td>36.2691</td>\n",
       "    </tr>\n",
       "    <tr>\n",
       "      <th>...</th>\n",
       "      <td>...</td>\n",
       "      <td>...</td>\n",
       "      <td>...</td>\n",
       "    </tr>\n",
       "    <tr>\n",
       "      <th>566</th>\n",
       "      <td>705</td>\n",
       "      <td>m5_CdSe_MgCl2_muffle</td>\n",
       "      <td>25.1720</td>\n",
       "    </tr>\n",
       "    <tr>\n",
       "      <th>567</th>\n",
       "      <td>702</td>\n",
       "      <td>m5_CdSe_MgCl2_muffle</td>\n",
       "      <td>22.8279</td>\n",
       "    </tr>\n",
       "    <tr>\n",
       "      <th>568</th>\n",
       "      <td>699</td>\n",
       "      <td>m5_CdSe_MgCl2_muffle</td>\n",
       "      <td>20.8847</td>\n",
       "    </tr>\n",
       "    <tr>\n",
       "      <th>569</th>\n",
       "      <td>696</td>\n",
       "      <td>m5_CdSe_MgCl2_muffle</td>\n",
       "      <td>19.5213</td>\n",
       "    </tr>\n",
       "    <tr>\n",
       "      <th>570</th>\n",
       "      <td>693</td>\n",
       "      <td>m5_CdSe_MgCl2_muffle</td>\n",
       "      <td>18.5583</td>\n",
       "    </tr>\n",
       "  </tbody>\n",
       "</table>\n",
       "<p>72 rows × 3 columns</p>\n",
       "</div>"
      ],
      "text/plain": [
       "     Wavelength                Sample  Transmittance (%)\n",
       "75          725               m8_CdSe            50.0656\n",
       "76          722               m8_CdSe            47.1445\n",
       "77          719               m8_CdSe            44.0793\n",
       "78          716               m8_CdSe            40.1454\n",
       "79          713               m8_CdSe            36.2691\n",
       "..          ...                   ...                ...\n",
       "566         705  m5_CdSe_MgCl2_muffle            25.1720\n",
       "567         702  m5_CdSe_MgCl2_muffle            22.8279\n",
       "568         699  m5_CdSe_MgCl2_muffle            20.8847\n",
       "569         696  m5_CdSe_MgCl2_muffle            19.5213\n",
       "570         693  m5_CdSe_MgCl2_muffle            18.5583\n",
       "\n",
       "[72 rows x 3 columns]"
      ]
     },
     "execution_count": 103,
     "metadata": {},
     "output_type": "execute_result"
    }
   ],
   "source": [
    "dev_df = pd.concat(\n",
    "    [m_1m[(m_1m[\"Wavelength\"] >= 692) & (m_1m[\"Wavelength\"] <= 727)],\n",
    "    m_2m[(m_2m[\"Wavelength\"] >= 692) & (m_2m[\"Wavelength\"] <= 727)]]\n",
    "    )\n",
    "\n",
    "dev_df"
   ]
  },
  {
   "cell_type": "code",
   "execution_count": 109,
   "metadata": {},
   "outputs": [
    {
     "data": {
      "text/html": [
       "<div>\n",
       "<style scoped>\n",
       "    .dataframe tbody tr th:only-of-type {\n",
       "        vertical-align: middle;\n",
       "    }\n",
       "\n",
       "    .dataframe tbody tr th {\n",
       "        vertical-align: top;\n",
       "    }\n",
       "\n",
       "    .dataframe thead th {\n",
       "        text-align: right;\n",
       "    }\n",
       "</style>\n",
       "<table border=\"1\" class=\"dataframe\">\n",
       "  <thead>\n",
       "    <tr style=\"text-align: right;\">\n",
       "      <th></th>\n",
       "      <th>Wavelength</th>\n",
       "      <th>Sample</th>\n",
       "      <th>Transmittance (%)</th>\n",
       "      <th>dT_dw (a. u.)</th>\n",
       "    </tr>\n",
       "  </thead>\n",
       "  <tbody>\n",
       "    <tr>\n",
       "      <th>75</th>\n",
       "      <td>725</td>\n",
       "      <td>m8_CdSe</td>\n",
       "      <td>50.0656</td>\n",
       "      <td>0.973700</td>\n",
       "    </tr>\n",
       "    <tr>\n",
       "      <th>76</th>\n",
       "      <td>722</td>\n",
       "      <td>m8_CdSe</td>\n",
       "      <td>47.1445</td>\n",
       "      <td>0.973700</td>\n",
       "    </tr>\n",
       "    <tr>\n",
       "      <th>77</th>\n",
       "      <td>719</td>\n",
       "      <td>m8_CdSe</td>\n",
       "      <td>44.0793</td>\n",
       "      <td>1.021733</td>\n",
       "    </tr>\n",
       "    <tr>\n",
       "      <th>78</th>\n",
       "      <td>716</td>\n",
       "      <td>m8_CdSe</td>\n",
       "      <td>40.1454</td>\n",
       "      <td>1.311300</td>\n",
       "    </tr>\n",
       "    <tr>\n",
       "      <th>79</th>\n",
       "      <td>713</td>\n",
       "      <td>m8_CdSe</td>\n",
       "      <td>36.2691</td>\n",
       "      <td>1.292100</td>\n",
       "    </tr>\n",
       "    <tr>\n",
       "      <th>...</th>\n",
       "      <td>...</td>\n",
       "      <td>...</td>\n",
       "      <td>...</td>\n",
       "      <td>...</td>\n",
       "    </tr>\n",
       "    <tr>\n",
       "      <th>566</th>\n",
       "      <td>705</td>\n",
       "      <td>m5_CdSe_MgCl2_muffle</td>\n",
       "      <td>25.1720</td>\n",
       "      <td>1.054100</td>\n",
       "    </tr>\n",
       "    <tr>\n",
       "      <th>567</th>\n",
       "      <td>702</td>\n",
       "      <td>m5_CdSe_MgCl2_muffle</td>\n",
       "      <td>22.8279</td>\n",
       "      <td>0.781367</td>\n",
       "    </tr>\n",
       "    <tr>\n",
       "      <th>568</th>\n",
       "      <td>699</td>\n",
       "      <td>m5_CdSe_MgCl2_muffle</td>\n",
       "      <td>20.8847</td>\n",
       "      <td>0.647733</td>\n",
       "    </tr>\n",
       "    <tr>\n",
       "      <th>569</th>\n",
       "      <td>696</td>\n",
       "      <td>m5_CdSe_MgCl2_muffle</td>\n",
       "      <td>19.5213</td>\n",
       "      <td>0.454467</td>\n",
       "    </tr>\n",
       "    <tr>\n",
       "      <th>570</th>\n",
       "      <td>693</td>\n",
       "      <td>m5_CdSe_MgCl2_muffle</td>\n",
       "      <td>18.5583</td>\n",
       "      <td>0.321000</td>\n",
       "    </tr>\n",
       "  </tbody>\n",
       "</table>\n",
       "<p>72 rows × 4 columns</p>\n",
       "</div>"
      ],
      "text/plain": [
       "     Wavelength                Sample  Transmittance (%)  dT_dw (a. u.)\n",
       "75          725               m8_CdSe            50.0656       0.973700\n",
       "76          722               m8_CdSe            47.1445       0.973700\n",
       "77          719               m8_CdSe            44.0793       1.021733\n",
       "78          716               m8_CdSe            40.1454       1.311300\n",
       "79          713               m8_CdSe            36.2691       1.292100\n",
       "..          ...                   ...                ...            ...\n",
       "566         705  m5_CdSe_MgCl2_muffle            25.1720       1.054100\n",
       "567         702  m5_CdSe_MgCl2_muffle            22.8279       0.781367\n",
       "568         699  m5_CdSe_MgCl2_muffle            20.8847       0.647733\n",
       "569         696  m5_CdSe_MgCl2_muffle            19.5213       0.454467\n",
       "570         693  m5_CdSe_MgCl2_muffle            18.5583       0.321000\n",
       "\n",
       "[72 rows x 4 columns]"
      ]
     },
     "execution_count": 109,
     "metadata": {},
     "output_type": "execute_result"
    }
   ],
   "source": [
    "for name in samps:\n",
    "    w = dev_df[\"Wavelength\"].to_numpy()\n",
    "    t = dev_df[\"Transmittance (%)\"].to_numpy()\n",
    "    dev_df[\"dT_dw (a. u.)\"] = np.diff(t, prepend=t[1]) / np.diff(w, prepend=w[1])\n",
    "\n",
    "dev_df\n"
   ]
  },
  {
   "cell_type": "markdown",
   "metadata": {},
   "source": [
    "Using pandas to calculate the energy gap and locating it in a graph"
   ]
  },
  {
   "cell_type": "code",
   "execution_count": 184,
   "metadata": {},
   "outputs": [
    {
     "name": "stderr",
     "output_type": "stream",
     "text": [
      "C:\\Users\\Memo\\AppData\\Local\\Temp\\ipykernel_14420\\281556554.py:15: FutureWarning:\n",
      "\n",
      "Calling float on a single element Series is deprecated and will raise a TypeError in the future. Use float(ser.iloc[0]) instead\n",
      "\n",
      "C:\\Users\\Memo\\AppData\\Local\\Temp\\ipykernel_14420\\281556554.py:20: FutureWarning:\n",
      "\n",
      "Calling float on a single element Series is deprecated and will raise a TypeError in the future. Use float(ser.iloc[0]) instead\n",
      "\n",
      "C:\\Users\\Memo\\AppData\\Local\\Temp\\ipykernel_14420\\281556554.py:15: FutureWarning:\n",
      "\n",
      "Calling float on a single element Series is deprecated and will raise a TypeError in the future. Use float(ser.iloc[0]) instead\n",
      "\n",
      "C:\\Users\\Memo\\AppData\\Local\\Temp\\ipykernel_14420\\281556554.py:20: FutureWarning:\n",
      "\n",
      "Calling float on a single element Series is deprecated and will raise a TypeError in the future. Use float(ser.iloc[0]) instead\n",
      "\n",
      "C:\\Users\\Memo\\AppData\\Local\\Temp\\ipykernel_14420\\281556554.py:15: FutureWarning:\n",
      "\n",
      "Calling float on a single element Series is deprecated and will raise a TypeError in the future. Use float(ser.iloc[0]) instead\n",
      "\n",
      "C:\\Users\\Memo\\AppData\\Local\\Temp\\ipykernel_14420\\281556554.py:20: FutureWarning:\n",
      "\n",
      "Calling float on a single element Series is deprecated and will raise a TypeError in the future. Use float(ser.iloc[0]) instead\n",
      "\n",
      "C:\\Users\\Memo\\AppData\\Local\\Temp\\ipykernel_14420\\281556554.py:15: FutureWarning:\n",
      "\n",
      "Calling float on a single element Series is deprecated and will raise a TypeError in the future. Use float(ser.iloc[0]) instead\n",
      "\n",
      "C:\\Users\\Memo\\AppData\\Local\\Temp\\ipykernel_14420\\281556554.py:20: FutureWarning:\n",
      "\n",
      "Calling float on a single element Series is deprecated and will raise a TypeError in the future. Use float(ser.iloc[0]) instead\n",
      "\n",
      "C:\\Users\\Memo\\AppData\\Local\\Temp\\ipykernel_14420\\281556554.py:15: FutureWarning:\n",
      "\n",
      "Calling float on a single element Series is deprecated and will raise a TypeError in the future. Use float(ser.iloc[0]) instead\n",
      "\n",
      "C:\\Users\\Memo\\AppData\\Local\\Temp\\ipykernel_14420\\281556554.py:20: FutureWarning:\n",
      "\n",
      "Calling float on a single element Series is deprecated and will raise a TypeError in the future. Use float(ser.iloc[0]) instead\n",
      "\n",
      "C:\\Users\\Memo\\AppData\\Local\\Temp\\ipykernel_14420\\281556554.py:15: FutureWarning:\n",
      "\n",
      "Calling float on a single element Series is deprecated and will raise a TypeError in the future. Use float(ser.iloc[0]) instead\n",
      "\n",
      "C:\\Users\\Memo\\AppData\\Local\\Temp\\ipykernel_14420\\281556554.py:20: FutureWarning:\n",
      "\n",
      "Calling float on a single element Series is deprecated and will raise a TypeError in the future. Use float(ser.iloc[0]) instead\n",
      "\n",
      "c:\\Users\\Memo\\Documents\\Esfm\\Python ESFM\\BG_CdSe_SS\\.env\\Lib\\site-packages\\matplotlib\\text.py:1475: FutureWarning:\n",
      "\n",
      "Calling float on a single element Series is deprecated and will raise a TypeError in the future. Use float(ser.iloc[0]) instead\n",
      "\n",
      "c:\\Users\\Memo\\Documents\\Esfm\\Python ESFM\\BG_CdSe_SS\\.env\\Lib\\site-packages\\matplotlib\\text.py:1477: FutureWarning:\n",
      "\n",
      "Calling float on a single element Series is deprecated and will raise a TypeError in the future. Use float(ser.iloc[0]) instead\n",
      "\n",
      "c:\\Users\\Memo\\Documents\\Esfm\\Python ESFM\\BG_CdSe_SS\\.env\\Lib\\site-packages\\matplotlib\\text.py:905: FutureWarning:\n",
      "\n",
      "Calling float on a single element Series is deprecated and will raise a TypeError in the future. Use float(ser.iloc[0]) instead\n",
      "\n",
      "c:\\Users\\Memo\\Documents\\Esfm\\Python ESFM\\BG_CdSe_SS\\.env\\Lib\\site-packages\\matplotlib\\text.py:906: FutureWarning:\n",
      "\n",
      "Calling float on a single element Series is deprecated and will raise a TypeError in the future. Use float(ser.iloc[0]) instead\n",
      "\n",
      "c:\\Users\\Memo\\Documents\\Esfm\\Python ESFM\\BG_CdSe_SS\\.env\\Lib\\site-packages\\matplotlib\\text.py:762: FutureWarning:\n",
      "\n",
      "Calling float on a single element Series is deprecated and will raise a TypeError in the future. Use float(ser.iloc[0]) instead\n",
      "\n",
      "c:\\Users\\Memo\\Documents\\Esfm\\Python ESFM\\BG_CdSe_SS\\.env\\Lib\\site-packages\\matplotlib\\text.py:763: FutureWarning:\n",
      "\n",
      "Calling float on a single element Series is deprecated and will raise a TypeError in the future. Use float(ser.iloc[0]) instead\n",
      "\n"
     ]
    },
    {
     "name": "stdout",
     "output_type": "stream",
     "text": [
      "For m8_CdSe the energy gap is E_g=1.73 eV.\n",
      "For m9_CdSe the energy gap is E_g=1.74 eV.\n",
      "For m3_CdSe_CdCl2_muffle the energy gap is E_g=1.73 eV.\n",
      "For m4_CdSe_CdCl2 the energy gap is E_g=1.74 eV.\n",
      "For m6_CdSe_MgCl2 the energy gap is E_g=1.74 eV.\n",
      "For m5_CdSe_MgCl2_muffle the energy gap is E_g=1.74 eV.\n"
     ]
    },
    {
     "data": {
      "image/png": "[encoded data removed]",
      "text/plain": [
       "<Figure size 1000x1000 with 1 Axes>"
      ]
     },
     "metadata": {},
     "output_type": "display_data"
    }
   ],
   "source": [
    "# Let's start by separating the thin films by name\n",
    "tf_names = dev_df[\"Sample\"].unique().tolist()\n",
    "\n",
    "devg_plt, ax3 = plt.subplots(figsize=(10, 10))\n",
    "dtdw_plot = sns.lineplot(\n",
    "    data=dev_df,\n",
    "    x=dev_df[\"Wavelength\"],\n",
    "    y=dev_df[\"dT_dw (a. u.)\"],\n",
    "    hue=\"Sample\"\n",
    ")\n",
    "\n",
    "for tf in tf_names:\n",
    "    max_dev = dev_df[dev_df[\"Sample\"] == tf][\"dT_dw (a. u.)\"].max()\n",
    "    max_wl = dev_df.loc[dev_df[\"dT_dw (a. u.)\"] == max_dev]\n",
    "    E_g = round(float(1240 / max_wl[\"Wavelength\"]), 2)\n",
    "    print(f\"For {tf} the energy gap is E_g={E_g} eV.\")\n",
    "\n",
    "    # Locating the wavelengths in the graph\n",
    "    plt.annotate(\n",
    "        f\"{float(max_wl['Wavelength'])} nm\",\n",
    "        xy=(max_wl[\"Wavelength\"], max_wl[\"dT_dw (a. u.)\"]),\n",
    "        xytext=(max_wl[\"Wavelength\"] + 2, max_wl[\"dT_dw (a. u.)\"] + 0.1),\n",
    "        arrowprops=dict(arrowstyle=\"wedge\", connectionstyle=\"arc3,rad=0\")\n",
    "        )\n",
    "\n",
    "plt.xlabel(\"Wavelength (nm)\")\n",
    "plt.ylim(0, 2.75)\n",
    "plt.show()"
   ]
  },
  {
   "cell_type": "markdown",
   "metadata": {},
   "source": [
    "Using Plotly to locate the energy gaps"
   ]
  },
  {
   "cell_type": "code",
   "execution_count": 118,
   "metadata": {},
   "outputs": [
    {
     "data": {
      "application/vnd.plotly.v1+json": {
       "config": {
        "plotlyServerURL": "https://plot.ly"
       },
       "data": [
        {
         "hovertemplate": "Sample=m8_CdSe<br>Wavelength=%{x}<br>dT_dw (a. u.)=%{y}<extra></extra>",
         "legendgroup": "m8_CdSe",
         "line": {
          "color": "#636efa",
          "dash": "solid"
         },
         "marker": {
          "symbol": "circle"
         },
         "mode": "lines+markers",
         "name": "m8_CdSe",
         "orientation": "v",
         "showlegend": true,
         "type": "scatter",
         "x": [
          725,
          722,
          719,
          716,
          713,
          710,
          707,
          704,
          701,
          698,
          695,
          692
         ],
         "xaxis": "x",
         "y": [
          0.9737000000000009,
          0.9737000000000009,
          1.0217333333333325,
          1.3113000000000004,
          1.2921000000000002,
          1.064233333333334,
          0.985066666666666,
          0.7730333333333341,
          0.5550666666666663,
          0.4568999999999998,
          0.31230000000000047,
          0.24780000000000038
         ],
         "yaxis": "y"
        },
        {
         "hovertemplate": "Sample=m9_CdSe<br>Wavelength=%{x}<br>dT_dw (a. u.)=%{y}<extra></extra>",
         "legendgroup": "m9_CdSe",
         "line": {
          "color": "#EF553B",
          "dash": "solid"
         },
         "marker": {
          "symbol": "circle"
         },
         "mode": "lines+markers",
         "name": "m9_CdSe",
         "orientation": "v",
         "showlegend": true,
         "type": "scatter",
         "x": [
          725,
          722,
          719,
          716,
          713,
          710,
          707,
          704,
          701,
          698,
          695,
          692
         ],
         "xaxis": "x",
         "y": [
          0.977148484848485,
          0.9727999999999994,
          1.0471333333333348,
          1.3191999999999997,
          1.3335333333333328,
          1.1104999999999994,
          1.0182666666666667,
          0.8316666666666682,
          0.5761333333333324,
          0.48953333333333404,
          0.34123333333333267,
          0.27030000000000004
         ],
         "yaxis": "y"
        },
        {
         "hovertemplate": "Sample=m3_CdSe_CdCl2_muffle<br>Wavelength=%{x}<br>dT_dw (a. u.)=%{y}<extra></extra>",
         "legendgroup": "m3_CdSe_CdCl2_muffle",
         "line": {
          "color": "#00cc96",
          "dash": "solid"
         },
         "marker": {
          "symbol": "circle"
         },
         "mode": "lines+markers",
         "name": "m3_CdSe_CdCl2_muffle",
         "orientation": "v",
         "showlegend": true,
         "type": "scatter",
         "x": [
          726,
          723,
          720,
          717,
          714,
          711,
          708,
          705,
          702,
          699,
          696,
          693
         ],
         "xaxis": "x",
         "y": [
          0.5376029411764707,
          1.2924999999999993,
          1.3779000000000015,
          1.387366666666665,
          1.2503666666666682,
          0.9657333333333327,
          0.7537000000000008,
          0.6510999999999996,
          0.44979999999999976,
          0.33523333333333366,
          0.22650000000000028,
          0.16706666666666573
         ],
         "yaxis": "y"
        },
        {
         "hovertemplate": "Sample=m4_CdSe_CdCl2<br>Wavelength=%{x}<br>dT_dw (a. u.)=%{y}<extra></extra>",
         "legendgroup": "m4_CdSe_CdCl2",
         "line": {
          "color": "#ab63fa",
          "dash": "solid"
         },
         "marker": {
          "symbol": "circle"
         },
         "mode": "lines+markers",
         "name": "m4_CdSe_CdCl2",
         "orientation": "v",
         "showlegend": true,
         "type": "scatter",
         "x": [
          726,
          723,
          720,
          717,
          714,
          711,
          708,
          705,
          702,
          699,
          696,
          693
         ],
         "xaxis": "x",
         "y": [
          0.3435060606060606,
          0.6543000000000004,
          0.8035666666666662,
          0.9353333333333337,
          0.9937000000000005,
          0.8379666666666665,
          0.6497333333333332,
          0.5580666666666664,
          0.41616666666666663,
          0.33500000000000024,
          0.2439,
          0.1839666666666666
         ],
         "yaxis": "y"
        },
        {
         "hovertemplate": "Sample=m6_CdSe_MgCl2<br>Wavelength=%{x}<br>dT_dw (a. u.)=%{y}<extra></extra>",
         "legendgroup": "m6_CdSe_MgCl2",
         "line": {
          "color": "#FFA15A",
          "dash": "solid"
         },
         "marker": {
          "symbol": "circle"
         },
         "mode": "lines+markers",
         "name": "m6_CdSe_MgCl2",
         "orientation": "v",
         "showlegend": true,
         "type": "scatter",
         "x": [
          726,
          723,
          720,
          717,
          714,
          711,
          708,
          705,
          702,
          699,
          696,
          693
         ],
         "xaxis": "x",
         "y": [
          0.7495787878787877,
          0.4165666666666657,
          0.5805000000000007,
          0.7519333333333323,
          0.9070999999999998,
          0.801533333333334,
          0.6402666666666667,
          0.5578000000000003,
          0.42496666666666627,
          0.3579666666666661,
          0.26510000000000034,
          0.19896666666666718
         ],
         "yaxis": "y"
        },
        {
         "hovertemplate": "Sample=m5_CdSe_MgCl2_muffle<br>Wavelength=%{x}<br>dT_dw (a. u.)=%{y}<extra></extra>",
         "legendgroup": "m5_CdSe_MgCl2_muffle",
         "line": {
          "color": "#19d3f3",
          "dash": "solid"
         },
         "marker": {
          "symbol": "circle"
         },
         "mode": "lines+markers",
         "name": "m5_CdSe_MgCl2_muffle",
         "orientation": "v",
         "showlegend": true,
         "type": "scatter",
         "x": [
          726,
          723,
          720,
          717,
          714,
          711,
          708,
          705,
          702,
          699,
          696,
          693
         ],
         "xaxis": "x",
         "y": [
          1.2693606060606062,
          1.264433333333334,
          1.6930000000000003,
          2.1406333333333336,
          2.2352333333333334,
          1.7652666666666665,
          1.2983666666666664,
          1.0540999999999994,
          0.781366666666667,
          0.6477333333333336,
          0.4544666666666662,
          0.32100000000000034
         ],
         "yaxis": "y"
        }
       ],
       "layout": {
        "legend": {
         "title": {
          "text": "Sample"
         },
         "tracegroupgap": 0
        },
        "template": {
         "data": {
          "bar": [
           {
            "error_x": {
             "color": "#2a3f5f"
            },
            "error_y": {
             "color": "#2a3f5f"
            },
            "marker": {
             "line": {
              "color": "#E5ECF6",
              "width": 0.5
             },
             "pattern": {
              "fillmode": "overlay",
              "size": 10,
              "solidity": 0.2
             }
            },
            "type": "bar"
           }
          ],
          "barpolar": [
           {
            "marker": {
             "line": {
              "color": "#E5ECF6",
              "width": 0.5
             },
             "pattern": {
              "fillmode": "overlay",
              "size": 10,
              "solidity": 0.2
             }
            },
            "type": "barpolar"
           }
          ],
          "carpet": [
           {
            "aaxis": {
             "endlinecolor": "#2a3f5f",
             "gridcolor": "white",
             "linecolor": "white",
             "minorgridcolor": "white",
             "startlinecolor": "#2a3f5f"
            },
            "baxis": {
             "endlinecolor": "#2a3f5f",
             "gridcolor": "white",
             "linecolor": "white",
             "minorgridcolor": "white",
             "startlinecolor": "#2a3f5f"
            },
            "type": "carpet"
           }
          ],
          "choropleth": [
           {
            "colorbar": {
             "outlinewidth": 0,
             "ticks": ""
            },
            "type": "choropleth"
           }
          ],
          "contour": [
           {
            "colorbar": {
             "outlinewidth": 0,
             "ticks": ""
            },
            "colorscale": [
             [
              0,
              "#0d0887"
             ],
             [
              0.1111111111111111,
              "#46039f"
             ],
             [
              0.2222222222222222,
              "#7201a8"
             ],
             [
              0.3333333333333333,
              "#9c179e"
             ],
             [
              0.4444444444444444,
              "#bd3786"
             ],
             [
              0.5555555555555556,
              "#d8576b"
             ],
             [
              0.6666666666666666,
              "#ed7953"
             ],
             [
              0.7777777777777778,
              "#fb9f3a"
             ],
             [
              0.8888888888888888,
              "#fdca26"
             ],
             [
              1,
              "#f0f921"
             ]
            ],
            "type": "contour"
           }
          ],
          "contourcarpet": [
           {
            "colorbar": {
             "outlinewidth": 0,
             "ticks": ""
            },
            "type": "contourcarpet"
           }
          ],
          "heatmap": [
           {
            "colorbar": {
             "outlinewidth": 0,
             "ticks": ""
            },
            "colorscale": [
             [
              0,
              "#0d0887"
             ],
             [
              0.1111111111111111,
              "#46039f"
             ],
             [
              0.2222222222222222,
              "#7201a8"
             ],
             [
              0.3333333333333333,
              "#9c179e"
             ],
             [
              0.4444444444444444,
              "#bd3786"
             ],
             [
              0.5555555555555556,
              "#d8576b"
             ],
             [
              0.6666666666666666,
              "#ed7953"
             ],
             [
              0.7777777777777778,
              "#fb9f3a"
             ],
             [
              0.8888888888888888,
              "#fdca26"
             ],
             [
              1,
              "#f0f921"
             ]
            ],
            "type": "heatmap"
           }
          ],
          "heatmapgl": [
           {
            "colorbar": {
             "outlinewidth": 0,
             "ticks": ""
            },
            "colorscale": [
             [
              0,
              "#0d0887"
             ],
             [
              0.1111111111111111,
              "#46039f"
             ],
             [
              0.2222222222222222,
              "#7201a8"
             ],
             [
              0.3333333333333333,
              "#9c179e"
             ],
             [
              0.4444444444444444,
              "#bd3786"
             ],
             [
              0.5555555555555556,
              "#d8576b"
             ],
             [
              0.6666666666666666,
              "#ed7953"
             ],
             [
              0.7777777777777778,
              "#fb9f3a"
             ],
             [
              0.8888888888888888,
              "#fdca26"
             ],
             [
              1,
              "#f0f921"
             ]
            ],
            "type": "heatmapgl"
           }
          ],
          "histogram": [
           {
            "marker": {
             "pattern": {
              "fillmode": "overlay",
              "size": 10,
              "solidity": 0.2
             }
            },
            "type": "histogram"
           }
          ],
          "histogram2d": [
           {
            "colorbar": {
             "outlinewidth": 0,
             "ticks": ""
            },
            "colorscale": [
             [
              0,
              "#0d0887"
             ],
             [
              0.1111111111111111,
              "#46039f"
             ],
             [
              0.2222222222222222,
              "#7201a8"
             ],
             [
              0.3333333333333333,
              "#9c179e"
             ],
             [
              0.4444444444444444,
              "#bd3786"
             ],
             [
              0.5555555555555556,
              "#d8576b"
             ],
             [
              0.6666666666666666,
              "#ed7953"
             ],
             [
              0.7777777777777778,
              "#fb9f3a"
             ],
             [
              0.8888888888888888,
              "#fdca26"
             ],
             [
              1,
              "#f0f921"
             ]
            ],
            "type": "histogram2d"
           }
          ],
          "histogram2dcontour": [
           {
            "colorbar": {
             "outlinewidth": 0,
             "ticks": ""
            },
            "colorscale": [
             [
              0,
              "#0d0887"
             ],
             [
              0.1111111111111111,
              "#46039f"
             ],
             [
              0.2222222222222222,
              "#7201a8"
             ],
             [
              0.3333333333333333,
              "#9c179e"
             ],
             [
              0.4444444444444444,
              "#bd3786"
             ],
             [
              0.5555555555555556,
              "#d8576b"
             ],
             [
              0.6666666666666666,
              "#ed7953"
             ],
             [
              0.7777777777777778,
              "#fb9f3a"
             ],
             [
              0.8888888888888888,
              "#fdca26"
             ],
             [
              1,
              "#f0f921"
             ]
            ],
            "type": "histogram2dcontour"
           }
          ],
          "mesh3d": [
           {
            "colorbar": {
             "outlinewidth": 0,
             "ticks": ""
            },
            "type": "mesh3d"
           }
          ],
          "parcoords": [
           {
            "line": {
             "colorbar": {
              "outlinewidth": 0,
              "ticks": ""
             }
            },
            "type": "parcoords"
           }
          ],
          "pie": [
           {
            "automargin": true,
            "type": "pie"
           }
          ],
          "scatter": [
           {
            "fillpattern": {
             "fillmode": "overlay",
             "size": 10,
             "solidity": 0.2
            },
            "type": "scatter"
           }
          ],
          "scatter3d": [
           {
            "line": {
             "colorbar": {
              "outlinewidth": 0,
              "ticks": ""
             }
            },
            "marker": {
             "colorbar": {
              "outlinewidth": 0,
              "ticks": ""
             }
            },
            "type": "scatter3d"
           }
          ],
          "scattercarpet": [
           {
            "marker": {
             "colorbar": {
              "outlinewidth": 0,
              "ticks": ""
             }
            },
            "type": "scattercarpet"
           }
          ],
          "scattergeo": [
           {
            "marker": {
             "colorbar": {
              "outlinewidth": 0,
              "ticks": ""
             }
            },
            "type": "scattergeo"
           }
          ],
          "scattergl": [
           {
            "marker": {
             "colorbar": {
              "outlinewidth": 0,
              "ticks": ""
             }
            },
            "type": "scattergl"
           }
          ],
          "scattermapbox": [
           {
            "marker": {
             "colorbar": {
              "outlinewidth": 0,
              "ticks": ""
             }
            },
            "type": "scattermapbox"
           }
          ],
          "scatterpolar": [
           {
            "marker": {
             "colorbar": {
              "outlinewidth": 0,
              "ticks": ""
             }
            },
            "type": "scatterpolar"
           }
          ],
          "scatterpolargl": [
           {
            "marker": {
             "colorbar": {
              "outlinewidth": 0,
              "ticks": ""
             }
            },
            "type": "scatterpolargl"
           }
          ],
          "scatterternary": [
           {
            "marker": {
             "colorbar": {
              "outlinewidth": 0,
              "ticks": ""
             }
            },
            "type": "scatterternary"
           }
          ],
          "surface": [
           {
            "colorbar": {
             "outlinewidth": 0,
             "ticks": ""
            },
            "colorscale": [
             [
              0,
              "#0d0887"
             ],
             [
              0.1111111111111111,
              "#46039f"
             ],
             [
              0.2222222222222222,
              "#7201a8"
             ],
             [
              0.3333333333333333,
              "#9c179e"
             ],
             [
              0.4444444444444444,
              "#bd3786"
             ],
             [
              0.5555555555555556,
              "#d8576b"
             ],
             [
              0.6666666666666666,
              "#ed7953"
             ],
             [
              0.7777777777777778,
              "#fb9f3a"
             ],
             [
              0.8888888888888888,
              "#fdca26"
             ],
             [
              1,
              "#f0f921"
             ]
            ],
            "type": "surface"
           }
          ],
          "table": [
           {
            "cells": {
             "fill": {
              "color": "#EBF0F8"
             },
             "line": {
              "color": "white"
             }
            },
            "header": {
             "fill": {
              "color": "#C8D4E3"
             },
             "line": {
              "color": "white"
             }
            },
            "type": "table"
           }
          ]
         },
         "layout": {
          "annotationdefaults": {
           "arrowcolor": "#2a3f5f",
           "arrowhead": 0,
           "arrowwidth": 1
          },
          "autotypenumbers": "strict",
          "coloraxis": {
           "colorbar": {
            "outlinewidth": 0,
            "ticks": ""
           }
          },
          "colorscale": {
           "diverging": [
            [
             0,
             "#8e0152"
            ],
            [
             0.1,
             "#c51b7d"
            ],
            [
             0.2,
             "#de77ae"
            ],
            [
             0.3,
             "#f1b6da"
            ],
            [
             0.4,
             "#fde0ef"
            ],
            [
             0.5,
             "#f7f7f7"
            ],
            [
             0.6,
             "#e6f5d0"
            ],
            [
             0.7,
             "#b8e186"
            ],
            [
             0.8,
             "#7fbc41"
            ],
            [
             0.9,
             "#4d9221"
            ],
            [
             1,
             "#276419"
            ]
           ],
           "sequential": [
            [
             0,
             "#0d0887"
            ],
            [
             0.1111111111111111,
             "#46039f"
            ],
            [
             0.2222222222222222,
             "#7201a8"
            ],
            [
             0.3333333333333333,
             "#9c179e"
            ],
            [
             0.4444444444444444,
             "#bd3786"
            ],
            [
             0.5555555555555556,
             "#d8576b"
            ],
            [
             0.6666666666666666,
             "#ed7953"
            ],
            [
             0.7777777777777778,
             "#fb9f3a"
            ],
            [
             0.8888888888888888,
             "#fdca26"
            ],
            [
             1,
             "#f0f921"
            ]
           ],
           "sequentialminus": [
            [
             0,
             "#0d0887"
            ],
            [
             0.1111111111111111,
             "#46039f"
            ],
            [
             0.2222222222222222,
             "#7201a8"
            ],
            [
             0.3333333333333333,
             "#9c179e"
            ],
            [
             0.4444444444444444,
             "#bd3786"
            ],
            [
             0.5555555555555556,
             "#d8576b"
            ],
            [
             0.6666666666666666,
             "#ed7953"
            ],
            [
             0.7777777777777778,
             "#fb9f3a"
            ],
            [
             0.8888888888888888,
             "#fdca26"
            ],
            [
             1,
             "#f0f921"
            ]
           ]
          },
          "colorway": [
           "#636efa",
           "#EF553B",
           "#00cc96",
           "#ab63fa",
           "#FFA15A",
           "#19d3f3",
           "#FF6692",
           "#B6E880",
           "#FF97FF",
           "#FECB52"
          ],
          "font": {
           "color": "#2a3f5f"
          },
          "geo": {
           "bgcolor": "white",
           "lakecolor": "white",
           "landcolor": "#E5ECF6",
           "showlakes": true,
           "showland": true,
           "subunitcolor": "white"
          },
          "hoverlabel": {
           "align": "left"
          },
          "hovermode": "closest",
          "mapbox": {
           "style": "light"
          },
          "paper_bgcolor": "white",
          "plot_bgcolor": "#E5ECF6",
          "polar": {
           "angularaxis": {
            "gridcolor": "white",
            "linecolor": "white",
            "ticks": ""
           },
           "bgcolor": "#E5ECF6",
           "radialaxis": {
            "gridcolor": "white",
            "linecolor": "white",
            "ticks": ""
           }
          },
          "scene": {
           "xaxis": {
            "backgroundcolor": "#E5ECF6",
            "gridcolor": "white",
            "gridwidth": 2,
            "linecolor": "white",
            "showbackground": true,
            "ticks": "",
            "zerolinecolor": "white"
           },
           "yaxis": {
            "backgroundcolor": "#E5ECF6",
            "gridcolor": "white",
            "gridwidth": 2,
            "linecolor": "white",
            "showbackground": true,
            "ticks": "",
            "zerolinecolor": "white"
           },
           "zaxis": {
            "backgroundcolor": "#E5ECF6",
            "gridcolor": "white",
            "gridwidth": 2,
            "linecolor": "white",
            "showbackground": true,
            "ticks": "",
            "zerolinecolor": "white"
           }
          },
          "shapedefaults": {
           "line": {
            "color": "#2a3f5f"
           }
          },
          "ternary": {
           "aaxis": {
            "gridcolor": "white",
            "linecolor": "white",
            "ticks": ""
           },
           "baxis": {
            "gridcolor": "white",
            "linecolor": "white",
            "ticks": ""
           },
           "bgcolor": "#E5ECF6",
           "caxis": {
            "gridcolor": "white",
            "linecolor": "white",
            "ticks": ""
           }
          },
          "title": {
           "x": 0.05
          },
          "xaxis": {
           "automargin": true,
           "gridcolor": "white",
           "linecolor": "white",
           "ticks": "",
           "title": {
            "standoff": 15
           },
           "zerolinecolor": "white",
           "zerolinewidth": 2
          },
          "yaxis": {
           "automargin": true,
           "gridcolor": "white",
           "linecolor": "white",
           "ticks": "",
           "title": {
            "standoff": 15
           },
           "zerolinecolor": "white",
           "zerolinewidth": 2
          }
         }
        },
        "title": {
         "text": "Derivative of the transmittance spectra vs Wavelength for CdSe thin films (Plotly)",
         "x": 0.5
        },
        "xaxis": {
         "anchor": "y",
         "domain": [
          0,
          1
         ],
         "linecolor": "black",
         "linewidth": 1,
         "mirror": true,
         "title": {
          "text": "Wavelength (nm)"
         }
        },
        "yaxis": {
         "anchor": "x",
         "domain": [
          0,
          1
         ],
         "linecolor": "black",
         "linewidth": 1,
         "mirror": true,
         "title": {
          "text": "dT_dw (a. u.)"
         }
        }
       }
      }
     },
     "metadata": {},
     "output_type": "display_data"
    }
   ],
   "source": [
    "dev_graph = px.line(\n",
    "    dev_df,\n",
    "    x=\"Wavelength\",\n",
    "    y=\"dT_dw (a. u.)\",\n",
    "    color=\"Sample\",\n",
    "    markers=True,\n",
    "    title=\"Derivative of the transmittance spectra vs Wavelength for CdSe thin films (Plotly)\"\n",
    ")\n",
    "\n",
    "dev_graph.update_layout(title_x=0.5, xaxis_title=\"Wavelength (nm)\")\n",
    "dev_graph.update_xaxes(linewidth=1, linecolor=\"black\", mirror=True)\n",
    "dev_graph.update_yaxes(linewidth=1, linecolor=\"black\", mirror=True)\n",
    "dev_graph.show()"
   ]
  }
 ],
 "metadata": {
  "kernelspec": {
   "display_name": ".env",
   "language": "python",
   "name": "python3"
  },
  "language_info": {
   "codemirror_mode": {
    "name": "ipython",
    "version": 3
   },
   "file_extension": ".py",
   "mimetype": "text/x-python",
   "name": "python",
   "nbconvert_exporter": "python",
   "pygments_lexer": "ipython3",
   "version": "3.11.3"
  }
 },
 "nbformat": 4,
 "nbformat_minor": 2
}
